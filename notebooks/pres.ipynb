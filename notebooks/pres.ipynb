{
 "cells": [
  {
   "cell_type": "code",
   "execution_count": 1,
   "id": "b6020d65",
   "metadata": {},
   "outputs": [],
   "source": [
    "import pandas as pd\n",
    "import geopandas as gpd\n",
    "\n",
    "import numpy as np\n",
    "import matplotlib.pyplot as plt\n",
    "\n",
    "from shapely import wkt\n",
    "\n",
    "import re"
   ]
  },
  {
   "cell_type": "code",
   "execution_count": 2,
   "id": "ca48ecfd",
   "metadata": {},
   "outputs": [],
   "source": [
    "colnames = ['a', 'b', 'c', 'd', 'e', 'f',\n",
    "       'g', 'h', 'i', 'j',\n",
    "       'k', \n",
    "        'AD', 'ED', 'County', 'EDAD Status', 'Event', 'Party/Independent Body',\n",
    "       'Office/Position Title', 'District Key', 'VoteFor', 'Unit Name',\n",
    "       'Tally']\n",
    "\n",
    "good_cols = ['AD', 'ED', 'County', 'EDAD Status', 'Event', 'Party/Independent Body',\n",
    "       'Office/Position Title', 'District Key', 'VoteFor', 'Unit Name',\n",
    "       'Tally']"
   ]
  },
  {
   "cell_type": "code",
   "execution_count": 3,
   "id": "3b7c4340",
   "metadata": {},
   "outputs": [],
   "source": [
    "def import_clean(filepath,good_cols,colnames):\n",
    "    df = pd.read_csv(filepath,header=None, names=colnames)\n",
    "    df = df[good_cols]\n",
    "    df['precinct'] = 'AD: ' + df['AD'].astype(str) + ' ' + 'ED: ' + df['ED'].astype(str).str.zfill(3)\n",
    "    df['ed_name'] = df['AD'].astype(str) + df['ED'].astype(str).str.zfill(3)\n",
    "    return df\n",
    "\n",
    "def rearrange(df,candidates):\n",
    "    df = df[df['Unit Name'].isin(candidates)]\n",
    "    df = df[['precinct','ed_name','Unit Name','Tally']]\n",
    "    df.columns = ['precinct','ed_name','candidate','votes']\n",
    "    df = df.groupby(['ed_name','candidate'])['votes'].sum().reset_index()\n",
    "    df['ed_total'] = df.groupby('ed_name')['votes'].transform('sum')\n",
    "    df['vote_share'] = round(df['votes'] / df['ed_total'] * 100,2)\n",
    "    df['vote_share'] = pd.to_numeric(df['vote_share'], errors='coerce')\n",
    "    return df"
   ]
  },
  {
   "cell_type": "code",
   "execution_count": 4,
   "id": "a7049509",
   "metadata": {},
   "outputs": [
    {
     "name": "stderr",
     "output_type": "stream",
     "text": [
      "C:\\Users\\samtg\\AppData\\Local\\Temp\\ipykernel_14680\\907058922.py:2: DtypeWarning: Columns (21) have mixed types. Specify dtype option on import or set low_memory=False.\n",
      "  df = pd.read_csv(filepath,header=None, names=colnames)\n"
     ]
    }
   ],
   "source": [
    "p16 = pd.read_csv('../data/pres_2016.csv') \n",
    "p20 = import_clean('../data/pres_2020.csv',good_cols,colnames)\n",
    "p24 = import_clean('../data/pres_2024.csv',good_cols,colnames)\n",
    "\n",
    "primary16 = pd.read_csv('../data/dem_pres_primary_2016.csv') \n",
    "primary20 = import_clean('../data/dem_pres_primary_2020.csv',good_cols,colnames)"
   ]
  },
  {
   "cell_type": "code",
   "execution_count": 5,
   "id": "0256f476",
   "metadata": {},
   "outputs": [],
   "source": [
    "def ed_maker(df):\n",
    "    df['precinct'] = 'AD: ' + df['AD'].astype(str) + ' ' + 'ED: ' + df['ED'].astype(str).str.zfill(3)\n",
    "    df['ed_name'] = df['AD'].astype(str) + df['ED'].astype(str).str.zfill(3)\n",
    "    return df"
   ]
  },
  {
   "cell_type": "code",
   "execution_count": 6,
   "id": "d73cf165",
   "metadata": {},
   "outputs": [],
   "source": [
    "p16 = ed_maker(p16)"
   ]
  },
  {
   "cell_type": "code",
   "execution_count": 14,
   "id": "dd62ccb5",
   "metadata": {},
   "outputs": [],
   "source": [
    "def rearrange_combined(\n",
    "    df,\n",
    "    canonical_map=None,\n",
    "    unit_col='Unit Name',\n",
    "    precinct_col='precinct',\n",
    "    ed_col='ed_name',\n",
    "    tally_col='Tally'\n",
    "):\n",
    "    \"\"\"\n",
    "    Collapse multiple ballot lines into canonical candidate names and compute vote shares.\n",
    "\n",
    "    Parameters\n",
    "    ----------\n",
    "    df : pandas.DataFrame\n",
    "        Input dataframe containing at least columns named by unit_col and tally_col.\n",
    "    canonical_map : dict\n",
    "        Mapping of keyword -> canonical name. Keys will be matched case-insensitively\n",
    "        inside the unit_col text. Example: {'trump': 'Trump', 'clinton': 'Clinton'}\n",
    "        If None, defaults to {'trump': 'Trump', 'clinton': 'Clinton'}.\n",
    "    unit_col / precinct_col / ed_col / tally_col : str\n",
    "        Column names in df (defaults chosen to match your example).\n",
    "    \"\"\"\n",
    "    if canonical_map is None:\n",
    "        canonical_map = {'trump': 'Trump', 'clinton': 'Clinton'}\n",
    "\n",
    "\n",
    "    df = df.copy()\n",
    "\n",
    "\n",
    "    df[tally_col] = pd.to_numeric(df[tally_col], errors='coerce').fillna(0)\n",
    "\n",
    "\n",
    "    lower_unit = df[unit_col].astype(str).str.lower()\n",
    "\n",
    "    df['candidate_std'] = np.nan\n",
    "\n",
    "    for keyword, canonical in canonical_map.items():\n",
    "        if not isinstance(keyword, str):\n",
    "            continue\n",
    "        mask = lower_unit.str.contains(re.escape(keyword.lower()), na=False)\n",
    "        df.loc[mask, 'candidate_std'] = canonical\n",
    "\n",
    "\n",
    "\n",
    "\n",
    "    df = df[df['candidate_std'].notna()].copy()\n",
    "\n",
    "\n",
    "    df = df[[precinct_col, ed_col, 'candidate_std', tally_col]]\n",
    "    df.columns = ['precinct', 'ed_name', 'candidate', 'votes']\n",
    "\n",
    "\n",
    "    df = df.groupby(['ed_name', 'candidate'])['votes'].sum().reset_index()\n",
    "\n",
    "\n",
    "    df['ed_total'] = df.groupby('ed_name')['votes'].transform('sum')\n",
    "    df['vote_share'] = round(df['votes'] / df['ed_total'] * 100, 2)\n",
    "    df['vote_share'] = pd.to_numeric(df['vote_share'], errors='coerce')\n",
    "\n",
    "    return df"
   ]
  },
  {
   "cell_type": "code",
   "execution_count": 8,
   "id": "acd93277",
   "metadata": {},
   "outputs": [],
   "source": [
    "p16 = p16[p16['County'] == 'Bronx']\n",
    "p20 = p20[p20['County'] == 'Bronx']\n",
    "p24 = p24[p24['County'] == 'Bronx']\n",
    "\n",
    "primary16 = primary16[primary16['County'] == 'Bronx']\n",
    "primary20 = primary20[primary20['County'] == 'Bronx']"
   ]
  },
  {
   "cell_type": "code",
   "execution_count": 18,
   "id": "aebe41a3",
   "metadata": {},
   "outputs": [],
   "source": [
    "primary20_bk = primary20[primary20['County'] == 'Kings']"
   ]
  },
  {
   "cell_type": "code",
   "execution_count": 7,
   "id": "e4de465b",
   "metadata": {},
   "outputs": [
    {
     "data": {
      "text/plain": [
       "(28861, 13)"
      ]
     },
     "execution_count": 7,
     "metadata": {},
     "output_type": "execute_result"
    }
   ],
   "source": [
    "primary20_bk.shape"
   ]
  },
  {
   "cell_type": "code",
   "execution_count": 31,
   "id": "9339b9a0",
   "metadata": {},
   "outputs": [
    {
     "data": {
      "text/html": [
       "<div>\n",
       "<style scoped>\n",
       "    .dataframe tbody tr th:only-of-type {\n",
       "        vertical-align: middle;\n",
       "    }\n",
       "\n",
       "    .dataframe tbody tr th {\n",
       "        vertical-align: top;\n",
       "    }\n",
       "\n",
       "    .dataframe thead th {\n",
       "        text-align: right;\n",
       "    }\n",
       "</style>\n",
       "<table border=\"1\" class=\"dataframe\">\n",
       "  <thead>\n",
       "    <tr style=\"text-align: right;\">\n",
       "      <th></th>\n",
       "      <th>ed_name</th>\n",
       "      <th>candidate</th>\n",
       "      <th>vs16</th>\n",
       "    </tr>\n",
       "  </thead>\n",
       "  <tbody>\n",
       "  </tbody>\n",
       "</table>\n",
       "</div>"
      ],
      "text/plain": [
       "Empty DataFrame\n",
       "Columns: [ed_name, candidate, vs16]\n",
       "Index: []"
      ]
     },
     "execution_count": 31,
     "metadata": {},
     "output_type": "execute_result"
    }
   ],
   "source": [
    "p16[p16['ed_name'] == 85063]"
   ]
  },
  {
   "cell_type": "code",
   "execution_count": 9,
   "id": "5051cc34",
   "metadata": {},
   "outputs": [
    {
     "name": "stderr",
     "output_type": "stream",
     "text": [
      "C:\\Users\\samtg\\AppData\\Local\\Temp\\ipykernel_29708\\169926661.py:41: FutureWarning: Setting an item of incompatible dtype is deprecated and will raise an error in a future version of pandas. Value 'Trump' has dtype incompatible with float64, please explicitly cast to a compatible dtype first.\n",
      "  df.loc[mask, 'candidate_std'] = canonical\n"
     ]
    }
   ],
   "source": [
    "canonical_map = {\n",
    "    'trump': 'Trump',\n",
    "    'donald j. trump': 'Trump',      \n",
    "    'clinton': 'Clinton',\n",
    "    'hillary': 'Clinton'            \n",
    "}\n",
    "\n",
    "p16 = rearrange_combined(p16, canonical_map=canonical_map)"
   ]
  },
  {
   "cell_type": "code",
   "execution_count": 10,
   "id": "8e86680b",
   "metadata": {},
   "outputs": [
    {
     "name": "stderr",
     "output_type": "stream",
     "text": [
      "C:\\Users\\samtg\\AppData\\Local\\Temp\\ipykernel_29708\\169926661.py:41: FutureWarning: Setting an item of incompatible dtype is deprecated and will raise an error in a future version of pandas. Value 'Trump' has dtype incompatible with float64, please explicitly cast to a compatible dtype first.\n",
      "  df.loc[mask, 'candidate_std'] = canonical\n"
     ]
    }
   ],
   "source": [
    "canonical_map = {\n",
    "    'trump': 'Trump',\n",
    "    'donald j. trump': 'Trump',      \n",
    "    'biden': 'Biden',\n",
    "    'joseph': 'Biden'            \n",
    "}\n",
    "\n",
    "p20 = rearrange_combined(p20, canonical_map=canonical_map)"
   ]
  },
  {
   "cell_type": "code",
   "execution_count": 11,
   "id": "805b1619",
   "metadata": {},
   "outputs": [
    {
     "data": {
      "text/plain": [
       "array(['Public Counter', 'Manually Counted Emergency',\n",
       "       'Absentee / Military', 'Federal', 'Affidavit',\n",
       "       'Kamala D. Harris / Tim Walz (Democratic)',\n",
       "       'Donald J. Trump / JD Vance (Republican)',\n",
       "       'Donald J. Trump / JD Vance (Conservative)',\n",
       "       'Kamala D. Harris / Tim Walz (Working Families)', 'Scattered'],\n",
       "      dtype=object)"
      ]
     },
     "execution_count": 11,
     "metadata": {},
     "output_type": "execute_result"
    }
   ],
   "source": [
    "p24['Unit Name'].unique()"
   ]
  },
  {
   "cell_type": "code",
   "execution_count": 12,
   "id": "e6862d9e",
   "metadata": {},
   "outputs": [
    {
     "name": "stderr",
     "output_type": "stream",
     "text": [
      "C:\\Users\\samtg\\AppData\\Local\\Temp\\ipykernel_29708\\169926661.py:41: FutureWarning: Setting an item of incompatible dtype is deprecated and will raise an error in a future version of pandas. Value 'Trump' has dtype incompatible with float64, please explicitly cast to a compatible dtype first.\n",
      "  df.loc[mask, 'candidate_std'] = canonical\n"
     ]
    }
   ],
   "source": [
    "canonical_map = {\n",
    "    'trump': 'Trump',\n",
    "    'donald j. trump': 'Trump',      \n",
    "    'harris': 'Harris',\n",
    "    'kamala': 'Harris'            \n",
    "}\n",
    "\n",
    "p24 = rearrange_combined(p24, canonical_map=canonical_map)"
   ]
  },
  {
   "cell_type": "code",
   "execution_count": 13,
   "id": "0617bb59",
   "metadata": {},
   "outputs": [],
   "source": [
    "p16 = p16[['ed_name','candidate','vote_share']]\n",
    "p16.columns = [['ed_name','candidate','vs16']]\n",
    "\n",
    "p20 = p20[['ed_name','candidate','vote_share']]\n",
    "p20.columns = [['ed_name','candidate','vs20']]\n",
    "\n",
    "p24 = p24[['ed_name','candidate','vote_share']]\n",
    "p24.columns = [['ed_name','candidate','vs24']]"
   ]
  },
  {
   "cell_type": "code",
   "execution_count": 14,
   "id": "374b2f14",
   "metadata": {},
   "outputs": [
    {
     "data": {
      "text/plain": [
       "array(['Public Counter', 'Emergency', 'Absentee/Military', 'Federal',\n",
       "       'Affidavit', 'Bernie Sanders', 'Hillary Clinton'], dtype=object)"
      ]
     },
     "execution_count": 14,
     "metadata": {},
     "output_type": "execute_result"
    }
   ],
   "source": [
    "primary16['Unit Name'].unique()"
   ]
  },
  {
   "cell_type": "code",
   "execution_count": 15,
   "id": "46c06efb",
   "metadata": {},
   "outputs": [],
   "source": [
    "primary16 = ed_maker(primary16)"
   ]
  },
  {
   "cell_type": "code",
   "execution_count": 16,
   "id": "2fc8f436",
   "metadata": {},
   "outputs": [
    {
     "name": "stderr",
     "output_type": "stream",
     "text": [
      "C:\\Users\\samtg\\AppData\\Local\\Temp\\ipykernel_29708\\169926661.py:41: FutureWarning: Setting an item of incompatible dtype is deprecated and will raise an error in a future version of pandas. Value 'Sanders' has dtype incompatible with float64, please explicitly cast to a compatible dtype first.\n",
      "  df.loc[mask, 'candidate_std'] = canonical\n"
     ]
    }
   ],
   "source": [
    "canonical_map = {\n",
    "    'bernie': 'Sanders',\n",
    "    'hillary': 'Clinton',             \n",
    "}\n",
    "\n",
    "primary16 = rearrange_combined(primary16, canonical_map=canonical_map)"
   ]
  },
  {
   "cell_type": "code",
   "execution_count": 17,
   "id": "dc867cf5",
   "metadata": {},
   "outputs": [
    {
     "data": {
      "text/plain": [
       "array(['Public Counter', 'Manually Counted Emergency',\n",
       "       'Absentee / Military', 'Federal', 'Affidavit', 'Pete Buttigieg',\n",
       "       'Amy Klobuchar', 'Joseph R. Biden', 'Tulsi Gabbard',\n",
       "       'Bernie Sanders', 'Michael R. Bloomberg', 'Tom Steyer',\n",
       "       'Michael Bennet', 'Elizabeth Warren', 'Andrew Yang',\n",
       "       'Deval Patrick'], dtype=object)"
      ]
     },
     "execution_count": 17,
     "metadata": {},
     "output_type": "execute_result"
    }
   ],
   "source": [
    "primary20['Unit Name'].unique()"
   ]
  },
  {
   "cell_type": "code",
   "execution_count": 10,
   "id": "52ed6147",
   "metadata": {},
   "outputs": [
    {
     "name": "stderr",
     "output_type": "stream",
     "text": [
      "C:\\Users\\samtg\\AppData\\Local\\Temp\\ipykernel_14680\\3626156904.py:2: SettingWithCopyWarning: \n",
      "A value is trying to be set on a copy of a slice from a DataFrame.\n",
      "Try using .loc[row_indexer,col_indexer] = value instead\n",
      "\n",
      "See the caveats in the documentation: https://pandas.pydata.org/pandas-docs/stable/user_guide/indexing.html#returning-a-view-versus-a-copy\n",
      "  df['precinct'] = 'AD: ' + df['AD'].astype(str) + ' ' + 'ED: ' + df['ED'].astype(str).str.zfill(3)\n",
      "C:\\Users\\samtg\\AppData\\Local\\Temp\\ipykernel_14680\\3626156904.py:3: SettingWithCopyWarning: \n",
      "A value is trying to be set on a copy of a slice from a DataFrame.\n",
      "Try using .loc[row_indexer,col_indexer] = value instead\n",
      "\n",
      "See the caveats in the documentation: https://pandas.pydata.org/pandas-docs/stable/user_guide/indexing.html#returning-a-view-versus-a-copy\n",
      "  df['ed_name'] = df['AD'].astype(str) + df['ED'].astype(str).str.zfill(3)\n"
     ]
    }
   ],
   "source": [
    "primary20_bk = ed_maker(primary20_bk)"
   ]
  },
  {
   "cell_type": "code",
   "execution_count": 12,
   "id": "1291351e",
   "metadata": {},
   "outputs": [
    {
     "data": {
      "text/html": [
       "<div>\n",
       "<style scoped>\n",
       "    .dataframe tbody tr th:only-of-type {\n",
       "        vertical-align: middle;\n",
       "    }\n",
       "\n",
       "    .dataframe tbody tr th {\n",
       "        vertical-align: top;\n",
       "    }\n",
       "\n",
       "    .dataframe thead th {\n",
       "        text-align: right;\n",
       "    }\n",
       "</style>\n",
       "<table border=\"1\" class=\"dataframe\">\n",
       "  <thead>\n",
       "    <tr style=\"text-align: right;\">\n",
       "      <th></th>\n",
       "      <th>ed_name</th>\n",
       "      <th>Unit Name</th>\n",
       "      <th>Tally</th>\n",
       "    </tr>\n",
       "  </thead>\n",
       "  <tbody>\n",
       "    <tr>\n",
       "      <th>35707</th>\n",
       "      <td>41001</td>\n",
       "      <td>Public Counter</td>\n",
       "      <td>80</td>\n",
       "    </tr>\n",
       "    <tr>\n",
       "      <th>35708</th>\n",
       "      <td>41001</td>\n",
       "      <td>Manually Counted Emergency</td>\n",
       "      <td>0</td>\n",
       "    </tr>\n",
       "    <tr>\n",
       "      <th>35709</th>\n",
       "      <td>41001</td>\n",
       "      <td>Absentee / Military</td>\n",
       "      <td>48</td>\n",
       "    </tr>\n",
       "    <tr>\n",
       "      <th>35710</th>\n",
       "      <td>41001</td>\n",
       "      <td>Federal</td>\n",
       "      <td>0</td>\n",
       "    </tr>\n",
       "    <tr>\n",
       "      <th>35711</th>\n",
       "      <td>41001</td>\n",
       "      <td>Affidavit</td>\n",
       "      <td>0</td>\n",
       "    </tr>\n",
       "    <tr>\n",
       "      <th>35712</th>\n",
       "      <td>41001</td>\n",
       "      <td>Pete Buttigieg</td>\n",
       "      <td>3</td>\n",
       "    </tr>\n",
       "    <tr>\n",
       "      <th>35713</th>\n",
       "      <td>41001</td>\n",
       "      <td>Amy Klobuchar</td>\n",
       "      <td>2</td>\n",
       "    </tr>\n",
       "    <tr>\n",
       "      <th>35714</th>\n",
       "      <td>41001</td>\n",
       "      <td>Joseph R. Biden</td>\n",
       "      <td>34</td>\n",
       "    </tr>\n",
       "    <tr>\n",
       "      <th>35715</th>\n",
       "      <td>41001</td>\n",
       "      <td>Tulsi Gabbard</td>\n",
       "      <td>3</td>\n",
       "    </tr>\n",
       "    <tr>\n",
       "      <th>35716</th>\n",
       "      <td>41001</td>\n",
       "      <td>Bernie Sanders</td>\n",
       "      <td>15</td>\n",
       "    </tr>\n",
       "    <tr>\n",
       "      <th>35717</th>\n",
       "      <td>41001</td>\n",
       "      <td>Michael R. Bloomberg</td>\n",
       "      <td>28</td>\n",
       "    </tr>\n",
       "    <tr>\n",
       "      <th>35718</th>\n",
       "      <td>41001</td>\n",
       "      <td>Tom Steyer</td>\n",
       "      <td>0</td>\n",
       "    </tr>\n",
       "    <tr>\n",
       "      <th>35719</th>\n",
       "      <td>41001</td>\n",
       "      <td>Michael Bennet</td>\n",
       "      <td>1</td>\n",
       "    </tr>\n",
       "    <tr>\n",
       "      <th>35720</th>\n",
       "      <td>41001</td>\n",
       "      <td>Elizabeth Warren</td>\n",
       "      <td>1</td>\n",
       "    </tr>\n",
       "    <tr>\n",
       "      <th>35721</th>\n",
       "      <td>41001</td>\n",
       "      <td>Andrew Yang</td>\n",
       "      <td>11</td>\n",
       "    </tr>\n",
       "    <tr>\n",
       "      <th>35722</th>\n",
       "      <td>41001</td>\n",
       "      <td>Deval Patrick</td>\n",
       "      <td>2</td>\n",
       "    </tr>\n",
       "    <tr>\n",
       "      <th>35723</th>\n",
       "      <td>41002</td>\n",
       "      <td>Public Counter</td>\n",
       "      <td>83</td>\n",
       "    </tr>\n",
       "    <tr>\n",
       "      <th>35724</th>\n",
       "      <td>41002</td>\n",
       "      <td>Manually Counted Emergency</td>\n",
       "      <td>0</td>\n",
       "    </tr>\n",
       "    <tr>\n",
       "      <th>35725</th>\n",
       "      <td>41002</td>\n",
       "      <td>Absentee / Military</td>\n",
       "      <td>92</td>\n",
       "    </tr>\n",
       "    <tr>\n",
       "      <th>35726</th>\n",
       "      <td>41002</td>\n",
       "      <td>Federal</td>\n",
       "      <td>1</td>\n",
       "    </tr>\n",
       "    <tr>\n",
       "      <th>35727</th>\n",
       "      <td>41002</td>\n",
       "      <td>Affidavit</td>\n",
       "      <td>0</td>\n",
       "    </tr>\n",
       "    <tr>\n",
       "      <th>35728</th>\n",
       "      <td>41002</td>\n",
       "      <td>Pete Buttigieg</td>\n",
       "      <td>1</td>\n",
       "    </tr>\n",
       "    <tr>\n",
       "      <th>35729</th>\n",
       "      <td>41002</td>\n",
       "      <td>Amy Klobuchar</td>\n",
       "      <td>3</td>\n",
       "    </tr>\n",
       "    <tr>\n",
       "      <th>35730</th>\n",
       "      <td>41002</td>\n",
       "      <td>Joseph R. Biden</td>\n",
       "      <td>52</td>\n",
       "    </tr>\n",
       "    <tr>\n",
       "      <th>35731</th>\n",
       "      <td>41002</td>\n",
       "      <td>Tulsi Gabbard</td>\n",
       "      <td>1</td>\n",
       "    </tr>\n",
       "  </tbody>\n",
       "</table>\n",
       "</div>"
      ],
      "text/plain": [
       "      ed_name                   Unit Name  Tally\n",
       "35707   41001              Public Counter     80\n",
       "35708   41001  Manually Counted Emergency      0\n",
       "35709   41001         Absentee / Military     48\n",
       "35710   41001                     Federal      0\n",
       "35711   41001                   Affidavit      0\n",
       "35712   41001              Pete Buttigieg      3\n",
       "35713   41001               Amy Klobuchar      2\n",
       "35714   41001             Joseph R. Biden     34\n",
       "35715   41001               Tulsi Gabbard      3\n",
       "35716   41001              Bernie Sanders     15\n",
       "35717   41001        Michael R. Bloomberg     28\n",
       "35718   41001                  Tom Steyer      0\n",
       "35719   41001              Michael Bennet      1\n",
       "35720   41001            Elizabeth Warren      1\n",
       "35721   41001                 Andrew Yang     11\n",
       "35722   41001               Deval Patrick      2\n",
       "35723   41002              Public Counter     83\n",
       "35724   41002  Manually Counted Emergency      0\n",
       "35725   41002         Absentee / Military     92\n",
       "35726   41002                     Federal      1\n",
       "35727   41002                   Affidavit      0\n",
       "35728   41002              Pete Buttigieg      1\n",
       "35729   41002               Amy Klobuchar      3\n",
       "35730   41002             Joseph R. Biden     52\n",
       "35731   41002               Tulsi Gabbard      1"
      ]
     },
     "execution_count": 12,
     "metadata": {},
     "output_type": "execute_result"
    }
   ],
   "source": [
    "primary20_bk[['ed_name','Unit Name','Tally']].head(25)"
   ]
  },
  {
   "cell_type": "code",
   "execution_count": 19,
   "id": "a34d8bcd",
   "metadata": {},
   "outputs": [
    {
     "name": "stderr",
     "output_type": "stream",
     "text": [
      "C:\\Users\\samtg\\AppData\\Local\\Temp\\ipykernel_14680\\169926661.py:41: FutureWarning: Setting an item of incompatible dtype is deprecated and will raise an error in a future version of pandas. Value 'pc' has dtype incompatible with float64, please explicitly cast to a compatible dtype first.\n",
      "  df.loc[mask, 'candidate_std'] = canonical\n"
     ]
    }
   ],
   "source": [
    "canonical_map = {\n",
    "    'Public Counter': 'pc',\n",
    "    'Manually Counted Emergency': 'man',\n",
    "     'Absentee / Military' : 'mil',\n",
    "     'Federal':'fed',\n",
    "     'Affidavit':'af'\n",
    "                 \n",
    "}\n",
    "\n",
    "primary_bk = rearrange_combined(primary20_bk, canonical_map=canonical_map)"
   ]
  },
  {
   "cell_type": "code",
   "execution_count": 22,
   "id": "c6aac0a1",
   "metadata": {},
   "outputs": [],
   "source": [
    "primary_bk[['ed_name','ed_total']].to_csv('../data/brooklyn_20p_turnout.csv',index=False)"
   ]
  },
  {
   "cell_type": "code",
   "execution_count": 18,
   "id": "1c86b324",
   "metadata": {},
   "outputs": [
    {
     "name": "stderr",
     "output_type": "stream",
     "text": [
      "C:\\Users\\samtg\\AppData\\Local\\Temp\\ipykernel_29708\\169926661.py:41: FutureWarning: Setting an item of incompatible dtype is deprecated and will raise an error in a future version of pandas. Value 'Sanders' has dtype incompatible with float64, please explicitly cast to a compatible dtype first.\n",
      "  df.loc[mask, 'candidate_std'] = canonical\n"
     ]
    }
   ],
   "source": [
    "canonical_map = {\n",
    "    'bernie': 'Sanders',\n",
    "    'biden': 'Biden',             \n",
    "}\n",
    "\n",
    "primary20 = rearrange_combined(primary20, canonical_map=canonical_map)"
   ]
  },
  {
   "cell_type": "code",
   "execution_count": 19,
   "id": "f852cc27",
   "metadata": {},
   "outputs": [],
   "source": [
    "p16.columns = [col[0] if isinstance(col, tuple) else col for col in p16.columns]\n",
    "p16_t = p16[p16['candidate'] == 'Trump']\n",
    "p20.columns = [col[0] if isinstance(col, tuple) else col for col in p20.columns]\n",
    "p20_t = p20[p20['candidate'] == 'Trump']\n",
    "p24.columns = [col[0] if isinstance(col, tuple) else col for col in p24.columns]\n",
    "p24_t = p24[p24['candidate'] == 'Trump']"
   ]
  },
  {
   "cell_type": "code",
   "execution_count": 20,
   "id": "26aa0e83",
   "metadata": {},
   "outputs": [],
   "source": [
    "p16_t = p16_t.merge(p20_t, on = ['ed_name','candidate'])\n",
    "p16_t = p16_t.merge(p24_t, on = ['ed_name','candidate'])"
   ]
  },
  {
   "cell_type": "code",
   "execution_count": 136,
   "id": "7d2284fd",
   "metadata": {},
   "outputs": [
    {
     "data": {
      "text/plain": [
       "(659, 5)"
      ]
     },
     "execution_count": 136,
     "metadata": {},
     "output_type": "execute_result"
    }
   ],
   "source": [
    "p16_t.shape"
   ]
  },
  {
   "cell_type": "code",
   "execution_count": null,
   "id": "fefca8e1",
   "metadata": {},
   "outputs": [
    {
     "data": {
      "text/plain": [
       "(41, 5)"
      ]
     },
     "execution_count": 139,
     "metadata": {},
     "output_type": "execute_result"
    }
   ],
   "source": [
    "p16_t[p16_t['vs20'] > p16_t['vs16']].shape"
   ]
  },
  {
   "cell_type": "code",
   "execution_count": 135,
   "id": "42da3f87",
   "metadata": {},
   "outputs": [
    {
     "data": {
      "text/plain": [
       "(53, 5)"
      ]
     },
     "execution_count": 135,
     "metadata": {},
     "output_type": "execute_result"
    }
   ],
   "source": [
    "p16_t[(p16_t['vs20'] > p16_t['vs16']) & ((p16_t['vs20'] > p16_t['vs24']))].shape"
   ]
  },
  {
   "cell_type": "code",
   "execution_count": 21,
   "id": "79b9bf4e",
   "metadata": {},
   "outputs": [],
   "source": [
    "p16_t['first_diff'] = p16_t['vs20'] - p16_t['vs16']\n",
    "p16_t['second_diff'] = p16_t['vs24'] - p16_t['vs20']\n",
    "p16_t['third_diff'] = p16_t['vs24'] - p16_t['vs16']"
   ]
  },
  {
   "cell_type": "code",
   "execution_count": 22,
   "id": "ca70b2e1",
   "metadata": {},
   "outputs": [],
   "source": [
    "primary16s = primary16[primary16['candidate'] == 'Sanders']"
   ]
  },
  {
   "cell_type": "code",
   "execution_count": 23,
   "id": "64361b72",
   "metadata": {},
   "outputs": [],
   "source": [
    "primary20s = primary20[primary20['candidate'] == 'Sanders']"
   ]
  },
  {
   "cell_type": "code",
   "execution_count": 24,
   "id": "1816ca8a",
   "metadata": {},
   "outputs": [],
   "source": [
    "primary16s = primary16s[['ed_name','vote_share']]\n",
    "primary16s.columns = ['ed_name','san16vs']\n",
    "primary20s = primary20s[['ed_name','vote_share']]\n",
    "primary20s.columns = ['ed_name','san20vs']"
   ]
  },
  {
   "cell_type": "code",
   "execution_count": 25,
   "id": "f9884abd",
   "metadata": {},
   "outputs": [],
   "source": [
    "sanders = primary16s.merge(primary20s,on='ed_name')"
   ]
  },
  {
   "cell_type": "code",
   "execution_count": 26,
   "id": "845dbcc7",
   "metadata": {},
   "outputs": [],
   "source": [
    "bronx_cw = p16_t.merge(sanders,on='ed_name')"
   ]
  },
  {
   "cell_type": "code",
   "execution_count": 27,
   "id": "9ee3167f",
   "metadata": {},
   "outputs": [],
   "source": [
    "bronx_cw = bronx_cw[['ed_name', 'vs16', 'vs20', 'vs24', 'first_diff',\n",
    "       'second_diff', 'third_diff', 'san16vs', 'san20vs']]"
   ]
  },
  {
   "cell_type": "code",
   "execution_count": 161,
   "id": "53087bbc",
   "metadata": {},
   "outputs": [],
   "source": [
    "bronx_cw.to_csv('../data/bronx_pres_primary.csv',index=False)"
   ]
  },
  {
   "cell_type": "code",
   "execution_count": 28,
   "id": "0a428949",
   "metadata": {},
   "outputs": [
    {
     "data": {
      "text/html": [
       "<div>\n",
       "<style scoped>\n",
       "    .dataframe tbody tr th:only-of-type {\n",
       "        vertical-align: middle;\n",
       "    }\n",
       "\n",
       "    .dataframe tbody tr th {\n",
       "        vertical-align: top;\n",
       "    }\n",
       "\n",
       "    .dataframe thead th {\n",
       "        text-align: right;\n",
       "    }\n",
       "</style>\n",
       "<table border=\"1\" class=\"dataframe\">\n",
       "  <thead>\n",
       "    <tr style=\"text-align: right;\">\n",
       "      <th></th>\n",
       "      <th>ed_name</th>\n",
       "      <th>vs16</th>\n",
       "      <th>vs20</th>\n",
       "      <th>vs24</th>\n",
       "      <th>first_diff</th>\n",
       "      <th>second_diff</th>\n",
       "      <th>third_diff</th>\n",
       "      <th>san16vs</th>\n",
       "      <th>san20vs</th>\n",
       "    </tr>\n",
       "  </thead>\n",
       "  <tbody>\n",
       "    <tr>\n",
       "      <th>0</th>\n",
       "      <td>77001</td>\n",
       "      <td>4.76</td>\n",
       "      <td>11.95</td>\n",
       "      <td>31.10</td>\n",
       "      <td>7.19</td>\n",
       "      <td>19.15</td>\n",
       "      <td>26.34</td>\n",
       "      <td>45.95</td>\n",
       "      <td>12.00</td>\n",
       "    </tr>\n",
       "    <tr>\n",
       "      <th>1</th>\n",
       "      <td>77002</td>\n",
       "      <td>4.78</td>\n",
       "      <td>9.01</td>\n",
       "      <td>28.20</td>\n",
       "      <td>4.23</td>\n",
       "      <td>19.19</td>\n",
       "      <td>23.42</td>\n",
       "      <td>24.64</td>\n",
       "      <td>30.77</td>\n",
       "    </tr>\n",
       "    <tr>\n",
       "      <th>2</th>\n",
       "      <td>77003</td>\n",
       "      <td>2.58</td>\n",
       "      <td>14.02</td>\n",
       "      <td>25.40</td>\n",
       "      <td>11.44</td>\n",
       "      <td>11.38</td>\n",
       "      <td>22.82</td>\n",
       "      <td>18.02</td>\n",
       "      <td>36.67</td>\n",
       "    </tr>\n",
       "    <tr>\n",
       "      <th>3</th>\n",
       "      <td>77004</td>\n",
       "      <td>3.93</td>\n",
       "      <td>17.58</td>\n",
       "      <td>21.74</td>\n",
       "      <td>13.65</td>\n",
       "      <td>4.16</td>\n",
       "      <td>17.81</td>\n",
       "      <td>30.81</td>\n",
       "      <td>31.16</td>\n",
       "    </tr>\n",
       "    <tr>\n",
       "      <th>4</th>\n",
       "      <td>77005</td>\n",
       "      <td>2.77</td>\n",
       "      <td>13.75</td>\n",
       "      <td>28.59</td>\n",
       "      <td>10.98</td>\n",
       "      <td>14.84</td>\n",
       "      <td>25.82</td>\n",
       "      <td>19.83</td>\n",
       "      <td>23.08</td>\n",
       "    </tr>\n",
       "    <tr>\n",
       "      <th>...</th>\n",
       "      <td>...</td>\n",
       "      <td>...</td>\n",
       "      <td>...</td>\n",
       "      <td>...</td>\n",
       "      <td>...</td>\n",
       "      <td>...</td>\n",
       "      <td>...</td>\n",
       "      <td>...</td>\n",
       "      <td>...</td>\n",
       "    </tr>\n",
       "    <tr>\n",
       "      <th>636</th>\n",
       "      <td>87054</td>\n",
       "      <td>9.26</td>\n",
       "      <td>12.57</td>\n",
       "      <td>17.88</td>\n",
       "      <td>3.31</td>\n",
       "      <td>5.31</td>\n",
       "      <td>8.62</td>\n",
       "      <td>31.56</td>\n",
       "      <td>13.17</td>\n",
       "    </tr>\n",
       "    <tr>\n",
       "      <th>637</th>\n",
       "      <td>87055</td>\n",
       "      <td>8.07</td>\n",
       "      <td>12.65</td>\n",
       "      <td>27.72</td>\n",
       "      <td>4.58</td>\n",
       "      <td>15.07</td>\n",
       "      <td>19.65</td>\n",
       "      <td>34.39</td>\n",
       "      <td>17.36</td>\n",
       "    </tr>\n",
       "    <tr>\n",
       "      <th>638</th>\n",
       "      <td>87056</td>\n",
       "      <td>9.06</td>\n",
       "      <td>10.08</td>\n",
       "      <td>37.50</td>\n",
       "      <td>1.02</td>\n",
       "      <td>27.42</td>\n",
       "      <td>28.44</td>\n",
       "      <td>35.71</td>\n",
       "      <td>17.01</td>\n",
       "    </tr>\n",
       "    <tr>\n",
       "      <th>639</th>\n",
       "      <td>87057</td>\n",
       "      <td>7.71</td>\n",
       "      <td>13.82</td>\n",
       "      <td>NaN</td>\n",
       "      <td>6.11</td>\n",
       "      <td>NaN</td>\n",
       "      <td>NaN</td>\n",
       "      <td>28.40</td>\n",
       "      <td>14.44</td>\n",
       "    </tr>\n",
       "    <tr>\n",
       "      <th>640</th>\n",
       "      <td>87059</td>\n",
       "      <td>6.61</td>\n",
       "      <td>7.24</td>\n",
       "      <td>NaN</td>\n",
       "      <td>0.63</td>\n",
       "      <td>NaN</td>\n",
       "      <td>NaN</td>\n",
       "      <td>30.79</td>\n",
       "      <td>8.99</td>\n",
       "    </tr>\n",
       "  </tbody>\n",
       "</table>\n",
       "<p>641 rows × 9 columns</p>\n",
       "</div>"
      ],
      "text/plain": [
       "    ed_name  vs16   vs20   vs24  first_diff  second_diff  third_diff  san16vs  \\\n",
       "0     77001  4.76  11.95  31.10        7.19        19.15       26.34    45.95   \n",
       "1     77002  4.78   9.01  28.20        4.23        19.19       23.42    24.64   \n",
       "2     77003  2.58  14.02  25.40       11.44        11.38       22.82    18.02   \n",
       "3     77004  3.93  17.58  21.74       13.65         4.16       17.81    30.81   \n",
       "4     77005  2.77  13.75  28.59       10.98        14.84       25.82    19.83   \n",
       "..      ...   ...    ...    ...         ...          ...         ...      ...   \n",
       "636   87054  9.26  12.57  17.88        3.31         5.31        8.62    31.56   \n",
       "637   87055  8.07  12.65  27.72        4.58        15.07       19.65    34.39   \n",
       "638   87056  9.06  10.08  37.50        1.02        27.42       28.44    35.71   \n",
       "639   87057  7.71  13.82    NaN        6.11          NaN         NaN    28.40   \n",
       "640   87059  6.61   7.24    NaN        0.63          NaN         NaN    30.79   \n",
       "\n",
       "     san20vs  \n",
       "0      12.00  \n",
       "1      30.77  \n",
       "2      36.67  \n",
       "3      31.16  \n",
       "4      23.08  \n",
       "..       ...  \n",
       "636    13.17  \n",
       "637    17.36  \n",
       "638    17.01  \n",
       "639    14.44  \n",
       "640     8.99  \n",
       "\n",
       "[641 rows x 9 columns]"
      ]
     },
     "execution_count": 28,
     "metadata": {},
     "output_type": "execute_result"
    }
   ],
   "source": [
    "bronx_cw"
   ]
  }
 ],
 "metadata": {
  "kernelspec": {
   "display_name": "venv",
   "language": "python",
   "name": "python3"
  },
  "language_info": {
   "codemirror_mode": {
    "name": "ipython",
    "version": 3
   },
   "file_extension": ".py",
   "mimetype": "text/x-python",
   "name": "python",
   "nbconvert_exporter": "python",
   "pygments_lexer": "ipython3",
   "version": "3.11.4"
  }
 },
 "nbformat": 4,
 "nbformat_minor": 5
}
