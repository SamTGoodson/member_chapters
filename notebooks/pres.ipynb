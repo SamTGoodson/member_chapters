{
 "cells": [
  {
   "cell_type": "code",
   "execution_count": 1,
   "id": "b6020d65",
   "metadata": {},
   "outputs": [],
   "source": [
    "import pandas as pd\n",
    "import geopandas as gpd\n",
    "\n",
    "import numpy as np\n",
    "import matplotlib.pyplot as plt\n",
    "\n",
    "from shapely import wkt\n",
    "\n",
    "import re"
   ]
  },
  {
   "cell_type": "code",
   "execution_count": 2,
   "id": "ca48ecfd",
   "metadata": {},
   "outputs": [],
   "source": [
    "colnames = ['a', 'b', 'c', 'd', 'e', 'f',\n",
    "       'g', 'h', 'i', 'j',\n",
    "       'k', \n",
    "        'AD', 'ED', 'County', 'EDAD Status', 'Event', 'Party/Independent Body',\n",
    "       'Office/Position Title', 'District Key', 'VoteFor', 'Unit Name',\n",
    "       'Tally']\n",
    "\n",
    "good_cols = ['AD', 'ED', 'County', 'EDAD Status', 'Event', 'Party/Independent Body',\n",
    "       'Office/Position Title', 'District Key', 'VoteFor', 'Unit Name',\n",
    "       'Tally']"
   ]
  },
  {
   "cell_type": "code",
   "execution_count": 3,
   "id": "3b7c4340",
   "metadata": {},
   "outputs": [],
   "source": [
    "def import_clean(filepath,good_cols,colnames):\n",
    "    df = pd.read_csv(filepath,header=None, names=colnames)\n",
    "    df = df[good_cols]\n",
    "    df['precinct'] = 'AD: ' + df['AD'].astype(str) + ' ' + 'ED: ' + df['ED'].astype(str).str.zfill(3)\n",
    "    df['ed_name'] = df['AD'].astype(str) + df['ED'].astype(str).str.zfill(3)\n",
    "    return df\n",
    "\n",
    "def rearrange(df,candidates):\n",
    "    df = df[df['Unit Name'].isin(candidates)]\n",
    "    df = df[['precinct','ed_name','Unit Name','Tally']]\n",
    "    df.columns = ['precinct','ed_name','candidate','votes']\n",
    "    df = df.groupby(['ed_name','candidate'])['votes'].sum().reset_index()\n",
    "    df['ed_total'] = df.groupby('ed_name')['votes'].transform('sum')\n",
    "    df['vote_share'] = round(df['votes'] / df['ed_total'] * 100,2)\n",
    "    df['vote_share'] = pd.to_numeric(df['vote_share'], errors='coerce')\n",
    "    return df"
   ]
  },
  {
   "cell_type": "code",
   "execution_count": 120,
   "id": "a7049509",
   "metadata": {},
   "outputs": [
    {
     "name": "stderr",
     "output_type": "stream",
     "text": [
      "C:\\Users\\samtg\\AppData\\Local\\Temp\\ipykernel_16460\\907058922.py:2: DtypeWarning: Columns (21) have mixed types. Specify dtype option on import or set low_memory=False.\n",
      "  df = pd.read_csv(filepath,header=None, names=colnames)\n"
     ]
    }
   ],
   "source": [
    "p16 = pd.read_csv('../data/pres_2016.csv') \n",
    "p20 = import_clean('../data/pres_2020.csv',good_cols,colnames)\n",
    "p24 = import_clean('../data/pres_2024.csv',good_cols,colnames)\n",
    "\n",
    "primary16 = pd.read_csv('../data/dem_pres_primary_2016.csv') \n",
    "primary20 = import_clean('../data/dem_pres_primary_2020.csv',good_cols,colnames)"
   ]
  },
  {
   "cell_type": "code",
   "execution_count": 15,
   "id": "0256f476",
   "metadata": {},
   "outputs": [],
   "source": [
    "def ed_maker(df):\n",
    "    df['precinct'] = 'AD: ' + df['AD'].astype(str) + ' ' + 'ED: ' + df['ED'].astype(str).str.zfill(3)\n",
    "    df['ed_name'] = df['AD'].astype(str) + df['ED'].astype(str).str.zfill(3)\n",
    "    return df"
   ]
  },
  {
   "cell_type": "code",
   "execution_count": 121,
   "id": "d73cf165",
   "metadata": {},
   "outputs": [],
   "source": [
    "p16 = ed_maker(p16)"
   ]
  },
  {
   "cell_type": "code",
   "execution_count": 5,
   "id": "dd62ccb5",
   "metadata": {},
   "outputs": [],
   "source": [
    "def rearrange_combined(\n",
    "    df,\n",
    "    canonical_map=None,\n",
    "    unit_col='Unit Name',\n",
    "    precinct_col='precinct',\n",
    "    ed_col='ed_name',\n",
    "    tally_col='Tally'\n",
    "):\n",
    "    \"\"\"\n",
    "    Collapse multiple ballot lines into canonical candidate names and compute vote shares.\n",
    "\n",
    "    Parameters\n",
    "    ----------\n",
    "    df : pandas.DataFrame\n",
    "        Input dataframe containing at least columns named by unit_col and tally_col.\n",
    "    canonical_map : dict\n",
    "        Mapping of keyword -> canonical name. Keys will be matched case-insensitively\n",
    "        inside the unit_col text. Example: {'trump': 'Trump', 'clinton': 'Clinton'}\n",
    "        If None, defaults to {'trump': 'Trump', 'clinton': 'Clinton'}.\n",
    "    unit_col / precinct_col / ed_col / tally_col : str\n",
    "        Column names in df (defaults chosen to match your example).\n",
    "    \"\"\"\n",
    "    if canonical_map is None:\n",
    "        canonical_map = {'trump': 'Trump', 'clinton': 'Clinton'}\n",
    "\n",
    "\n",
    "    df = df.copy()\n",
    "\n",
    "\n",
    "    df[tally_col] = pd.to_numeric(df[tally_col], errors='coerce').fillna(0)\n",
    "\n",
    "\n",
    "    lower_unit = df[unit_col].astype(str).str.lower()\n",
    "\n",
    "    df['candidate_std'] = np.nan\n",
    "\n",
    "    for keyword, canonical in canonical_map.items():\n",
    "        if not isinstance(keyword, str):\n",
    "            continue\n",
    "        mask = lower_unit.str.contains(re.escape(keyword.lower()), na=False)\n",
    "        df.loc[mask, 'candidate_std'] = canonical\n",
    "\n",
    "\n",
    "\n",
    "\n",
    "    df = df[df['candidate_std'].notna()].copy()\n",
    "\n",
    "\n",
    "    df = df[[precinct_col, ed_col, 'candidate_std', tally_col]]\n",
    "    df.columns = ['precinct', 'ed_name', 'candidate', 'votes']\n",
    "\n",
    "\n",
    "    df = df.groupby(['ed_name', 'candidate'])['votes'].sum().reset_index()\n",
    "\n",
    "\n",
    "    df['ed_total'] = df.groupby('ed_name')['votes'].transform('sum')\n",
    "    df['vote_share'] = round(df['votes'] / df['ed_total'] * 100, 2)\n",
    "    df['vote_share'] = pd.to_numeric(df['vote_share'], errors='coerce')\n",
    "\n",
    "    return df"
   ]
  },
  {
   "cell_type": "code",
   "execution_count": 122,
   "id": "acd93277",
   "metadata": {},
   "outputs": [],
   "source": [
    "p16 = p16[p16['County'] == 'Bronx']\n",
    "p20 = p20[p20['County'] == 'Bronx']\n",
    "p24 = p24[p24['County'] == 'Bronx']\n",
    "\n",
    "primary16 = primary16[primary16['County'] == 'Bronx']\n",
    "primary20 = primary20[primary20['County'] == 'Bronx']"
   ]
  },
  {
   "cell_type": "code",
   "execution_count": 123,
   "id": "5051cc34",
   "metadata": {},
   "outputs": [
    {
     "name": "stderr",
     "output_type": "stream",
     "text": [
      "C:\\Users\\samtg\\AppData\\Local\\Temp\\ipykernel_16460\\169926661.py:41: FutureWarning: Setting an item of incompatible dtype is deprecated and will raise an error in a future version of pandas. Value 'Trump' has dtype incompatible with float64, please explicitly cast to a compatible dtype first.\n",
      "  df.loc[mask, 'candidate_std'] = canonical\n"
     ]
    }
   ],
   "source": [
    "canonical_map = {\n",
    "    'trump': 'Trump',\n",
    "    'donald j. trump': 'Trump',      \n",
    "    'clinton': 'Clinton',\n",
    "    'hillary': 'Clinton'            \n",
    "}\n",
    "\n",
    "p16 = rearrange_combined(p16, canonical_map=canonical_map)"
   ]
  },
  {
   "cell_type": "code",
   "execution_count": 124,
   "id": "8e86680b",
   "metadata": {},
   "outputs": [
    {
     "name": "stderr",
     "output_type": "stream",
     "text": [
      "C:\\Users\\samtg\\AppData\\Local\\Temp\\ipykernel_16460\\169926661.py:41: FutureWarning: Setting an item of incompatible dtype is deprecated and will raise an error in a future version of pandas. Value 'Trump' has dtype incompatible with float64, please explicitly cast to a compatible dtype first.\n",
      "  df.loc[mask, 'candidate_std'] = canonical\n"
     ]
    }
   ],
   "source": [
    "canonical_map = {\n",
    "    'trump': 'Trump',\n",
    "    'donald j. trump': 'Trump',      \n",
    "    'biden': 'Biden',\n",
    "    'joseph': 'Biden'            \n",
    "}\n",
    "\n",
    "p20 = rearrange_combined(p20, canonical_map=canonical_map)"
   ]
  },
  {
   "cell_type": "code",
   "execution_count": 20,
   "id": "805b1619",
   "metadata": {},
   "outputs": [
    {
     "data": {
      "text/plain": [
       "array(['Public Counter', 'Manually Counted Emergency',\n",
       "       'Absentee / Military', 'Federal', 'Affidavit',\n",
       "       'Kamala D. Harris / Tim Walz (Democratic)',\n",
       "       'Donald J. Trump / JD Vance (Republican)',\n",
       "       'Donald J. Trump / JD Vance (Conservative)',\n",
       "       'Kamala D. Harris / Tim Walz (Working Families)', 'Scattered'],\n",
       "      dtype=object)"
      ]
     },
     "execution_count": 20,
     "metadata": {},
     "output_type": "execute_result"
    }
   ],
   "source": [
    "p24['Unit Name'].unique()"
   ]
  },
  {
   "cell_type": "code",
   "execution_count": 125,
   "id": "e6862d9e",
   "metadata": {},
   "outputs": [
    {
     "name": "stderr",
     "output_type": "stream",
     "text": [
      "C:\\Users\\samtg\\AppData\\Local\\Temp\\ipykernel_16460\\169926661.py:41: FutureWarning: Setting an item of incompatible dtype is deprecated and will raise an error in a future version of pandas. Value 'Trump' has dtype incompatible with float64, please explicitly cast to a compatible dtype first.\n",
      "  df.loc[mask, 'candidate_std'] = canonical\n"
     ]
    }
   ],
   "source": [
    "canonical_map = {\n",
    "    'trump': 'Trump',\n",
    "    'donald j. trump': 'Trump',      \n",
    "    'harris': 'Harris',\n",
    "    'kamala': 'Harris'            \n",
    "}\n",
    "\n",
    "p24 = rearrange_combined(p24, canonical_map=canonical_map)"
   ]
  },
  {
   "cell_type": "code",
   "execution_count": 126,
   "id": "0617bb59",
   "metadata": {},
   "outputs": [],
   "source": [
    "p16 = p16[['ed_name','candidate','vote_share']]\n",
    "p16.columns = [['ed_name','candidate','vs16']]\n",
    "\n",
    "p20 = p20[['ed_name','candidate','vote_share']]\n",
    "p20.columns = [['ed_name','candidate','vs20']]\n",
    "\n",
    "p24 = p24[['ed_name','candidate','vote_share']]\n",
    "p24.columns = [['ed_name','candidate','vs24']]"
   ]
  },
  {
   "cell_type": "code",
   "execution_count": 27,
   "id": "374b2f14",
   "metadata": {},
   "outputs": [
    {
     "data": {
      "text/plain": [
       "array(['Public Counter', 'Emergency', 'Absentee/Military', 'Federal',\n",
       "       'Affidavit', 'Bernie Sanders', 'Hillary Clinton'], dtype=object)"
      ]
     },
     "execution_count": 27,
     "metadata": {},
     "output_type": "execute_result"
    }
   ],
   "source": [
    "primary16['Unit Name'].unique()"
   ]
  },
  {
   "cell_type": "code",
   "execution_count": 127,
   "id": "46c06efb",
   "metadata": {},
   "outputs": [],
   "source": [
    "primary16 = ed_maker(primary16)"
   ]
  },
  {
   "cell_type": "code",
   "execution_count": 128,
   "id": "2fc8f436",
   "metadata": {},
   "outputs": [
    {
     "name": "stderr",
     "output_type": "stream",
     "text": [
      "C:\\Users\\samtg\\AppData\\Local\\Temp\\ipykernel_16460\\169926661.py:41: FutureWarning: Setting an item of incompatible dtype is deprecated and will raise an error in a future version of pandas. Value 'Sanders' has dtype incompatible with float64, please explicitly cast to a compatible dtype first.\n",
      "  df.loc[mask, 'candidate_std'] = canonical\n"
     ]
    }
   ],
   "source": [
    "canonical_map = {\n",
    "    'bernie': 'Sanders',\n",
    "    'hillary': 'Clinton',             \n",
    "}\n",
    "\n",
    "primary16 = rearrange_combined(primary16, canonical_map=canonical_map)"
   ]
  },
  {
   "cell_type": "code",
   "execution_count": 32,
   "id": "dc867cf5",
   "metadata": {},
   "outputs": [
    {
     "data": {
      "text/plain": [
       "array(['Public Counter', 'Manually Counted Emergency',\n",
       "       'Absentee / Military', 'Federal', 'Affidavit', 'Pete Buttigieg',\n",
       "       'Amy Klobuchar', 'Joseph R. Biden', 'Tulsi Gabbard',\n",
       "       'Bernie Sanders', 'Michael R. Bloomberg', 'Tom Steyer',\n",
       "       'Michael Bennet', 'Elizabeth Warren', 'Andrew Yang',\n",
       "       'Deval Patrick'], dtype=object)"
      ]
     },
     "execution_count": 32,
     "metadata": {},
     "output_type": "execute_result"
    }
   ],
   "source": [
    "primary20['Unit Name'].unique()"
   ]
  },
  {
   "cell_type": "code",
   "execution_count": 129,
   "id": "1c86b324",
   "metadata": {},
   "outputs": [
    {
     "name": "stderr",
     "output_type": "stream",
     "text": [
      "C:\\Users\\samtg\\AppData\\Local\\Temp\\ipykernel_16460\\169926661.py:41: FutureWarning: Setting an item of incompatible dtype is deprecated and will raise an error in a future version of pandas. Value 'Sanders' has dtype incompatible with float64, please explicitly cast to a compatible dtype first.\n",
      "  df.loc[mask, 'candidate_std'] = canonical\n"
     ]
    }
   ],
   "source": [
    "canonical_map = {\n",
    "    'bernie': 'Sanders',\n",
    "    'biden': 'Biden',             \n",
    "}\n",
    "\n",
    "primary20 = rearrange_combined(primary20, canonical_map=canonical_map)"
   ]
  },
  {
   "cell_type": "code",
   "execution_count": 130,
   "id": "f852cc27",
   "metadata": {},
   "outputs": [],
   "source": [
    "p16.columns = [col[0] if isinstance(col, tuple) else col for col in p16.columns]\n",
    "p16_t = p16[p16['candidate'] == 'Trump']\n",
    "p20.columns = [col[0] if isinstance(col, tuple) else col for col in p20.columns]\n",
    "p20_t = p20[p20['candidate'] == 'Trump']\n",
    "p24.columns = [col[0] if isinstance(col, tuple) else col for col in p24.columns]\n",
    "p24_t = p24[p24['candidate'] == 'Trump']"
   ]
  },
  {
   "cell_type": "code",
   "execution_count": 132,
   "id": "26aa0e83",
   "metadata": {},
   "outputs": [],
   "source": [
    "p16_t = p16_t.merge(p20_t, on = ['ed_name','candidate'])\n",
    "p16_t = p16_t.merge(p24_t, on = ['ed_name','candidate'])"
   ]
  },
  {
   "cell_type": "code",
   "execution_count": 136,
   "id": "7d2284fd",
   "metadata": {},
   "outputs": [
    {
     "data": {
      "text/plain": [
       "(659, 5)"
      ]
     },
     "execution_count": 136,
     "metadata": {},
     "output_type": "execute_result"
    }
   ],
   "source": [
    "p16_t.shape"
   ]
  },
  {
   "cell_type": "code",
   "execution_count": null,
   "id": "fefca8e1",
   "metadata": {},
   "outputs": [
    {
     "data": {
      "text/plain": [
       "(41, 5)"
      ]
     },
     "execution_count": 139,
     "metadata": {},
     "output_type": "execute_result"
    }
   ],
   "source": [
    "p16_t[p16_t['vs20'] > p16_t['vs16']].shape"
   ]
  },
  {
   "cell_type": "code",
   "execution_count": 135,
   "id": "42da3f87",
   "metadata": {},
   "outputs": [
    {
     "data": {
      "text/plain": [
       "(53, 5)"
      ]
     },
     "execution_count": 135,
     "metadata": {},
     "output_type": "execute_result"
    }
   ],
   "source": [
    "p16_t[(p16_t['vs20'] > p16_t['vs16']) & ((p16_t['vs20'] > p16_t['vs24']))].shape"
   ]
  },
  {
   "cell_type": "code",
   "execution_count": 152,
   "id": "79b9bf4e",
   "metadata": {},
   "outputs": [],
   "source": [
    "p16_t['first_diff'] = p16_t['vs20'] - p16_t['vs16']\n",
    "p16_t['second_diff'] = p16_t['vs24'] - p16_t['vs20']\n",
    "p16_t['third_diff'] = p16_t['vs24'] - p16_t['vs16']"
   ]
  },
  {
   "cell_type": "code",
   "execution_count": 144,
   "id": "ca70b2e1",
   "metadata": {},
   "outputs": [],
   "source": [
    "primary16s = primary16[primary16['candidate'] == 'Sanders']"
   ]
  },
  {
   "cell_type": "code",
   "execution_count": 146,
   "id": "64361b72",
   "metadata": {},
   "outputs": [],
   "source": [
    "primary20s = primary20[primary20['candidate'] == 'Sanders']"
   ]
  },
  {
   "cell_type": "code",
   "execution_count": 147,
   "id": "1816ca8a",
   "metadata": {},
   "outputs": [],
   "source": [
    "primary16s = primary16s[['ed_name','vote_share']]\n",
    "primary16s.columns = ['ed_name','san16vs']\n",
    "primary20s = primary20s[['ed_name','vote_share']]\n",
    "primary20s.columns = ['ed_name','san20vs']"
   ]
  },
  {
   "cell_type": "code",
   "execution_count": 148,
   "id": "f9884abd",
   "metadata": {},
   "outputs": [],
   "source": [
    "sanders = primary16s.merge(primary20s,on='ed_name')"
   ]
  },
  {
   "cell_type": "code",
   "execution_count": 153,
   "id": "845dbcc7",
   "metadata": {},
   "outputs": [],
   "source": [
    "bronx_cw = p16_t.merge(sanders,on='ed_name')"
   ]
  },
  {
   "cell_type": "code",
   "execution_count": 159,
   "id": "9ee3167f",
   "metadata": {},
   "outputs": [],
   "source": [
    "bronx_cw = bronx_cw[['ed_name', 'vs16', 'vs20', 'vs24', 'first_diff',\n",
    "       'second_diff', 'third_diff', 'san16vs', 'san20vs']]"
   ]
  },
  {
   "cell_type": "code",
   "execution_count": 161,
   "id": "53087bbc",
   "metadata": {},
   "outputs": [],
   "source": [
    "bronx_cw.to_csv('../data/bronx_pres_primary.csv',index=False)"
   ]
  }
 ],
 "metadata": {
  "kernelspec": {
   "display_name": "venv",
   "language": "python",
   "name": "python3"
  },
  "language_info": {
   "codemirror_mode": {
    "name": "ipython",
    "version": 3
   },
   "file_extension": ".py",
   "mimetype": "text/x-python",
   "name": "python",
   "nbconvert_exporter": "python",
   "pygments_lexer": "ipython3",
   "version": "3.11.4"
  }
 },
 "nbformat": 4,
 "nbformat_minor": 5
}
