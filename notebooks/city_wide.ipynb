{
 "cells": [
  {
   "cell_type": "code",
   "execution_count": 1,
   "metadata": {},
   "outputs": [],
   "source": [
    "import pandas as pd\n",
    "import numpy as np\n",
    "\n",
    "from sklearn.cluster import KMeans\n",
    "from sklearn.preprocessing import StandardScaler\n",
    "\n",
    "from factor_analyzer import FactorAnalyzer\n",
    "import matplotlib.pyplot as plt\n",
    "import seaborn as sns\n",
    "\n",
    "import statsmodels.api as sm\n",
    "from statsmodels.iolib.summary2 import summary_col\n",
    "import statsmodels.formula.api as smf\n",
    "\n",
    "import geopandas as gpd"
   ]
  },
  {
   "cell_type": "code",
   "execution_count": 2,
   "metadata": {},
   "outputs": [],
   "source": [
    "from kmodes.kmodes import KModes"
   ]
  },
  {
   "cell_type": "code",
   "execution_count": 3,
   "metadata": {},
   "outputs": [],
   "source": [
    "from census import Census\n",
    "from us import states\n"
   ]
  },
  {
   "cell_type": "code",
   "execution_count": 4,
   "metadata": {},
   "outputs": [],
   "source": [
    "full_results = pd.read_csv('../../cc_election_cleaning/election_results_with_vote_sponsor_cluster_FEB13.csv')\n",
    "occ_df = pd.read_csv('../../cc_election_cleaning/occupation_election_feb21.csv')\n",
    "dldc = pd.read_csv('../../cc_election_cleaning/district_level_demo_clusters.csv')\n",
    "ae = pd.read_csv('../../cc_election_cleaning/ae_precincts.csv')"
   ]
  },
  {
   "cell_type": "code",
   "execution_count": 5,
   "metadata": {},
   "outputs": [],
   "source": [
    "fwe = pd.read_csv('../data/finance_with_ethnicity.csv')"
   ]
  },
  {
   "cell_type": "code",
   "execution_count": 6,
   "metadata": {},
   "outputs": [],
   "source": [
    "occ_df = pd.read_csv('../../cc_election_cleaning/occupation_election_feb21.csv')\n",
    "p_cols = [col for col in occ_df.columns if col[-1] == 'p']\n",
    "wp_cols = [col for col in occ_df.columns if col.startswith(\"w2\") and col.endswith(\"p\")]\n",
    "to_remove = [ 'w2psp',\n",
    " 'w2sep',\n",
    " 'w2npp',\n",
    " 'w2govp',\n",
    " 'w2nip','w2cop']\n",
    "wp_cols = [col for col in wp_cols if col not in to_remove]"
   ]
  },
  {
   "cell_type": "code",
   "execution_count": null,
   "metadata": {},
   "outputs": [],
   "source": [
    "dldc.sort_values(by='demo_cluster')"
   ]
  },
  {
   "cell_type": "code",
   "execution_count": 7,
   "metadata": {},
   "outputs": [],
   "source": [
    "full_results_winner = full_results[full_results['winner'] == True]\n",
    "full_results_winner = full_results_winner.merge(ae[['ElectDist','bang21p','ind21p']], left_on='ed_name',right_on='ElectDist')\n",
    "full_results_winner = full_results_winner.merge(occ_df, left_on='ElectDist',right_on='ElectDist')"
   ]
  },
  {
   "cell_type": "code",
   "execution_count": 8,
   "metadata": {},
   "outputs": [],
   "source": [
    "key_demo_cols = [ 'district', 'cvap21bapp', 'mhhi21','h21p', 'nha21p', 'nhb21p', 'nhw21p','winda21p', 'white_transplant_ratio','bang21p', 'ind21p','venez21p','chin21p',\n",
    "                 'kor21p','colomb21p','domin21p','mex21p'] + wp_cols \n",
    "full__results_key_demo = full_results_winner[key_demo_cols]\n",
    "ag = full__results_key_demo.groupby('district').agg('mean').reset_index()"
   ]
  },
  {
   "cell_type": "code",
   "execution_count": 9,
   "metadata": {},
   "outputs": [],
   "source": [
    "demographic_cols = ['cvap21bapp', 'mhhi21', 'h21p', 'nha21p', 'nhb21p', 'nhw21p','winda21p', 'white_transplant_ratio','bang21p', 'ind21p','venez21p','chin21p',\n",
    "                 'kor21p','colomb21p','domin21p','mex21p'] + wp_cols"
   ]
  },
  {
   "cell_type": "code",
   "execution_count": 10,
   "metadata": {},
   "outputs": [],
   "source": [
    "for col in demographic_cols:\n",
    "    ag[col + '_quintile'] = pd.qcut(ag[col], 5, labels=False) + 1"
   ]
  },
  {
   "cell_type": "code",
   "execution_count": 11,
   "metadata": {},
   "outputs": [],
   "source": [
    "pd.set_option('display.max_columns', None)"
   ]
  },
  {
   "cell_type": "code",
   "execution_count": 12,
   "metadata": {},
   "outputs": [
    {
     "data": {
      "text/html": [
       "<div>\n",
       "<style scoped>\n",
       "    .dataframe tbody tr th:only-of-type {\n",
       "        vertical-align: middle;\n",
       "    }\n",
       "\n",
       "    .dataframe tbody tr th {\n",
       "        vertical-align: top;\n",
       "    }\n",
       "\n",
       "    .dataframe thead th {\n",
       "        text-align: right;\n",
       "    }\n",
       "</style>\n",
       "<table border=\"1\" class=\"dataframe\">\n",
       "  <thead>\n",
       "    <tr style=\"text-align: right;\">\n",
       "      <th></th>\n",
       "      <th>district</th>\n",
       "      <th>cvap21bapp</th>\n",
       "      <th>mhhi21</th>\n",
       "      <th>h21p</th>\n",
       "      <th>nha21p</th>\n",
       "      <th>nhb21p</th>\n",
       "      <th>nhw21p</th>\n",
       "      <th>winda21p</th>\n",
       "      <th>white_transplant_ratio</th>\n",
       "      <th>bang21p</th>\n",
       "      <th>ind21p</th>\n",
       "      <th>venez21p</th>\n",
       "      <th>chin21p</th>\n",
       "      <th>kor21p</th>\n",
       "      <th>colomb21p</th>\n",
       "      <th>domin21p</th>\n",
       "      <th>mex21p</th>\n",
       "      <th>w2mgtp</th>\n",
       "      <th>w2banp</th>\n",
       "      <th>w2cmp</th>\n",
       "      <th>w2aep</th>\n",
       "      <th>w2scip</th>\n",
       "      <th>w2cossp</th>\n",
       "      <th>w2lawp</th>\n",
       "      <th>w2edup</th>\n",
       "      <th>w2admp</th>\n",
       "      <th>w2docp</th>\n",
       "      <th>w2htp</th>\n",
       "      <th>w2hsp</th>\n",
       "      <th>w2ffp</th>\n",
       "      <th>w2copp</th>\n",
       "      <th>w2foodp</th>\n",
       "      <th>w2bgp</th>\n",
       "      <th>w2pservep</th>\n",
       "      <th>w2salep</th>\n",
       "      <th>w2oadp</th>\n",
       "      <th>w2farmp</th>\n",
       "      <th>w2conp</th>\n",
       "      <th>w2emrp</th>\n",
       "      <th>w2prodp</th>\n",
       "      <th>w2tranp</th>\n",
       "      <th>w2matp</th>\n",
       "      <th>cvap21bapp_quintile</th>\n",
       "      <th>mhhi21_quintile</th>\n",
       "      <th>h21p_quintile</th>\n",
       "      <th>nha21p_quintile</th>\n",
       "      <th>nhb21p_quintile</th>\n",
       "      <th>nhw21p_quintile</th>\n",
       "      <th>winda21p_quintile</th>\n",
       "      <th>white_transplant_ratio_quintile</th>\n",
       "      <th>bang21p_quintile</th>\n",
       "      <th>ind21p_quintile</th>\n",
       "      <th>venez21p_quintile</th>\n",
       "      <th>chin21p_quintile</th>\n",
       "      <th>kor21p_quintile</th>\n",
       "      <th>colomb21p_quintile</th>\n",
       "      <th>domin21p_quintile</th>\n",
       "      <th>mex21p_quintile</th>\n",
       "      <th>w2mgtp_quintile</th>\n",
       "      <th>w2banp_quintile</th>\n",
       "      <th>w2cmp_quintile</th>\n",
       "      <th>w2aep_quintile</th>\n",
       "      <th>w2scip_quintile</th>\n",
       "      <th>w2cossp_quintile</th>\n",
       "      <th>w2lawp_quintile</th>\n",
       "      <th>w2edup_quintile</th>\n",
       "      <th>w2admp_quintile</th>\n",
       "      <th>w2docp_quintile</th>\n",
       "      <th>w2htp_quintile</th>\n",
       "      <th>w2hsp_quintile</th>\n",
       "      <th>w2ffp_quintile</th>\n",
       "      <th>w2copp_quintile</th>\n",
       "      <th>w2foodp_quintile</th>\n",
       "      <th>w2bgp_quintile</th>\n",
       "      <th>w2pservep_quintile</th>\n",
       "      <th>w2salep_quintile</th>\n",
       "      <th>w2oadp_quintile</th>\n",
       "      <th>w2farmp_quintile</th>\n",
       "      <th>w2conp_quintile</th>\n",
       "      <th>w2emrp_quintile</th>\n",
       "      <th>w2prodp_quintile</th>\n",
       "      <th>w2tranp_quintile</th>\n",
       "      <th>w2matp_quintile</th>\n",
       "    </tr>\n",
       "  </thead>\n",
       "  <tbody>\n",
       "    <tr>\n",
       "      <th>21</th>\n",
       "      <td>22</td>\n",
       "      <td>49.746467</td>\n",
       "      <td>39873.545388</td>\n",
       "      <td>25.925276</td>\n",
       "      <td>14.958679</td>\n",
       "      <td>3.60946</td>\n",
       "      <td>51.19132</td>\n",
       "      <td>0.337785</td>\n",
       "      <td>11.642818</td>\n",
       "      <td>1.404666</td>\n",
       "      <td>3.818585</td>\n",
       "      <td>0.381695</td>\n",
       "      <td>3.838968</td>\n",
       "      <td>1.155929</td>\n",
       "      <td>3.424922</td>\n",
       "      <td>2.669103</td>\n",
       "      <td>5.242352</td>\n",
       "      <td>12.171865</td>\n",
       "      <td>7.318634</td>\n",
       "      <td>4.832265</td>\n",
       "      <td>1.40507</td>\n",
       "      <td>1.433253</td>\n",
       "      <td>1.71961</td>\n",
       "      <td>2.262646</td>\n",
       "      <td>7.089404</td>\n",
       "      <td>7.390982</td>\n",
       "      <td>3.229881</td>\n",
       "      <td>1.879323</td>\n",
       "      <td>5.740568</td>\n",
       "      <td>2.789363</td>\n",
       "      <td>1.664375</td>\n",
       "      <td>13.627086</td>\n",
       "      <td>7.571923</td>\n",
       "      <td>7.314773</td>\n",
       "      <td>16.032173</td>\n",
       "      <td>19.861072</td>\n",
       "      <td>0.080719</td>\n",
       "      <td>8.312774</td>\n",
       "      <td>1.757711</td>\n",
       "      <td>1.750519</td>\n",
       "      <td>3.88381</td>\n",
       "      <td>1.247793</td>\n",
       "      <td>4</td>\n",
       "      <td>4</td>\n",
       "      <td>3</td>\n",
       "      <td>4</td>\n",
       "      <td>1</td>\n",
       "      <td>4</td>\n",
       "      <td>1</td>\n",
       "      <td>4</td>\n",
       "      <td>5</td>\n",
       "      <td>5</td>\n",
       "      <td>5</td>\n",
       "      <td>3</td>\n",
       "      <td>4</td>\n",
       "      <td>5</td>\n",
       "      <td>2</td>\n",
       "      <td>4</td>\n",
       "      <td>4</td>\n",
       "      <td>4</td>\n",
       "      <td>4</td>\n",
       "      <td>4</td>\n",
       "      <td>5</td>\n",
       "      <td>2</td>\n",
       "      <td>4</td>\n",
       "      <td>4</td>\n",
       "      <td>4</td>\n",
       "      <td>3</td>\n",
       "      <td>2</td>\n",
       "      <td>1</td>\n",
       "      <td>2</td>\n",
       "      <td>3</td>\n",
       "      <td>4</td>\n",
       "      <td>3</td>\n",
       "      <td>3</td>\n",
       "      <td>2</td>\n",
       "      <td>2</td>\n",
       "      <td>3</td>\n",
       "      <td>3</td>\n",
       "      <td>3</td>\n",
       "      <td>2</td>\n",
       "      <td>2</td>\n",
       "      <td>1</td>\n",
       "    </tr>\n",
       "  </tbody>\n",
       "</table>\n",
       "</div>"
      ],
      "text/plain": [
       "    district  cvap21bapp        mhhi21       h21p     nha21p   nhb21p  \\\n",
       "21        22   49.746467  39873.545388  25.925276  14.958679  3.60946   \n",
       "\n",
       "      nhw21p  winda21p  white_transplant_ratio   bang21p    ind21p  venez21p  \\\n",
       "21  51.19132  0.337785               11.642818  1.404666  3.818585  0.381695   \n",
       "\n",
       "     chin21p    kor21p  colomb21p  domin21p    mex21p     w2mgtp    w2banp  \\\n",
       "21  3.838968  1.155929   3.424922  2.669103  5.242352  12.171865  7.318634   \n",
       "\n",
       "       w2cmp    w2aep    w2scip  w2cossp    w2lawp    w2edup    w2admp  \\\n",
       "21  4.832265  1.40507  1.433253  1.71961  2.262646  7.089404  7.390982   \n",
       "\n",
       "      w2docp     w2htp     w2hsp     w2ffp    w2copp    w2foodp     w2bgp  \\\n",
       "21  3.229881  1.879323  5.740568  2.789363  1.664375  13.627086  7.571923   \n",
       "\n",
       "    w2pservep    w2salep     w2oadp   w2farmp    w2conp    w2emrp   w2prodp  \\\n",
       "21   7.314773  16.032173  19.861072  0.080719  8.312774  1.757711  1.750519   \n",
       "\n",
       "    w2tranp    w2matp  cvap21bapp_quintile  mhhi21_quintile  h21p_quintile  \\\n",
       "21  3.88381  1.247793                    4                4              3   \n",
       "\n",
       "    nha21p_quintile  nhb21p_quintile  nhw21p_quintile  winda21p_quintile  \\\n",
       "21                4                1                4                  1   \n",
       "\n",
       "    white_transplant_ratio_quintile  bang21p_quintile  ind21p_quintile  \\\n",
       "21                                4                 5                5   \n",
       "\n",
       "    venez21p_quintile  chin21p_quintile  kor21p_quintile  colomb21p_quintile  \\\n",
       "21                  5                 3                4                   5   \n",
       "\n",
       "    domin21p_quintile  mex21p_quintile  w2mgtp_quintile  w2banp_quintile  \\\n",
       "21                  2                4                4                4   \n",
       "\n",
       "    w2cmp_quintile  w2aep_quintile  w2scip_quintile  w2cossp_quintile  \\\n",
       "21               4               4                5                 2   \n",
       "\n",
       "    w2lawp_quintile  w2edup_quintile  w2admp_quintile  w2docp_quintile  \\\n",
       "21                4                4                4                3   \n",
       "\n",
       "    w2htp_quintile  w2hsp_quintile  w2ffp_quintile  w2copp_quintile  \\\n",
       "21               2               1               2                3   \n",
       "\n",
       "    w2foodp_quintile  w2bgp_quintile  w2pservep_quintile  w2salep_quintile  \\\n",
       "21                 4               3                   3                 2   \n",
       "\n",
       "    w2oadp_quintile  w2farmp_quintile  w2conp_quintile  w2emrp_quintile  \\\n",
       "21                2                 3                3                3   \n",
       "\n",
       "    w2prodp_quintile  w2tranp_quintile  w2matp_quintile  \n",
       "21                 2                 2                1  "
      ]
     },
     "execution_count": 12,
     "metadata": {},
     "output_type": "execute_result"
    }
   ],
   "source": [
    "ag[ag['district'] == 22]"
   ]
  },
  {
   "cell_type": "code",
   "execution_count": 13,
   "metadata": {},
   "outputs": [
    {
     "data": {
      "text/html": [
       "<div>\n",
       "<style scoped>\n",
       "    .dataframe tbody tr th:only-of-type {\n",
       "        vertical-align: middle;\n",
       "    }\n",
       "\n",
       "    .dataframe tbody tr th {\n",
       "        vertical-align: top;\n",
       "    }\n",
       "\n",
       "    .dataframe thead th {\n",
       "        text-align: right;\n",
       "    }\n",
       "</style>\n",
       "<table border=\"1\" class=\"dataframe\">\n",
       "  <thead>\n",
       "    <tr style=\"text-align: right;\">\n",
       "      <th></th>\n",
       "      <th>district</th>\n",
       "      <th>cvap21bapp_quintile</th>\n",
       "      <th>mhhi21_quintile</th>\n",
       "    </tr>\n",
       "  </thead>\n",
       "  <tbody>\n",
       "    <tr>\n",
       "      <th>8</th>\n",
       "      <td>9</td>\n",
       "      <td>3</td>\n",
       "      <td>1</td>\n",
       "    </tr>\n",
       "    <tr>\n",
       "      <th>9</th>\n",
       "      <td>10</td>\n",
       "      <td>3</td>\n",
       "      <td>1</td>\n",
       "    </tr>\n",
       "    <tr>\n",
       "      <th>10</th>\n",
       "      <td>11</td>\n",
       "      <td>3</td>\n",
       "      <td>2</td>\n",
       "    </tr>\n",
       "    <tr>\n",
       "      <th>24</th>\n",
       "      <td>25</td>\n",
       "      <td>3</td>\n",
       "      <td>2</td>\n",
       "    </tr>\n",
       "    <tr>\n",
       "      <th>6</th>\n",
       "      <td>7</td>\n",
       "      <td>4</td>\n",
       "      <td>1</td>\n",
       "    </tr>\n",
       "    <tr>\n",
       "      <th>33</th>\n",
       "      <td>34</td>\n",
       "      <td>4</td>\n",
       "      <td>3</td>\n",
       "    </tr>\n",
       "    <tr>\n",
       "      <th>35</th>\n",
       "      <td>36</td>\n",
       "      <td>4</td>\n",
       "      <td>2</td>\n",
       "    </tr>\n",
       "    <tr>\n",
       "      <th>39</th>\n",
       "      <td>40</td>\n",
       "      <td>4</td>\n",
       "      <td>2</td>\n",
       "    </tr>\n",
       "    <tr>\n",
       "      <th>47</th>\n",
       "      <td>48</td>\n",
       "      <td>4</td>\n",
       "      <td>2</td>\n",
       "    </tr>\n",
       "    <tr>\n",
       "      <th>0</th>\n",
       "      <td>1</td>\n",
       "      <td>5</td>\n",
       "      <td>4</td>\n",
       "    </tr>\n",
       "    <tr>\n",
       "      <th>1</th>\n",
       "      <td>2</td>\n",
       "      <td>5</td>\n",
       "      <td>2</td>\n",
       "    </tr>\n",
       "    <tr>\n",
       "      <th>2</th>\n",
       "      <td>3</td>\n",
       "      <td>5</td>\n",
       "      <td>3</td>\n",
       "    </tr>\n",
       "    <tr>\n",
       "      <th>4</th>\n",
       "      <td>5</td>\n",
       "      <td>5</td>\n",
       "      <td>3</td>\n",
       "    </tr>\n",
       "    <tr>\n",
       "      <th>5</th>\n",
       "      <td>6</td>\n",
       "      <td>5</td>\n",
       "      <td>2</td>\n",
       "    </tr>\n",
       "    <tr>\n",
       "      <th>28</th>\n",
       "      <td>29</td>\n",
       "      <td>5</td>\n",
       "      <td>4</td>\n",
       "    </tr>\n",
       "    <tr>\n",
       "      <th>34</th>\n",
       "      <td>35</td>\n",
       "      <td>5</td>\n",
       "      <td>3</td>\n",
       "    </tr>\n",
       "  </tbody>\n",
       "</table>\n",
       "</div>"
      ],
      "text/plain": [
       "    district  cvap21bapp_quintile  mhhi21_quintile\n",
       "8          9                    3                1\n",
       "9         10                    3                1\n",
       "10        11                    3                2\n",
       "24        25                    3                2\n",
       "6          7                    4                1\n",
       "33        34                    4                3\n",
       "35        36                    4                2\n",
       "39        40                    4                2\n",
       "47        48                    4                2\n",
       "0          1                    5                4\n",
       "1          2                    5                2\n",
       "2          3                    5                3\n",
       "4          5                    5                3\n",
       "5          6                    5                2\n",
       "28        29                    5                4\n",
       "34        35                    5                3"
      ]
     },
     "execution_count": 13,
     "metadata": {},
     "output_type": "execute_result"
    }
   ],
   "source": [
    "ag[ag['cvap21bapp_quintile'] > ag['mhhi21_quintile']][['district','cvap21bapp_quintile','mhhi21_quintile']].sort_values(by='cvap21bapp_quintile')"
   ]
  },
  {
   "cell_type": "markdown",
   "metadata": {},
   "source": [
    "Look at citywide structure of occupation and race"
   ]
  },
  {
   "cell_type": "code",
   "execution_count": 9,
   "metadata": {},
   "outputs": [],
   "source": [
    "p_cols = [col for col in occ_df.columns if col[-1] == 'p']\n",
    "wp_cols = [col for col in occ_df.columns if col.startswith(\"w2\") and col.endswith(\"p\")]\n",
    "wp_cols.remove('w2cop')"
   ]
  },
  {
   "cell_type": "code",
   "execution_count": 10,
   "metadata": {},
   "outputs": [],
   "source": [
    "top_std_cols = occ_df[wp_cols].std().nlargest(11).index.tolist()"
   ]
  },
  {
   "cell_type": "code",
   "execution_count": 11,
   "metadata": {},
   "outputs": [],
   "source": [
    "demographic_cols = ['cvap21bapp', 'mhhi21', 'h21p', 'nha21p', 'nhb21p', 'nhw21p','winda21p', 'white_transplant_ratio','hh21op','bus_ratio','drive_ratio','mex21p', 'prican21p', 'domin21p', 'colomb21p', 'kor21p', 'chin21p']\n",
    "demographic_cols.extend(top_std_cols)"
   ]
  },
  {
   "cell_type": "code",
   "execution_count": 35,
   "metadata": {},
   "outputs": [],
   "source": [
    "demo_occ = pd.merge(full_results_winner, occ_df, left_on='ElectDist', right_on='ElectDist')"
   ]
  },
  {
   "cell_type": "code",
   "execution_count": 14,
   "metadata": {},
   "outputs": [
    {
     "data": {
      "text/plain": [
       "(6247, 281)"
      ]
     },
     "execution_count": 14,
     "metadata": {},
     "output_type": "execute_result"
    }
   ],
   "source": [
    "demo_occ.shape"
   ]
  },
  {
   "cell_type": "code",
   "execution_count": 17,
   "metadata": {},
   "outputs": [],
   "source": [
    "df_cluster = demo_occ[demographic_cols]"
   ]
  },
  {
   "cell_type": "code",
   "execution_count": null,
   "metadata": {},
   "outputs": [],
   "source": [
    "df_cluster = demo_occ[demographic_cols]\n",
    "scaler = StandardScaler()\n",
    "df_cluster_scaled = scaler.fit_transform(df_cluster)"
   ]
  },
  {
   "cell_type": "code",
   "execution_count": 20,
   "metadata": {},
   "outputs": [
    {
     "name": "stderr",
     "output_type": "stream",
     "text": [
      "c:\\Users\\samtg\\AppData\\Local\\Programs\\Python\\Python311\\Lib\\site-packages\\sklearn\\cluster\\_kmeans.py:1412: FutureWarning: The default value of `n_init` will change from 10 to 'auto' in 1.4. Set the value of `n_init` explicitly to suppress the warning\n",
      "  super()._check_params_vs_input(X, default_n_init=10)\n",
      "c:\\Users\\samtg\\AppData\\Local\\Programs\\Python\\Python311\\Lib\\site-packages\\sklearn\\cluster\\_kmeans.py:1412: FutureWarning: The default value of `n_init` will change from 10 to 'auto' in 1.4. Set the value of `n_init` explicitly to suppress the warning\n",
      "  super()._check_params_vs_input(X, default_n_init=10)\n",
      "c:\\Users\\samtg\\AppData\\Local\\Programs\\Python\\Python311\\Lib\\site-packages\\sklearn\\cluster\\_kmeans.py:1412: FutureWarning: The default value of `n_init` will change from 10 to 'auto' in 1.4. Set the value of `n_init` explicitly to suppress the warning\n",
      "  super()._check_params_vs_input(X, default_n_init=10)\n",
      "c:\\Users\\samtg\\AppData\\Local\\Programs\\Python\\Python311\\Lib\\site-packages\\sklearn\\cluster\\_kmeans.py:1412: FutureWarning: The default value of `n_init` will change from 10 to 'auto' in 1.4. Set the value of `n_init` explicitly to suppress the warning\n",
      "  super()._check_params_vs_input(X, default_n_init=10)\n",
      "c:\\Users\\samtg\\AppData\\Local\\Programs\\Python\\Python311\\Lib\\site-packages\\sklearn\\cluster\\_kmeans.py:1412: FutureWarning: The default value of `n_init` will change from 10 to 'auto' in 1.4. Set the value of `n_init` explicitly to suppress the warning\n",
      "  super()._check_params_vs_input(X, default_n_init=10)\n",
      "c:\\Users\\samtg\\AppData\\Local\\Programs\\Python\\Python311\\Lib\\site-packages\\sklearn\\cluster\\_kmeans.py:1412: FutureWarning: The default value of `n_init` will change from 10 to 'auto' in 1.4. Set the value of `n_init` explicitly to suppress the warning\n",
      "  super()._check_params_vs_input(X, default_n_init=10)\n",
      "c:\\Users\\samtg\\AppData\\Local\\Programs\\Python\\Python311\\Lib\\site-packages\\sklearn\\cluster\\_kmeans.py:1412: FutureWarning: The default value of `n_init` will change from 10 to 'auto' in 1.4. Set the value of `n_init` explicitly to suppress the warning\n",
      "  super()._check_params_vs_input(X, default_n_init=10)\n",
      "c:\\Users\\samtg\\AppData\\Local\\Programs\\Python\\Python311\\Lib\\site-packages\\sklearn\\cluster\\_kmeans.py:1412: FutureWarning: The default value of `n_init` will change from 10 to 'auto' in 1.4. Set the value of `n_init` explicitly to suppress the warning\n",
      "  super()._check_params_vs_input(X, default_n_init=10)\n",
      "c:\\Users\\samtg\\AppData\\Local\\Programs\\Python\\Python311\\Lib\\site-packages\\sklearn\\cluster\\_kmeans.py:1412: FutureWarning: The default value of `n_init` will change from 10 to 'auto' in 1.4. Set the value of `n_init` explicitly to suppress the warning\n",
      "  super()._check_params_vs_input(X, default_n_init=10)\n",
      "c:\\Users\\samtg\\AppData\\Local\\Programs\\Python\\Python311\\Lib\\site-packages\\sklearn\\cluster\\_kmeans.py:1412: FutureWarning: The default value of `n_init` will change from 10 to 'auto' in 1.4. Set the value of `n_init` explicitly to suppress the warning\n",
      "  super()._check_params_vs_input(X, default_n_init=10)\n"
     ]
    },
    {
     "data": {
      "text/plain": [
       "Text(0.5, 1.0, 'Elbow Method')"
      ]
     },
     "execution_count": 20,
     "metadata": {},
     "output_type": "execute_result"
    },
    {
     "data": {
      "image/png": "[encoded data removed]",
      "text/plain": [
       "<Figure size 640x480 with 1 Axes>"
      ]
     },
     "metadata": {},
     "output_type": "display_data"
    }
   ],
   "source": [
    "# elbow method to determine number of clusters\n",
    "inertia = []\n",
    "for i in range(1, 11):\n",
    "    kmeans = KMeans(n_clusters=i, random_state=0)\n",
    "    kmeans.fit(df_cluster_scaled)\n",
    "    inertia.append(kmeans.inertia_)\n",
    "plt.plot(range(1, 11), inertia)\n",
    "plt.title('Elbow Method')"
   ]
  },
  {
   "cell_type": "code",
   "execution_count": 26,
   "metadata": {},
   "outputs": [
    {
     "name": "stderr",
     "output_type": "stream",
     "text": [
      "c:\\Users\\samtg\\AppData\\Local\\Programs\\Python\\Python311\\Lib\\site-packages\\sklearn\\cluster\\_kmeans.py:1412: FutureWarning: The default value of `n_init` will change from 10 to 'auto' in 1.4. Set the value of `n_init` explicitly to suppress the warning\n",
      "  super()._check_params_vs_input(X, default_n_init=10)\n",
      "C:\\Users\\samtg\\AppData\\Local\\Temp\\ipykernel_4028\\394701120.py:3: SettingWithCopyWarning: \n",
      "A value is trying to be set on a copy of a slice from a DataFrame.\n",
      "Try using .loc[row_indexer,col_indexer] = value instead\n",
      "\n",
      "See the caveats in the documentation: https://pandas.pydata.org/pandas-docs/stable/user_guide/indexing.html#returning-a-view-versus-a-copy\n",
      "  df_cluster['cluster'] = kmeans.labels_\n"
     ]
    }
   ],
   "source": [
    "kmeans = KMeans(n_clusters=8, random_state=0)\n",
    "kmeans.fit(df_cluster_scaled)\n",
    "df_cluster['cluster'] = kmeans.labels_"
   ]
  },
  {
   "cell_type": "code",
   "execution_count": 28,
   "metadata": {},
   "outputs": [],
   "source": [
    "averages = df_cluster.groupby('cluster')[demographic_cols].mean().round(2)"
   ]
  },
  {
   "cell_type": "code",
   "execution_count": 29,
   "metadata": {},
   "outputs": [],
   "source": [
    "race_cols = ['nha21p', 'nhb21p', 'nhw21p','h21p']\n",
    "averages['top_race'] = averages[race_cols].idxmax(axis=1)"
   ]
  },
  {
   "cell_type": "code",
   "execution_count": 36,
   "metadata": {},
   "outputs": [
    {
     "data": {
      "text/html": [
       "<div>\n",
       "<style scoped>\n",
       "    .dataframe tbody tr th:only-of-type {\n",
       "        vertical-align: middle;\n",
       "    }\n",
       "\n",
       "    .dataframe tbody tr th {\n",
       "        vertical-align: top;\n",
       "    }\n",
       "\n",
       "    .dataframe thead th {\n",
       "        text-align: right;\n",
       "    }\n",
       "</style>\n",
       "<table border=\"1\" class=\"dataframe\">\n",
       "  <thead>\n",
       "    <tr style=\"text-align: right;\">\n",
       "      <th></th>\n",
       "      <th>top_race</th>\n",
       "      <th>mhhi21</th>\n",
       "      <th>white_transplant_ratio</th>\n",
       "      <th>w2psp</th>\n",
       "      <th>w2hsp</th>\n",
       "      <th>w2oadp</th>\n",
       "      <th>w2conp</th>\n",
       "      <th>w2foodp</th>\n",
       "      <th>w2salep</th>\n",
       "      <th>w2govp</th>\n",
       "      <th>w2bgp</th>\n",
       "      <th>w2mgtp</th>\n",
       "      <th>w2npp</th>\n",
       "      <th>w2pservep</th>\n",
       "    </tr>\n",
       "    <tr>\n",
       "      <th>cluster</th>\n",
       "      <th></th>\n",
       "      <th></th>\n",
       "      <th></th>\n",
       "      <th></th>\n",
       "      <th></th>\n",
       "      <th></th>\n",
       "      <th></th>\n",
       "      <th></th>\n",
       "      <th></th>\n",
       "      <th></th>\n",
       "      <th></th>\n",
       "      <th></th>\n",
       "      <th></th>\n",
       "      <th></th>\n",
       "    </tr>\n",
       "  </thead>\n",
       "  <tbody>\n",
       "    <tr>\n",
       "      <th>5</th>\n",
       "      <td>h21p</td>\n",
       "      <td>13264.59</td>\n",
       "      <td>2.15</td>\n",
       "      <td>67.72</td>\n",
       "      <td>23.30</td>\n",
       "      <td>22.20</td>\n",
       "      <td>8.00</td>\n",
       "      <td>15.23</td>\n",
       "      <td>16.90</td>\n",
       "      <td>13.57</td>\n",
       "      <td>15.20</td>\n",
       "      <td>6.13</td>\n",
       "      <td>11.07</td>\n",
       "      <td>9.20</td>\n",
       "    </tr>\n",
       "    <tr>\n",
       "      <th>2</th>\n",
       "      <td>nhw21p</td>\n",
       "      <td>25029.82</td>\n",
       "      <td>9.34</td>\n",
       "      <td>59.30</td>\n",
       "      <td>9.22</td>\n",
       "      <td>21.86</td>\n",
       "      <td>5.75</td>\n",
       "      <td>8.99</td>\n",
       "      <td>15.38</td>\n",
       "      <td>12.46</td>\n",
       "      <td>6.11</td>\n",
       "      <td>11.60</td>\n",
       "      <td>15.35</td>\n",
       "      <td>6.18</td>\n",
       "    </tr>\n",
       "    <tr>\n",
       "      <th>6</th>\n",
       "      <td>nha21p</td>\n",
       "      <td>29982.86</td>\n",
       "      <td>2.10</td>\n",
       "      <td>69.64</td>\n",
       "      <td>19.78</td>\n",
       "      <td>21.84</td>\n",
       "      <td>12.78</td>\n",
       "      <td>16.46</td>\n",
       "      <td>19.37</td>\n",
       "      <td>10.16</td>\n",
       "      <td>7.68</td>\n",
       "      <td>7.43</td>\n",
       "      <td>8.40</td>\n",
       "      <td>10.87</td>\n",
       "    </tr>\n",
       "    <tr>\n",
       "      <th>3</th>\n",
       "      <td>nhb21p</td>\n",
       "      <td>33451.12</td>\n",
       "      <td>1.19</td>\n",
       "      <td>59.82</td>\n",
       "      <td>20.35</td>\n",
       "      <td>24.11</td>\n",
       "      <td>8.39</td>\n",
       "      <td>6.63</td>\n",
       "      <td>13.06</td>\n",
       "      <td>22.84</td>\n",
       "      <td>7.85</td>\n",
       "      <td>6.68</td>\n",
       "      <td>10.18</td>\n",
       "      <td>6.59</td>\n",
       "    </tr>\n",
       "    <tr>\n",
       "      <th>0</th>\n",
       "      <td>h21p</td>\n",
       "      <td>33855.47</td>\n",
       "      <td>2.86</td>\n",
       "      <td>69.69</td>\n",
       "      <td>13.64</td>\n",
       "      <td>23.59</td>\n",
       "      <td>22.00</td>\n",
       "      <td>21.80</td>\n",
       "      <td>21.23</td>\n",
       "      <td>9.97</td>\n",
       "      <td>15.29</td>\n",
       "      <td>6.63</td>\n",
       "      <td>7.73</td>\n",
       "      <td>8.81</td>\n",
       "    </tr>\n",
       "    <tr>\n",
       "      <th>1</th>\n",
       "      <td>nha21p</td>\n",
       "      <td>38279.44</td>\n",
       "      <td>1.97</td>\n",
       "      <td>62.69</td>\n",
       "      <td>7.22</td>\n",
       "      <td>22.04</td>\n",
       "      <td>7.46</td>\n",
       "      <td>7.21</td>\n",
       "      <td>22.64</td>\n",
       "      <td>14.40</td>\n",
       "      <td>4.51</td>\n",
       "      <td>11.80</td>\n",
       "      <td>9.02</td>\n",
       "      <td>7.72</td>\n",
       "    </tr>\n",
       "    <tr>\n",
       "      <th>4</th>\n",
       "      <td>nhw21p</td>\n",
       "      <td>42085.97</td>\n",
       "      <td>25.93</td>\n",
       "      <td>65.46</td>\n",
       "      <td>2.24</td>\n",
       "      <td>12.34</td>\n",
       "      <td>1.77</td>\n",
       "      <td>4.16</td>\n",
       "      <td>18.51</td>\n",
       "      <td>7.72</td>\n",
       "      <td>1.90</td>\n",
       "      <td>19.92</td>\n",
       "      <td>12.83</td>\n",
       "      <td>4.53</td>\n",
       "    </tr>\n",
       "    <tr>\n",
       "      <th>7</th>\n",
       "      <td>nhw21p</td>\n",
       "      <td>43920.97</td>\n",
       "      <td>2.58</td>\n",
       "      <td>60.28</td>\n",
       "      <td>11.07</td>\n",
       "      <td>24.81</td>\n",
       "      <td>10.07</td>\n",
       "      <td>7.16</td>\n",
       "      <td>18.18</td>\n",
       "      <td>18.39</td>\n",
       "      <td>6.16</td>\n",
       "      <td>9.82</td>\n",
       "      <td>9.13</td>\n",
       "      <td>5.86</td>\n",
       "    </tr>\n",
       "  </tbody>\n",
       "</table>\n",
       "</div>"
      ],
      "text/plain": [
       "        top_race    mhhi21  white_transplant_ratio  w2psp  w2hsp  w2oadp  \\\n",
       "cluster                                                                    \n",
       "5           h21p  13264.59                    2.15  67.72  23.30   22.20   \n",
       "2         nhw21p  25029.82                    9.34  59.30   9.22   21.86   \n",
       "6         nha21p  29982.86                    2.10  69.64  19.78   21.84   \n",
       "3         nhb21p  33451.12                    1.19  59.82  20.35   24.11   \n",
       "0           h21p  33855.47                    2.86  69.69  13.64   23.59   \n",
       "1         nha21p  38279.44                    1.97  62.69   7.22   22.04   \n",
       "4         nhw21p  42085.97                   25.93  65.46   2.24   12.34   \n",
       "7         nhw21p  43920.97                    2.58  60.28  11.07   24.81   \n",
       "\n",
       "         w2conp  w2foodp  w2salep  w2govp  w2bgp  w2mgtp  w2npp  w2pservep  \n",
       "cluster                                                                     \n",
       "5          8.00    15.23    16.90   13.57  15.20    6.13  11.07       9.20  \n",
       "2          5.75     8.99    15.38   12.46   6.11   11.60  15.35       6.18  \n",
       "6         12.78    16.46    19.37   10.16   7.68    7.43   8.40      10.87  \n",
       "3          8.39     6.63    13.06   22.84   7.85    6.68  10.18       6.59  \n",
       "0         22.00    21.80    21.23    9.97  15.29    6.63   7.73       8.81  \n",
       "1          7.46     7.21    22.64   14.40   4.51   11.80   9.02       7.72  \n",
       "4          1.77     4.16    18.51    7.72   1.90   19.92  12.83       4.53  \n",
       "7         10.07     7.16    18.18   18.39   6.16    9.82   9.13       5.86  "
      ]
     },
     "execution_count": 36,
     "metadata": {},
     "output_type": "execute_result"
    }
   ],
   "source": [
    "averages[['top_race','mhhi21', 'white_transplant_ratio'] + top_std_cols].sort_values(by='mhhi21')"
   ]
  },
  {
   "cell_type": "code",
   "execution_count": 37,
   "metadata": {},
   "outputs": [
    {
     "data": {
      "text/plain": [
       "(6247, 29)"
      ]
     },
     "execution_count": 37,
     "metadata": {},
     "output_type": "execute_result"
    }
   ],
   "source": [
    "df_cluster.shape"
   ]
  },
  {
   "cell_type": "markdown",
   "metadata": {},
   "source": [
    "Try EFA"
   ]
  },
  {
   "cell_type": "code",
   "execution_count": 98,
   "metadata": {},
   "outputs": [],
   "source": [
    "demographic_cols = ['cvap21bapp', 'mhhi21', 'h21p', 'nha21p', 'nhb21p', 'nhw21p', 'white_transplant_ratio','hh21op','bus_ratio','drive_ratio','mean_noise']\n",
    "demographic_cols.extend(top_std_cols)"
   ]
  },
  {
   "cell_type": "code",
   "execution_count": 114,
   "metadata": {},
   "outputs": [
    {
     "data": {
      "text/plain": [
       "Index(['Precinct', 'vote', 'total_vote_precinct', 'vote_share', 'ed_name',\n",
       "       'winner', 'rank', 'district', 'candidate', 'matched_name',\n",
       "       ...\n",
       "       'wf2cop', 'w2psp', 'w2sep', 'w2npp', 'w2govp', 'w2nip', 'kdh24p',\n",
       "       'djt24p', 'wfp24p', 'con24p'],\n",
       "      dtype='object', length=281)"
      ]
     },
     "execution_count": 114,
     "metadata": {},
     "output_type": "execute_result"
    }
   ],
   "source": [
    "demo_occ.columns"
   ]
  },
  {
   "cell_type": "code",
   "execution_count": 99,
   "metadata": {},
   "outputs": [],
   "source": [
    "df_cluster = demo_occ[demographic_cols]\n",
    "scaler = StandardScaler()\n",
    "df_cluster_scaled = scaler.fit_transform(df_cluster)"
   ]
  },
  {
   "cell_type": "code",
   "execution_count": 100,
   "metadata": {},
   "outputs": [
    {
     "data": {
      "text/html": [
       "<style>#sk-container-id-9 {color: black;}#sk-container-id-9 pre{padding: 0;}#sk-container-id-9 div.sk-toggleable {background-color: white;}#sk-container-id-9 label.sk-toggleable__label {cursor: pointer;display: block;width: 100%;margin-bottom: 0;padding: 0.3em;box-sizing: border-box;text-align: center;}#sk-container-id-9 label.sk-toggleable__label-arrow:before {content: \"▸\";float: left;margin-right: 0.25em;color: #696969;}#sk-container-id-9 label.sk-toggleable__label-arrow:hover:before {color: black;}#sk-container-id-9 div.sk-estimator:hover label.sk-toggleable__label-arrow:before {color: black;}#sk-container-id-9 div.sk-toggleable__content {max-height: 0;max-width: 0;overflow: hidden;text-align: left;background-color: #f0f8ff;}#sk-container-id-9 div.sk-toggleable__content pre {margin: 0.2em;color: black;border-radius: 0.25em;background-color: #f0f8ff;}#sk-container-id-9 input.sk-toggleable__control:checked~div.sk-toggleable__content {max-height: 200px;max-width: 100%;overflow: auto;}#sk-container-id-9 input.sk-toggleable__control:checked~label.sk-toggleable__label-arrow:before {content: \"▾\";}#sk-container-id-9 div.sk-estimator input.sk-toggleable__control:checked~label.sk-toggleable__label {background-color: #d4ebff;}#sk-container-id-9 div.sk-label input.sk-toggleable__control:checked~label.sk-toggleable__label {background-color: #d4ebff;}#sk-container-id-9 input.sk-hidden--visually {border: 0;clip: rect(1px 1px 1px 1px);clip: rect(1px, 1px, 1px, 1px);height: 1px;margin: -1px;overflow: hidden;padding: 0;position: absolute;width: 1px;}#sk-container-id-9 div.sk-estimator {font-family: monospace;background-color: #f0f8ff;border: 1px dotted black;border-radius: 0.25em;box-sizing: border-box;margin-bottom: 0.5em;}#sk-container-id-9 div.sk-estimator:hover {background-color: #d4ebff;}#sk-container-id-9 div.sk-parallel-item::after {content: \"\";width: 100%;border-bottom: 1px solid gray;flex-grow: 1;}#sk-container-id-9 div.sk-label:hover label.sk-toggleable__label {background-color: #d4ebff;}#sk-container-id-9 div.sk-serial::before {content: \"\";position: absolute;border-left: 1px solid gray;box-sizing: border-box;top: 0;bottom: 0;left: 50%;z-index: 0;}#sk-container-id-9 div.sk-serial {display: flex;flex-direction: column;align-items: center;background-color: white;padding-right: 0.2em;padding-left: 0.2em;position: relative;}#sk-container-id-9 div.sk-item {position: relative;z-index: 1;}#sk-container-id-9 div.sk-parallel {display: flex;align-items: stretch;justify-content: center;background-color: white;position: relative;}#sk-container-id-9 div.sk-item::before, #sk-container-id-9 div.sk-parallel-item::before {content: \"\";position: absolute;border-left: 1px solid gray;box-sizing: border-box;top: 0;bottom: 0;left: 50%;z-index: -1;}#sk-container-id-9 div.sk-parallel-item {display: flex;flex-direction: column;z-index: 1;position: relative;background-color: white;}#sk-container-id-9 div.sk-parallel-item:first-child::after {align-self: flex-end;width: 50%;}#sk-container-id-9 div.sk-parallel-item:last-child::after {align-self: flex-start;width: 50%;}#sk-container-id-9 div.sk-parallel-item:only-child::after {width: 0;}#sk-container-id-9 div.sk-dashed-wrapped {border: 1px dashed gray;margin: 0 0.4em 0.5em 0.4em;box-sizing: border-box;padding-bottom: 0.4em;background-color: white;}#sk-container-id-9 div.sk-label label {font-family: monospace;font-weight: bold;display: inline-block;line-height: 1.2em;}#sk-container-id-9 div.sk-label-container {text-align: center;}#sk-container-id-9 div.sk-container {/* jupyter's `normalize.less` sets `[hidden] { display: none; }` but bootstrap.min.css set `[hidden] { display: none !important; }` so we also need the `!important` here to be able to override the default hidden behavior on the sphinx rendered scikit-learn.org. See: https://github.com/scikit-learn/scikit-learn/issues/21755 */display: inline-block !important;position: relative;}#sk-container-id-9 div.sk-text-repr-fallback {display: none;}</style><div id=\"sk-container-id-9\" class=\"sk-top-container\"><div class=\"sk-text-repr-fallback\"><pre>FactorAnalyzer(rotation=None, rotation_kwargs={})</pre><b>In a Jupyter environment, please rerun this cell to show the HTML representation or trust the notebook. <br />On GitHub, the HTML representation is unable to render, please try loading this page with nbviewer.org.</b></div><div class=\"sk-container\" hidden><div class=\"sk-item\"><div class=\"sk-estimator sk-toggleable\"><input class=\"sk-toggleable__control sk-hidden--visually\" id=\"sk-estimator-id-9\" type=\"checkbox\" checked><label for=\"sk-estimator-id-9\" class=\"sk-toggleable__label sk-toggleable__label-arrow\">FactorAnalyzer</label><div class=\"sk-toggleable__content\"><pre>FactorAnalyzer(rotation=None, rotation_kwargs={})</pre></div></div></div></div></div>"
      ],
      "text/plain": [
       "FactorAnalyzer(rotation=None, rotation_kwargs={})"
      ]
     },
     "execution_count": 100,
     "metadata": {},
     "output_type": "execute_result"
    }
   ],
   "source": [
    "fa = FactorAnalyzer(rotation=None)\n",
    "fa.fit(df_cluster_scaled)"
   ]
  },
  {
   "cell_type": "code",
   "execution_count": 101,
   "metadata": {},
   "outputs": [
    {
     "name": "stdout",
     "output_type": "stream",
     "text": [
      "Eigenvalues: [5.73203569 3.07148367 2.39110417 1.07020701 1.0552879  0.96029652\n",
      " 0.8929574  0.84253349 0.81033837 0.75153116 0.67247176 0.64920021\n",
      " 0.5397435  0.51134517 0.47279921 0.41268472 0.38477947 0.25745352\n",
      " 0.24225478 0.15693139 0.10900874 0.01355214]\n"
     ]
    }
   ],
   "source": [
    "eigenvalues, _ = fa.get_eigenvalues()\n",
    "print(\"Eigenvalues:\", eigenvalues)"
   ]
  },
  {
   "cell_type": "code",
   "execution_count": 102,
   "metadata": {},
   "outputs": [
    {
     "data": {
      "image/png": "[encoded data removed]",
      "text/plain": [
       "<Figure size 800x500 with 1 Axes>"
      ]
     },
     "metadata": {},
     "output_type": "display_data"
    }
   ],
   "source": [
    "plt.figure(figsize=(8, 5))\n",
    "plt.scatter(range(1, len(eigenvalues) + 1), eigenvalues)\n",
    "plt.plot(range(1, len(eigenvalues) + 1), eigenvalues, marker='o')\n",
    "plt.title('Scree Plot')\n",
    "plt.xlabel('Factor Number')\n",
    "plt.ylabel('Eigenvalue')\n",
    "plt.grid(True)\n",
    "plt.show()"
   ]
  },
  {
   "cell_type": "code",
   "execution_count": 103,
   "metadata": {},
   "outputs": [
    {
     "data": {
      "text/html": [
       "<style>#sk-container-id-10 {color: black;}#sk-container-id-10 pre{padding: 0;}#sk-container-id-10 div.sk-toggleable {background-color: white;}#sk-container-id-10 label.sk-toggleable__label {cursor: pointer;display: block;width: 100%;margin-bottom: 0;padding: 0.3em;box-sizing: border-box;text-align: center;}#sk-container-id-10 label.sk-toggleable__label-arrow:before {content: \"▸\";float: left;margin-right: 0.25em;color: #696969;}#sk-container-id-10 label.sk-toggleable__label-arrow:hover:before {color: black;}#sk-container-id-10 div.sk-estimator:hover label.sk-toggleable__label-arrow:before {color: black;}#sk-container-id-10 div.sk-toggleable__content {max-height: 0;max-width: 0;overflow: hidden;text-align: left;background-color: #f0f8ff;}#sk-container-id-10 div.sk-toggleable__content pre {margin: 0.2em;color: black;border-radius: 0.25em;background-color: #f0f8ff;}#sk-container-id-10 input.sk-toggleable__control:checked~div.sk-toggleable__content {max-height: 200px;max-width: 100%;overflow: auto;}#sk-container-id-10 input.sk-toggleable__control:checked~label.sk-toggleable__label-arrow:before {content: \"▾\";}#sk-container-id-10 div.sk-estimator input.sk-toggleable__control:checked~label.sk-toggleable__label {background-color: #d4ebff;}#sk-container-id-10 div.sk-label input.sk-toggleable__control:checked~label.sk-toggleable__label {background-color: #d4ebff;}#sk-container-id-10 input.sk-hidden--visually {border: 0;clip: rect(1px 1px 1px 1px);clip: rect(1px, 1px, 1px, 1px);height: 1px;margin: -1px;overflow: hidden;padding: 0;position: absolute;width: 1px;}#sk-container-id-10 div.sk-estimator {font-family: monospace;background-color: #f0f8ff;border: 1px dotted black;border-radius: 0.25em;box-sizing: border-box;margin-bottom: 0.5em;}#sk-container-id-10 div.sk-estimator:hover {background-color: #d4ebff;}#sk-container-id-10 div.sk-parallel-item::after {content: \"\";width: 100%;border-bottom: 1px solid gray;flex-grow: 1;}#sk-container-id-10 div.sk-label:hover label.sk-toggleable__label {background-color: #d4ebff;}#sk-container-id-10 div.sk-serial::before {content: \"\";position: absolute;border-left: 1px solid gray;box-sizing: border-box;top: 0;bottom: 0;left: 50%;z-index: 0;}#sk-container-id-10 div.sk-serial {display: flex;flex-direction: column;align-items: center;background-color: white;padding-right: 0.2em;padding-left: 0.2em;position: relative;}#sk-container-id-10 div.sk-item {position: relative;z-index: 1;}#sk-container-id-10 div.sk-parallel {display: flex;align-items: stretch;justify-content: center;background-color: white;position: relative;}#sk-container-id-10 div.sk-item::before, #sk-container-id-10 div.sk-parallel-item::before {content: \"\";position: absolute;border-left: 1px solid gray;box-sizing: border-box;top: 0;bottom: 0;left: 50%;z-index: -1;}#sk-container-id-10 div.sk-parallel-item {display: flex;flex-direction: column;z-index: 1;position: relative;background-color: white;}#sk-container-id-10 div.sk-parallel-item:first-child::after {align-self: flex-end;width: 50%;}#sk-container-id-10 div.sk-parallel-item:last-child::after {align-self: flex-start;width: 50%;}#sk-container-id-10 div.sk-parallel-item:only-child::after {width: 0;}#sk-container-id-10 div.sk-dashed-wrapped {border: 1px dashed gray;margin: 0 0.4em 0.5em 0.4em;box-sizing: border-box;padding-bottom: 0.4em;background-color: white;}#sk-container-id-10 div.sk-label label {font-family: monospace;font-weight: bold;display: inline-block;line-height: 1.2em;}#sk-container-id-10 div.sk-label-container {text-align: center;}#sk-container-id-10 div.sk-container {/* jupyter's `normalize.less` sets `[hidden] { display: none; }` but bootstrap.min.css set `[hidden] { display: none !important; }` so we also need the `!important` here to be able to override the default hidden behavior on the sphinx rendered scikit-learn.org. See: https://github.com/scikit-learn/scikit-learn/issues/21755 */display: inline-block !important;position: relative;}#sk-container-id-10 div.sk-text-repr-fallback {display: none;}</style><div id=\"sk-container-id-10\" class=\"sk-top-container\"><div class=\"sk-text-repr-fallback\"><pre>FactorAnalyzer(n_factors=4, rotation=&#x27;varimax&#x27;, rotation_kwargs={})</pre><b>In a Jupyter environment, please rerun this cell to show the HTML representation or trust the notebook. <br />On GitHub, the HTML representation is unable to render, please try loading this page with nbviewer.org.</b></div><div class=\"sk-container\" hidden><div class=\"sk-item\"><div class=\"sk-estimator sk-toggleable\"><input class=\"sk-toggleable__control sk-hidden--visually\" id=\"sk-estimator-id-10\" type=\"checkbox\" checked><label for=\"sk-estimator-id-10\" class=\"sk-toggleable__label sk-toggleable__label-arrow\">FactorAnalyzer</label><div class=\"sk-toggleable__content\"><pre>FactorAnalyzer(n_factors=4, rotation=&#x27;varimax&#x27;, rotation_kwargs={})</pre></div></div></div></div></div>"
      ],
      "text/plain": [
       "FactorAnalyzer(n_factors=4, rotation='varimax', rotation_kwargs={})"
      ]
     },
     "execution_count": 103,
     "metadata": {},
     "output_type": "execute_result"
    }
   ],
   "source": [
    "num_factors = 4\n",
    "fa = FactorAnalyzer(n_factors=num_factors, rotation='varimax')\n",
    "fa.fit(df_cluster_scaled)"
   ]
  },
  {
   "cell_type": "code",
   "execution_count": 104,
   "metadata": {},
   "outputs": [],
   "source": [
    "df_cluster_scaled_factors = fa.transform(df_cluster_scaled)"
   ]
  },
  {
   "cell_type": "code",
   "execution_count": 105,
   "metadata": {},
   "outputs": [],
   "source": [
    "df_cluster_scaled_factors = pd.DataFrame(df_cluster_scaled_factors, columns=[f'factor_{i}' for i in range(num_factors)])"
   ]
  },
  {
   "cell_type": "code",
   "execution_count": 106,
   "metadata": {},
   "outputs": [],
   "source": [
    "df_cluster_scaled_factors['ed_name'] = demo_occ['ed_name']"
   ]
  },
  {
   "cell_type": "code",
   "execution_count": 107,
   "metadata": {},
   "outputs": [],
   "source": [
    "df_cluster_scaled_factors['top_factor'] = df_cluster_scaled_factors[[f'factor_{i}' for i in range(num_factors)]].idxmax(axis=1)"
   ]
  },
  {
   "cell_type": "code",
   "execution_count": 108,
   "metadata": {},
   "outputs": [
    {
     "name": "stdout",
     "output_type": "stream",
     "text": [
      "Factor Loadings:\n",
      "                          Factor1   Factor2   Factor3   Factor4\n",
      "cvap21bapp             -0.897136  0.265259 -0.044218  0.096595\n",
      "mhhi21                 -0.130849  0.384571  0.058620  0.051149\n",
      "h21p                    0.426628 -0.697213  0.097864  0.232432\n",
      "nha21p                  0.020515  0.327904  0.473374  0.187147\n",
      "nhb21p                  0.351936 -0.079965 -0.331190 -0.875794\n",
      "nhw21p                 -0.649668  0.383236 -0.134356  0.364610\n",
      "white_transplant_ratio -0.918936 -0.068504 -0.049997  0.015372\n",
      "hh21op                  0.090716  0.852552 -0.075619  0.166109\n",
      "bus_ratio               0.556142 -0.081727 -0.071534 -0.148856\n",
      "drive_ratio             0.531346  0.677270 -0.081885  0.152064\n",
      "mean_noise              0.026852 -0.321364 -0.043873  0.000101\n",
      "w2psp                  -0.010969 -0.207822  0.655385 -0.095922\n",
      "w2hsp                   0.577766 -0.297391  0.098917 -0.243934\n",
      "w2oadp                  0.396414  0.111756  0.070389 -0.015364\n",
      "w2conp                  0.410611  0.008005  0.273530  0.158523\n",
      "w2foodp                 0.290224 -0.368114  0.439693  0.118038\n",
      "w2salep                -0.040561  0.092709  0.397926  0.127849\n",
      "w2govp                  0.460098  0.297954 -0.404275 -0.207243\n",
      "w2bgp                   0.455336 -0.421327  0.220670  0.058890\n",
      "w2mgtp                 -0.758431  0.195549 -0.035915  0.048938\n",
      "w2npp                  -0.250072 -0.131436 -0.341906  0.021957\n",
      "w2pservep               0.199114 -0.169662  0.257556 -0.001144\n"
     ]
    }
   ],
   "source": [
    "loadings = fa.loadings_\n",
    "loadings_df = pd.DataFrame(loadings, index=df_cluster.columns, \n",
    "                           columns=[f'Factor{i+1}' for i in range(num_factors)])\n",
    "print(\"Factor Loadings:\\n\", loadings_df)"
   ]
  },
  {
   "cell_type": "code",
   "execution_count": 109,
   "metadata": {},
   "outputs": [
    {
     "data": {
      "image/png": "[encoded data removed]",
      "text/plain": [
       "<Figure size 1000x800 with 2 Axes>"
      ]
     },
     "metadata": {},
     "output_type": "display_data"
    }
   ],
   "source": [
    "plt.figure(figsize=(10, 8))\n",
    "sns.heatmap(loadings_df, annot=True, cmap='coolwarm', center=0)\n",
    "plt.title(\"Factor Loadings Heatmap\")\n",
    "plt.show()"
   ]
  },
  {
   "cell_type": "code",
   "execution_count": 111,
   "metadata": {},
   "outputs": [
    {
     "name": "stdout",
     "output_type": "stream",
     "text": [
      "Communalities:\n",
      "                         Communalities\n",
      "cvap21bapp                   0.886500\n",
      "mhhi21                       0.171069\n",
      "h21p                         0.731719\n",
      "nha21p                       0.367048\n",
      "nhb21p                       1.006955\n",
      "nhw21p                       0.719929\n",
      "white_transplant_ratio       0.851871\n",
      "hh21op                       0.768385\n",
      "bus_ratio                    0.343249\n",
      "drive_ratio                  0.770852\n",
      "mean_noise                   0.105921\n",
      "w2psp                        0.482040\n",
      "w2hsp                        0.491544\n",
      "w2oadp                       0.174824\n",
      "w2conp                       0.268613\n",
      "w2foodp                      0.427001\n",
      "w2salep                      0.184930\n",
      "w2govp                       0.506854\n",
      "w2bgp                        0.437011\n",
      "w2mgtp                       0.617142\n",
      "w2npp                        0.197193\n",
      "w2pservep                    0.134768\n"
     ]
    }
   ],
   "source": [
    "communalities = fa.get_communalities()\n",
    "communalities_df = pd.DataFrame(communalities, index=df_cluster.columns, columns=['Communalities'])\n",
    "print(\"Communalities:\\n\", communalities_df)"
   ]
  },
  {
   "cell_type": "code",
   "execution_count": 116,
   "metadata": {},
   "outputs": [],
   "source": [
    "test = df_cluster_scaled_factors.merge(demo_occ[['ed_name','djt24p']], on='ed_name')"
   ]
  },
  {
   "cell_type": "code",
   "execution_count": 117,
   "metadata": {},
   "outputs": [],
   "source": [
    "target = 'djt24p'\n",
    "mod = sm.OLS(test[target], sm.add_constant(test[[f'factor_{i}' for i in range(num_factors)]]))\n",
    "res = mod.fit()"
   ]
  },
  {
   "cell_type": "markdown",
   "metadata": {},
   "source": [
    "Look at citywide breakdown of job, education, income "
   ]
  },
  {
   "cell_type": "code",
   "execution_count": 130,
   "metadata": {},
   "outputs": [
    {
     "data": {
      "text/plain": [
       "['w2psp',\n",
       " 'w2oadp',\n",
       " 'w2salep',\n",
       " 'w2govp',\n",
       " 'w2hsp',\n",
       " 'w2npp',\n",
       " 'w2mgtp',\n",
       " 'w2foodp',\n",
       " 'w2conp',\n",
       " 'w2bgp',\n",
       " 'w2pservep',\n",
       " 'w2edup',\n",
       " 'w2banp',\n",
       " 'w2nip',\n",
       " 'w2tranp',\n",
       " 'w2admp',\n",
       " 'w2ffp',\n",
       " 'w2docp',\n",
       " 'w2sep',\n",
       " 'w2cmp']"
      ]
     },
     "execution_count": 130,
     "metadata": {},
     "output_type": "execute_result"
    }
   ],
   "source": [
    "top_mean_cols"
   ]
  },
  {
   "cell_type": "code",
   "execution_count": null,
   "metadata": {},
   "outputs": [],
   "source": [
    "['w2mgtp','w2banbp','w2cmp','w2aep','w2scip','w2cossp','w2lawp','w2edup','w2admp','w2docp',]"
   ]
  },
  {
   "cell_type": "code",
   "execution_count": 131,
   "metadata": {},
   "outputs": [
    {
     "data": {
      "text/plain": [
       "['w2mgtp',\n",
       " 'w2banp',\n",
       " 'w2cmp',\n",
       " 'w2aep',\n",
       " 'w2scip',\n",
       " 'w2cossp',\n",
       " 'w2lawp',\n",
       " 'w2edup',\n",
       " 'w2admp',\n",
       " 'w2docp',\n",
       " 'w2htp',\n",
       " 'w2hsp',\n",
       " 'w2ffp',\n",
       " 'w2copp',\n",
       " 'w2foodp',\n",
       " 'w2bgp',\n",
       " 'w2pservep',\n",
       " 'w2salep',\n",
       " 'w2oadp',\n",
       " 'w2farmp',\n",
       " 'w2conp',\n",
       " 'w2emrp',\n",
       " 'w2prodp',\n",
       " 'w2tranp',\n",
       " 'w2matp',\n",
       " 'w2psp',\n",
       " 'w2sep',\n",
       " 'w2npp',\n",
       " 'w2govp',\n",
       " 'w2nip']"
      ]
     },
     "execution_count": 131,
     "metadata": {},
     "output_type": "execute_result"
    }
   ],
   "source": [
    "wp_cols"
   ]
  },
  {
   "cell_type": "code",
   "execution_count": 132,
   "metadata": {},
   "outputs": [],
   "source": [
    "to_remove = [ 'w2psp',\n",
    " 'w2sep',\n",
    " 'w2npp',\n",
    " 'w2govp',\n",
    " 'w2nip']\n",
    "wp_cols = [col for col in wp_cols if col not in to_remove]"
   ]
  },
  {
   "cell_type": "code",
   "execution_count": 22,
   "metadata": {},
   "outputs": [],
   "source": [
    "top_mean_cols = occ_df[wp_cols].mean().nlargest(20).index.tolist()"
   ]
  },
  {
   "cell_type": "code",
   "execution_count": null,
   "metadata": {},
   "outputs": [
    {
     "data": {
      "text/plain": [
       "w2oadp       21.356286\n",
       "w2salep      17.305053\n",
       "w2hsp        13.378735\n",
       "w2mgtp       10.345876\n",
       "w2foodp      10.066707\n",
       "w2conp        8.358332\n",
       "w2bgp         8.131583\n",
       "w2pservep     6.979978\n",
       "w2edup        6.763752\n",
       "w2banp        6.315915\n",
       "w2tranp       4.620273\n",
       "w2admp        4.328931\n",
       "w2docp        4.047364\n",
       "w2ffp         3.949643\n",
       "w2cmp         3.405054\n",
       "w2htp         3.193492\n",
       "w2cossp       2.193999\n",
       "w2prodp       2.180424\n",
       "w2matp        2.148651\n",
       "w2lawp        2.085900\n",
       "dtype: float64"
      ]
     },
     "execution_count": 134,
     "metadata": {},
     "output_type": "execute_result"
    }
   ],
   "source": [
    "demo_occ[wp_cols]"
   ]
  },
  {
   "cell_type": "code",
   "execution_count": 17,
   "metadata": {},
   "outputs": [],
   "source": [
    "key_demo_cols = [ 'cvap21bapp',\n",
    " 'mhhi21',\n",
    " 'h21p',\n",
    " 'nha21p',\n",
    " 'nhb21p',\n",
    " 'nhw21p']"
   ]
  },
  {
   "cell_type": "code",
   "execution_count": 20,
   "metadata": {},
   "outputs": [],
   "source": [
    "for col in key_demo_cols:\n",
    "    demo_occ[col + '_quintile'] = pd.qcut(demo_occ[col], 3, labels=False) + 1"
   ]
  },
  {
   "cell_type": "code",
   "execution_count": 23,
   "metadata": {},
   "outputs": [
    {
     "data": {
      "text/html": [
       "<div>\n",
       "<style scoped>\n",
       "    .dataframe tbody tr th:only-of-type {\n",
       "        vertical-align: middle;\n",
       "    }\n",
       "\n",
       "    .dataframe tbody tr th {\n",
       "        vertical-align: top;\n",
       "    }\n",
       "\n",
       "    .dataframe thead th {\n",
       "        text-align: right;\n",
       "    }\n",
       "</style>\n",
       "<table border=\"1\" class=\"dataframe\">\n",
       "  <thead>\n",
       "    <tr style=\"text-align: right;\">\n",
       "      <th></th>\n",
       "      <th>w2psp</th>\n",
       "      <th>w2oadp</th>\n",
       "      <th>w2salep</th>\n",
       "      <th>w2govp</th>\n",
       "      <th>w2hsp</th>\n",
       "      <th>w2npp</th>\n",
       "      <th>w2mgtp</th>\n",
       "      <th>w2foodp</th>\n",
       "      <th>w2conp</th>\n",
       "      <th>w2bgp</th>\n",
       "      <th>w2pservep</th>\n",
       "      <th>w2edup</th>\n",
       "      <th>w2banp</th>\n",
       "      <th>w2nip</th>\n",
       "      <th>w2tranp</th>\n",
       "      <th>w2admp</th>\n",
       "      <th>w2ffp</th>\n",
       "      <th>w2docp</th>\n",
       "      <th>w2sep</th>\n",
       "      <th>w2cmp</th>\n",
       "    </tr>\n",
       "    <tr>\n",
       "      <th>cvap21bapp_quintile</th>\n",
       "      <th></th>\n",
       "      <th></th>\n",
       "      <th></th>\n",
       "      <th></th>\n",
       "      <th></th>\n",
       "      <th></th>\n",
       "      <th></th>\n",
       "      <th></th>\n",
       "      <th></th>\n",
       "      <th></th>\n",
       "      <th></th>\n",
       "      <th></th>\n",
       "      <th></th>\n",
       "      <th></th>\n",
       "      <th></th>\n",
       "      <th></th>\n",
       "      <th></th>\n",
       "      <th></th>\n",
       "      <th></th>\n",
       "      <th></th>\n",
       "    </tr>\n",
       "  </thead>\n",
       "  <tbody>\n",
       "    <tr>\n",
       "      <th>1</th>\n",
       "      <td>65.481317</td>\n",
       "      <td>24.427641</td>\n",
       "      <td>17.373484</td>\n",
       "      <td>15.148218</td>\n",
       "      <td>20.918936</td>\n",
       "      <td>10.239434</td>\n",
       "      <td>6.207370</td>\n",
       "      <td>12.915304</td>\n",
       "      <td>11.032433</td>\n",
       "      <td>12.560703</td>\n",
       "      <td>8.375307</td>\n",
       "      <td>5.549881</td>\n",
       "      <td>3.192628</td>\n",
       "      <td>5.362413</td>\n",
       "      <td>6.435769</td>\n",
       "      <td>1.575371</td>\n",
       "      <td>5.636201</td>\n",
       "      <td>2.348001</td>\n",
       "      <td>2.056545</td>\n",
       "      <td>1.740600</td>\n",
       "    </tr>\n",
       "    <tr>\n",
       "      <th>2</th>\n",
       "      <td>62.883488</td>\n",
       "      <td>23.081135</td>\n",
       "      <td>17.052454</td>\n",
       "      <td>16.168437</td>\n",
       "      <td>13.877228</td>\n",
       "      <td>10.380306</td>\n",
       "      <td>8.934517</td>\n",
       "      <td>11.241652</td>\n",
       "      <td>9.966566</td>\n",
       "      <td>8.097557</td>\n",
       "      <td>7.245106</td>\n",
       "      <td>7.252168</td>\n",
       "      <td>5.377504</td>\n",
       "      <td>5.840873</td>\n",
       "      <td>5.249457</td>\n",
       "      <td>3.465033</td>\n",
       "      <td>4.127875</td>\n",
       "      <td>4.147720</td>\n",
       "      <td>3.374888</td>\n",
       "      <td>3.131177</td>\n",
       "    </tr>\n",
       "    <tr>\n",
       "      <th>3</th>\n",
       "      <td>62.469505</td>\n",
       "      <td>16.558606</td>\n",
       "      <td>17.489188</td>\n",
       "      <td>10.999696</td>\n",
       "      <td>5.336420</td>\n",
       "      <td>12.781087</td>\n",
       "      <td>15.897729</td>\n",
       "      <td>6.041796</td>\n",
       "      <td>4.074712</td>\n",
       "      <td>3.734362</td>\n",
       "      <td>5.318849</td>\n",
       "      <td>7.489791</td>\n",
       "      <td>10.379113</td>\n",
       "      <td>7.026927</td>\n",
       "      <td>2.174722</td>\n",
       "      <td>7.947711</td>\n",
       "      <td>2.084045</td>\n",
       "      <td>5.647186</td>\n",
       "      <td>5.317355</td>\n",
       "      <td>5.344184</td>\n",
       "    </tr>\n",
       "  </tbody>\n",
       "</table>\n",
       "</div>"
      ],
      "text/plain": [
       "                         w2psp     w2oadp    w2salep     w2govp      w2hsp  \\\n",
       "cvap21bapp_quintile                                                          \n",
       "1                    65.481317  24.427641  17.373484  15.148218  20.918936   \n",
       "2                    62.883488  23.081135  17.052454  16.168437  13.877228   \n",
       "3                    62.469505  16.558606  17.489188  10.999696   5.336420   \n",
       "\n",
       "                         w2npp     w2mgtp    w2foodp     w2conp      w2bgp  \\\n",
       "cvap21bapp_quintile                                                          \n",
       "1                    10.239434   6.207370  12.915304  11.032433  12.560703   \n",
       "2                    10.380306   8.934517  11.241652   9.966566   8.097557   \n",
       "3                    12.781087  15.897729   6.041796   4.074712   3.734362   \n",
       "\n",
       "                     w2pservep    w2edup     w2banp     w2nip   w2tranp  \\\n",
       "cvap21bapp_quintile                                                       \n",
       "1                     8.375307  5.549881   3.192628  5.362413  6.435769   \n",
       "2                     7.245106  7.252168   5.377504  5.840873  5.249457   \n",
       "3                     5.318849  7.489791  10.379113  7.026927  2.174722   \n",
       "\n",
       "                       w2admp     w2ffp    w2docp     w2sep     w2cmp  \n",
       "cvap21bapp_quintile                                                    \n",
       "1                    1.575371  5.636201  2.348001  2.056545  1.740600  \n",
       "2                    3.465033  4.127875  4.147720  3.374888  3.131177  \n",
       "3                    7.947711  2.084045  5.647186  5.317355  5.344184  "
      ]
     },
     "execution_count": 23,
     "metadata": {},
     "output_type": "execute_result"
    }
   ],
   "source": [
    "demo_occ.groupby('cvap21bapp_quintile')[top_mean_cols].mean()"
   ]
  },
  {
   "cell_type": "code",
   "execution_count": 24,
   "metadata": {},
   "outputs": [
    {
     "name": "stdout",
     "output_type": "stream",
     "text": [
      "                    w2hsp     w2oadp      w2psp    w2salep\n",
      "mhhi21_quintile                                           \n",
      "1                16.70399  21.965228  64.088152        NaN\n",
      "2                     NaN  21.379494  64.247283  17.506613\n",
      "3                     NaN  20.723528  62.498704  17.721330\n"
     ]
    }
   ],
   "source": [
    "grouped = demo_occ.groupby('mhhi21_quintile')[top_mean_cols].mean()\n",
    "top_three_values = grouped.apply(lambda row: row.nlargest(3), axis=1)\n",
    "print(top_three_values)\n"
   ]
  },
  {
   "cell_type": "code",
   "execution_count": 25,
   "metadata": {},
   "outputs": [
    {
     "name": "stdout",
     "output_type": "stream",
     "text": [
      "w2hsp      15.582516\n",
      "w2mgtp      9.690359\n",
      "w2bgp       8.826341\n",
      "w2oadp      7.869035\n",
      "w2banp      7.186485\n",
      "w2conp      6.957721\n",
      "w2foodp     6.873508\n",
      "w2admp      6.372340\n",
      "w2govp      5.168741\n",
      "w2tranp     4.261047\n",
      "dtype: float64\n"
     ]
    }
   ],
   "source": [
    "mean_values = demo_occ.groupby('cvap21bapp_quintile')[top_mean_cols].agg(\"mean\")\n",
    "diffs = mean_values.max() - mean_values.min()  \n",
    "top_diff_cols = diffs.nlargest(10)\n",
    "print(top_diff_cols)"
   ]
  },
  {
   "cell_type": "code",
   "execution_count": 26,
   "metadata": {},
   "outputs": [
    {
     "data": {
      "text/html": [
       "<div>\n",
       "<style scoped>\n",
       "    .dataframe tbody tr th:only-of-type {\n",
       "        vertical-align: middle;\n",
       "    }\n",
       "\n",
       "    .dataframe tbody tr th {\n",
       "        vertical-align: top;\n",
       "    }\n",
       "\n",
       "    .dataframe thead th {\n",
       "        text-align: right;\n",
       "    }\n",
       "</style>\n",
       "<table border=\"1\" class=\"dataframe\">\n",
       "  <thead>\n",
       "    <tr style=\"text-align: right;\">\n",
       "      <th></th>\n",
       "      <th></th>\n",
       "      <th>ed_name</th>\n",
       "    </tr>\n",
       "    <tr>\n",
       "      <th>cvap21bapp_quintile</th>\n",
       "      <th>mhhi21_quintile</th>\n",
       "      <th></th>\n",
       "    </tr>\n",
       "  </thead>\n",
       "  <tbody>\n",
       "    <tr>\n",
       "      <th rowspan=\"3\" valign=\"top\">1</th>\n",
       "      <th>1</th>\n",
       "      <td>1016</td>\n",
       "    </tr>\n",
       "    <tr>\n",
       "      <th>2</th>\n",
       "      <td>599</td>\n",
       "    </tr>\n",
       "    <tr>\n",
       "      <th>3</th>\n",
       "      <td>468</td>\n",
       "    </tr>\n",
       "    <tr>\n",
       "      <th rowspan=\"3\" valign=\"top\">2</th>\n",
       "      <th>1</th>\n",
       "      <td>579</td>\n",
       "    </tr>\n",
       "    <tr>\n",
       "      <th>2</th>\n",
       "      <td>722</td>\n",
       "    </tr>\n",
       "    <tr>\n",
       "      <th>3</th>\n",
       "      <td>781</td>\n",
       "    </tr>\n",
       "    <tr>\n",
       "      <th rowspan=\"3\" valign=\"top\">3</th>\n",
       "      <th>1</th>\n",
       "      <td>488</td>\n",
       "    </tr>\n",
       "    <tr>\n",
       "      <th>2</th>\n",
       "      <td>762</td>\n",
       "    </tr>\n",
       "    <tr>\n",
       "      <th>3</th>\n",
       "      <td>832</td>\n",
       "    </tr>\n",
       "  </tbody>\n",
       "</table>\n",
       "</div>"
      ],
      "text/plain": [
       "                                     ed_name\n",
       "cvap21bapp_quintile mhhi21_quintile         \n",
       "1                   1                   1016\n",
       "                    2                    599\n",
       "                    3                    468\n",
       "2                   1                    579\n",
       "                    2                    722\n",
       "                    3                    781\n",
       "3                   1                    488\n",
       "                    2                    762\n",
       "                    3                    832"
      ]
     },
     "execution_count": 26,
     "metadata": {},
     "output_type": "execute_result"
    }
   ],
   "source": [
    "demo_occ[['ed_name','cvap21bapp_quintile','mhhi21_quintile']].groupby(['cvap21bapp_quintile','mhhi21_quintile']).count()"
   ]
  },
  {
   "cell_type": "code",
   "execution_count": 116,
   "metadata": {},
   "outputs": [],
   "source": [
    "conditions = [\n",
    "    (demo_occ[\"cvap21bapp_quintile\"] == 1) & \n",
    "    (demo_occ[\"mhhi21_quintile\"].isin([2,3])),\n",
    "    \n",
    "    (demo_occ[\"cvap21bapp_quintile\"] == 3) & \n",
    "    (demo_occ[\"mhhi21_quintile\"].isin([1,2])),\n",
    "\n",
    "    (demo_occ[\"cvap21bapp_quintile\"] == 3) &\n",
    "    (demo_occ[\"mhhi21_quintile\"] == 3),\n",
    "\n",
    "    (demo_occ[\"cvap21bapp_quintile\"] == 1 ) &\n",
    "    (demo_occ[\"mhhi21_quintile\"] == 1),\n",
    "\n",
    "    (demo_occ[\"cvap21bapp_quintile\"] == 2 ) &\n",
    "    (demo_occ[\"mhhi21_quintile\"] == 2)\n",
    "]\n",
    "\n",
    "values = ['over_paid', 'under_paid','highed_hihghin','lowed_lowhin','mided_midhin'] \n",
    "demo_occ[\"ed_inc\"] = np.select(conditions, values, default=0)"
   ]
  },
  {
   "cell_type": "code",
   "execution_count": 117,
   "metadata": {},
   "outputs": [],
   "source": [
    "occ_col_names = ['occ','desc1','desc2','category']"
   ]
  },
  {
   "cell_type": "code",
   "execution_count": 118,
   "metadata": {},
   "outputs": [],
   "source": [
    "occ_cols = pd.read_excel(\"../../john_data/occupation_variables.xlsx\", sheet_name=1, header=None, names=occ_col_names) \n",
    "occ_wp_cols = occ_cols[occ_cols['occ'].isin(wp_cols)]"
   ]
  },
  {
   "cell_type": "code",
   "execution_count": 119,
   "metadata": {},
   "outputs": [],
   "source": [
    "col_mapping = occ_wp_cols.set_index('occ')['desc2'].to_dict()"
   ]
  },
  {
   "cell_type": "code",
   "execution_count": 120,
   "metadata": {},
   "outputs": [],
   "source": [
    "# make a list of col_mapping's keys\n",
    "keys = list(col_mapping.keys())\n",
    "values = list(col_mapping.values())"
   ]
  },
  {
   "cell_type": "code",
   "execution_count": 121,
   "metadata": {},
   "outputs": [],
   "source": [
    "demo_occ_renamed = demo_occ.rename(columns=col_mapping)"
   ]
  },
  {
   "cell_type": "code",
   "execution_count": 122,
   "metadata": {},
   "outputs": [],
   "source": [
    "demo_occ_renamed = demo_occ_renamed.groupby(level=0, axis=1).sum()"
   ]
  },
  {
   "cell_type": "code",
   "execution_count": 123,
   "metadata": {},
   "outputs": [],
   "source": [
    "demo_occ_renamed['dpp20bs'] = demo_occ_renamed['dpp20bs'] / 10"
   ]
  },
  {
   "cell_type": "code",
   "execution_count": null,
   "metadata": {},
   "outputs": [
    {
     "data": {
      "text/html": [
       "<div>\n",
       "<style scoped>\n",
       "    .dataframe tbody tr th:only-of-type {\n",
       "        vertical-align: middle;\n",
       "    }\n",
       "\n",
       "    .dataframe tbody tr th {\n",
       "        vertical-align: top;\n",
       "    }\n",
       "\n",
       "    .dataframe thead th {\n",
       "        text-align: right;\n",
       "    }\n",
       "</style>\n",
       "<table border=\"1\" class=\"dataframe\">\n",
       "  <thead>\n",
       "    <tr style=\"text-align: right;\">\n",
       "      <th></th>\n",
       "      <th>dpp20bs</th>\n",
       "      <th>pg20djtp</th>\n",
       "      <th>pg20jrbp</th>\n",
       "      <th>garcia213p</th>\n",
       "      <th>adams213p</th>\n",
       "    </tr>\n",
       "    <tr>\n",
       "      <th>ed_inc</th>\n",
       "      <th></th>\n",
       "      <th></th>\n",
       "      <th></th>\n",
       "      <th></th>\n",
       "      <th></th>\n",
       "    </tr>\n",
       "  </thead>\n",
       "  <tbody>\n",
       "    <tr>\n",
       "      <th>0</th>\n",
       "      <td>7.678786</td>\n",
       "      <td>29.257976</td>\n",
       "      <td>68.870513</td>\n",
       "      <td>34.405806</td>\n",
       "      <td>46.450501</td>\n",
       "    </tr>\n",
       "    <tr>\n",
       "      <th>highed_hihghin</th>\n",
       "      <td>10.272520</td>\n",
       "      <td>21.571149</td>\n",
       "      <td>75.932650</td>\n",
       "      <td>60.521216</td>\n",
       "      <td>25.342515</td>\n",
       "    </tr>\n",
       "    <tr>\n",
       "      <th>lowed_lowhin</th>\n",
       "      <td>8.016560</td>\n",
       "      <td>15.642313</td>\n",
       "      <td>81.075524</td>\n",
       "      <td>19.241959</td>\n",
       "      <td>63.764345</td>\n",
       "    </tr>\n",
       "    <tr>\n",
       "      <th>mided_midhin</th>\n",
       "      <td>7.797691</td>\n",
       "      <td>30.971134</td>\n",
       "      <td>67.090288</td>\n",
       "      <td>35.102720</td>\n",
       "      <td>45.509880</td>\n",
       "    </tr>\n",
       "    <tr>\n",
       "      <th>over_paid</th>\n",
       "      <td>4.427515</td>\n",
       "      <td>20.902627</td>\n",
       "      <td>77.080095</td>\n",
       "      <td>22.395326</td>\n",
       "      <td>60.092957</td>\n",
       "    </tr>\n",
       "    <tr>\n",
       "      <th>under_paid</th>\n",
       "      <td>13.649181</td>\n",
       "      <td>20.096701</td>\n",
       "      <td>77.683737</td>\n",
       "      <td>56.414763</td>\n",
       "      <td>28.984805</td>\n",
       "    </tr>\n",
       "  </tbody>\n",
       "</table>\n",
       "</div>"
      ],
      "text/plain": [
       "                  dpp20bs   pg20djtp   pg20jrbp  garcia213p  adams213p\n",
       "ed_inc                                                                \n",
       "0                7.678786  29.257976  68.870513   34.405806  46.450501\n",
       "highed_hihghin  10.272520  21.571149  75.932650   60.521216  25.342515\n",
       "lowed_lowhin     8.016560  15.642313  81.075524   19.241959  63.764345\n",
       "mided_midhin     7.797691  30.971134  67.090288   35.102720  45.509880\n",
       "over_paid        4.427515  20.902627  77.080095   22.395326  60.092957\n",
       "under_paid      13.649181  20.096701  77.683737   56.414763  28.984805"
      ]
     },
     "execution_count": 124,
     "metadata": {},
     "output_type": "execute_result"
    }
   ],
   "source": [
    "demo_occ_renamed.groupby('ed_inc')[['Managers', 'Manual Crafts and Trades','Production, Professionals','Low Skill Service','Skilled White Collar']].mean()"
   ]
  },
  {
   "cell_type": "code",
   "execution_count": 35,
   "metadata": {},
   "outputs": [
    {
     "name": "stdout",
     "output_type": "stream",
     "text": [
      "w2hsp      18.420015\n",
      "w2mgtp     10.807999\n",
      "w2bgp      10.261461\n",
      "w2oadp      8.529908\n",
      "w2conp      8.326780\n",
      "w2banp      7.711379\n",
      "w2foodp     7.494554\n",
      "w2admp      6.595917\n",
      "w2govp      5.701448\n",
      "w2tranp     4.302902\n",
      "dtype: float64\n"
     ]
    }
   ],
   "source": [
    "mean_values = demo_occ.groupby('ed_inc')[top_mean_cols].agg(\"mean\")\n",
    "diffs = mean_values.max() - mean_values.min()  \n",
    "top_diff_cols = diffs.nlargest(10)\n",
    "print(top_diff_cols)"
   ]
  },
  {
   "cell_type": "code",
   "execution_count": null,
   "metadata": {},
   "outputs": [],
   "source": [
    "demo_occ_map = ed_gdf.merge(demo_occ[['ed_name','ed_inc']], left_on='ElectDist', right_on='ed_name')\n",
    "demo_occ_map = gpd.GeoDataFrame(demo_occ_map)"
   ]
  },
  {
   "cell_type": "markdown",
   "metadata": {},
   "source": [
    "Let's do some PCA on the occupations to see if we get a better income and education variance"
   ]
  },
  {
   "cell_type": "code",
   "execution_count": 125,
   "metadata": {},
   "outputs": [],
   "source": [
    "from sklearn.decomposition import PCA"
   ]
  },
  {
   "cell_type": "code",
   "execution_count": null,
   "metadata": {},
   "outputs": [],
   "source": [
    "demo_occ[wp_cols + key_demo_cols].head()"
   ]
  },
  {
   "cell_type": "code",
   "execution_count": 155,
   "metadata": {},
   "outputs": [],
   "source": [
    "to_remove = [ 'w2psp',\n",
    " 'w2sep',\n",
    " 'w2npp',\n",
    " 'w2govp',\n",
    " 'w2nip','w2cop']\n",
    "wp_cols = [col for col in wp_cols if col not in to_remove]"
   ]
  },
  {
   "cell_type": "code",
   "execution_count": 180,
   "metadata": {},
   "outputs": [],
   "source": [
    "df_melted = demo_occ.melt(\n",
    "    id_vars=[\"ElectDist\", \"cvap21bapp\", \"mhhi21\",'nhw21p','nha21p','nhb21p','h21p','white_transplant_ratio'], \n",
    "    value_vars=wp_cols,                            \n",
    "    var_name=\"occupation\",                          \n",
    "    value_name=\"percentage\"                         \n",
    ")"
   ]
  },
  {
   "cell_type": "code",
   "execution_count": 181,
   "metadata": {},
   "outputs": [
    {
     "data": {
      "text/html": [
       "<div>\n",
       "<style scoped>\n",
       "    .dataframe tbody tr th:only-of-type {\n",
       "        vertical-align: middle;\n",
       "    }\n",
       "\n",
       "    .dataframe tbody tr th {\n",
       "        vertical-align: top;\n",
       "    }\n",
       "\n",
       "    .dataframe thead th {\n",
       "        text-align: right;\n",
       "    }\n",
       "</style>\n",
       "<table border=\"1\" class=\"dataframe\">\n",
       "  <thead>\n",
       "    <tr style=\"text-align: right;\">\n",
       "      <th></th>\n",
       "      <th>ElectDist</th>\n",
       "      <th>cvap21bapp</th>\n",
       "      <th>mhhi21</th>\n",
       "      <th>nhw21p</th>\n",
       "      <th>nha21p</th>\n",
       "      <th>nhb21p</th>\n",
       "      <th>h21p</th>\n",
       "      <th>white_transplant_ratio</th>\n",
       "      <th>occupation</th>\n",
       "      <th>percentage</th>\n",
       "    </tr>\n",
       "  </thead>\n",
       "  <tbody>\n",
       "    <tr>\n",
       "      <th>0</th>\n",
       "      <td>65043</td>\n",
       "      <td>38.997821</td>\n",
       "      <td>3200.884713</td>\n",
       "      <td>26.498748</td>\n",
       "      <td>17.543084</td>\n",
       "      <td>1.701281e+01</td>\n",
       "      <td>38.208867</td>\n",
       "      <td>6.805126</td>\n",
       "      <td>w2mgtp</td>\n",
       "      <td>5.357737</td>\n",
       "    </tr>\n",
       "    <tr>\n",
       "      <th>1</th>\n",
       "      <td>65044</td>\n",
       "      <td>43.450018</td>\n",
       "      <td>48835.655927</td>\n",
       "      <td>33.222607</td>\n",
       "      <td>16.586963</td>\n",
       "      <td>1.416888e+01</td>\n",
       "      <td>34.242714</td>\n",
       "      <td>7.980298</td>\n",
       "      <td>w2mgtp</td>\n",
       "      <td>6.569454</td>\n",
       "    </tr>\n",
       "    <tr>\n",
       "      <th>2</th>\n",
       "      <td>65045</td>\n",
       "      <td>38.997824</td>\n",
       "      <td>2981.952071</td>\n",
       "      <td>26.498752</td>\n",
       "      <td>17.543084</td>\n",
       "      <td>1.701281e+01</td>\n",
       "      <td>38.208866</td>\n",
       "      <td>6.805127</td>\n",
       "      <td>w2mgtp</td>\n",
       "      <td>5.357738</td>\n",
       "    </tr>\n",
       "    <tr>\n",
       "      <th>3</th>\n",
       "      <td>65049</td>\n",
       "      <td>30.545693</td>\n",
       "      <td>5233.772985</td>\n",
       "      <td>28.800928</td>\n",
       "      <td>16.735024</td>\n",
       "      <td>1.603812e+01</td>\n",
       "      <td>36.823718</td>\n",
       "      <td>7.692853</td>\n",
       "      <td>w2mgtp</td>\n",
       "      <td>11.421048</td>\n",
       "    </tr>\n",
       "    <tr>\n",
       "      <th>4</th>\n",
       "      <td>65050</td>\n",
       "      <td>33.097477</td>\n",
       "      <td>6328.398708</td>\n",
       "      <td>31.676712</td>\n",
       "      <td>16.560902</td>\n",
       "      <td>1.432295e+01</td>\n",
       "      <td>35.759539</td>\n",
       "      <td>8.317208</td>\n",
       "      <td>w2mgtp</td>\n",
       "      <td>11.478717</td>\n",
       "    </tr>\n",
       "    <tr>\n",
       "      <th>...</th>\n",
       "      <td>...</td>\n",
       "      <td>...</td>\n",
       "      <td>...</td>\n",
       "      <td>...</td>\n",
       "      <td>...</td>\n",
       "      <td>...</td>\n",
       "      <td>...</td>\n",
       "      <td>...</td>\n",
       "      <td>...</td>\n",
       "      <td>...</td>\n",
       "    </tr>\n",
       "    <tr>\n",
       "      <th>156170</th>\n",
       "      <td>64011</td>\n",
       "      <td>29.865772</td>\n",
       "      <td>13679.117106</td>\n",
       "      <td>75.981700</td>\n",
       "      <td>7.472360</td>\n",
       "      <td>2.859321e-01</td>\n",
       "      <td>13.839116</td>\n",
       "      <td>2.058711</td>\n",
       "      <td>w2matp</td>\n",
       "      <td>0.582848</td>\n",
       "    </tr>\n",
       "    <tr>\n",
       "      <th>156171</th>\n",
       "      <td>64054</td>\n",
       "      <td>38.193783</td>\n",
       "      <td>37698.953684</td>\n",
       "      <td>77.707379</td>\n",
       "      <td>5.244874</td>\n",
       "      <td>1.952511e+00</td>\n",
       "      <td>13.804050</td>\n",
       "      <td>2.749635</td>\n",
       "      <td>w2matp</td>\n",
       "      <td>6.217948</td>\n",
       "    </tr>\n",
       "    <tr>\n",
       "      <th>156172</th>\n",
       "      <td>64055</td>\n",
       "      <td>38.609764</td>\n",
       "      <td>16974.445681</td>\n",
       "      <td>76.833151</td>\n",
       "      <td>5.491071</td>\n",
       "      <td>2.101927e+00</td>\n",
       "      <td>12.695692</td>\n",
       "      <td>1.858064</td>\n",
       "      <td>w2matp</td>\n",
       "      <td>1.497457</td>\n",
       "    </tr>\n",
       "    <tr>\n",
       "      <th>156173</th>\n",
       "      <td>64058</td>\n",
       "      <td>31.226874</td>\n",
       "      <td>29962.143419</td>\n",
       "      <td>68.447893</td>\n",
       "      <td>8.443810</td>\n",
       "      <td>1.871658e-07</td>\n",
       "      <td>22.537223</td>\n",
       "      <td>2.182337</td>\n",
       "      <td>w2matp</td>\n",
       "      <td>2.908587</td>\n",
       "    </tr>\n",
       "    <tr>\n",
       "      <th>156174</th>\n",
       "      <td>64069</td>\n",
       "      <td>31.226872</td>\n",
       "      <td>8.304512</td>\n",
       "      <td>68.447889</td>\n",
       "      <td>8.443810</td>\n",
       "      <td>0.000000e+00</td>\n",
       "      <td>22.537222</td>\n",
       "      <td>2.182337</td>\n",
       "      <td>w2matp</td>\n",
       "      <td>2.908587</td>\n",
       "    </tr>\n",
       "  </tbody>\n",
       "</table>\n",
       "<p>156175 rows × 10 columns</p>\n",
       "</div>"
      ],
      "text/plain": [
       "        ElectDist  cvap21bapp        mhhi21     nhw21p     nha21p  \\\n",
       "0           65043   38.997821   3200.884713  26.498748  17.543084   \n",
       "1           65044   43.450018  48835.655927  33.222607  16.586963   \n",
       "2           65045   38.997824   2981.952071  26.498752  17.543084   \n",
       "3           65049   30.545693   5233.772985  28.800928  16.735024   \n",
       "4           65050   33.097477   6328.398708  31.676712  16.560902   \n",
       "...           ...         ...           ...        ...        ...   \n",
       "156170      64011   29.865772  13679.117106  75.981700   7.472360   \n",
       "156171      64054   38.193783  37698.953684  77.707379   5.244874   \n",
       "156172      64055   38.609764  16974.445681  76.833151   5.491071   \n",
       "156173      64058   31.226874  29962.143419  68.447893   8.443810   \n",
       "156174      64069   31.226872      8.304512  68.447889   8.443810   \n",
       "\n",
       "              nhb21p       h21p  white_transplant_ratio occupation  percentage  \n",
       "0       1.701281e+01  38.208867                6.805126     w2mgtp    5.357737  \n",
       "1       1.416888e+01  34.242714                7.980298     w2mgtp    6.569454  \n",
       "2       1.701281e+01  38.208866                6.805127     w2mgtp    5.357738  \n",
       "3       1.603812e+01  36.823718                7.692853     w2mgtp   11.421048  \n",
       "4       1.432295e+01  35.759539                8.317208     w2mgtp   11.478717  \n",
       "...              ...        ...                     ...        ...         ...  \n",
       "156170  2.859321e-01  13.839116                2.058711     w2matp    0.582848  \n",
       "156171  1.952511e+00  13.804050                2.749635     w2matp    6.217948  \n",
       "156172  2.101927e+00  12.695692                1.858064     w2matp    1.497457  \n",
       "156173  1.871658e-07  22.537223                2.182337     w2matp    2.908587  \n",
       "156174  0.000000e+00  22.537222                2.182337     w2matp    2.908587  \n",
       "\n",
       "[156175 rows x 10 columns]"
      ]
     },
     "execution_count": 181,
     "metadata": {},
     "output_type": "execute_result"
    }
   ],
   "source": [
    "df_melted"
   ]
  },
  {
   "cell_type": "code",
   "execution_count": 182,
   "metadata": {},
   "outputs": [],
   "source": [
    "agg_df = df_melted.groupby('occupation').apply(\n",
    "    lambda g: pd.Series({\n",
    "        'weighted_income': (g[\"mhhi21\"] * g['percentage']).sum() / g['percentage'].sum(),\n",
    "        'weighted_education': (g[\"cvap21bapp\"] * g['percentage']).sum() / g['percentage'].sum(),\n",
    "        'weighted_white': (g[\"nhw21p\"] * g['percentage']).sum() / g['percentage'].sum(),\n",
    "        'weighted_black': (g[\"nhb21p\"] * g['percentage']).sum() / g['percentage'].sum()\n",
    "    })\n",
    ").reset_index()"
   ]
  },
  {
   "cell_type": "code",
   "execution_count": 183,
   "metadata": {},
   "outputs": [],
   "source": [
    "scaler = StandardScaler()\n",
    "features = scaler.fit_transform(agg_df[['weighted_income', 'weighted_education', 'weighted_white', 'weighted_black']])"
   ]
  },
  {
   "cell_type": "code",
   "execution_count": 184,
   "metadata": {},
   "outputs": [
    {
     "name": "stderr",
     "output_type": "stream",
     "text": [
      "c:\\Users\\samtg\\AppData\\Local\\Programs\\Python\\Python311\\Lib\\site-packages\\sklearn\\cluster\\_kmeans.py:1412: FutureWarning: The default value of `n_init` will change from 10 to 'auto' in 1.4. Set the value of `n_init` explicitly to suppress the warning\n",
      "  super()._check_params_vs_input(X, default_n_init=10)\n"
     ]
    }
   ],
   "source": [
    "k = 6\n",
    "kmeans = KMeans(n_clusters=k, random_state=42)\n",
    "agg_df['cluster'] = kmeans.fit_predict(features)"
   ]
  },
  {
   "cell_type": "code",
   "execution_count": 186,
   "metadata": {},
   "outputs": [
    {
     "data": {
      "image/png": "[encoded data removed]",
      "text/plain": [
       "<Figure size 800x600 with 1 Axes>"
      ]
     },
     "metadata": {},
     "output_type": "display_data"
    }
   ],
   "source": [
    "plt.figure(figsize=(8,6))\n",
    "for cl in range(k):\n",
    "    cluster_data = agg_df[agg_df['cluster'] == cl]\n",
    "    plt.scatter(cluster_data['weighted_income'], cluster_data['weighted_white'], label=f'Cluster {cl}')\n",
    "    for idx, row in cluster_data.iterrows():\n",
    "        plt.text(row['weighted_income'], row['weighted_education'], row['occupation'],\n",
    "                 fontsize=8, ha='right', va='bottom')\n",
    "plt.xlabel('Weighted Average Income')\n",
    "plt.ylabel('Weighted Average Education')\n",
    "plt.title('Occupation Categories Based on Income & Education')\n",
    "plt.legend()\n",
    "plt.show()\n"
   ]
  },
  {
   "cell_type": "code",
   "execution_count": 176,
   "metadata": {},
   "outputs": [],
   "source": [
    "agg_df['manual_cat'] = agg_df['occupation'].map(col_mapping)"
   ]
  },
  {
   "cell_type": "code",
   "execution_count": 179,
   "metadata": {},
   "outputs": [],
   "source": [
    "# copy agg_df to clipboard\n",
    "agg_df[['occupation','cluster','manual_cat']].to_clipboard()"
   ]
  },
  {
   "cell_type": "markdown",
   "metadata": {},
   "source": [
    "The artist, designer, and journalist variable has high explanatory power in the 22nd. Going to re-run some of the models from chapter 2 to see if it makes a difference"
   ]
  },
  {
   "cell_type": "code",
   "execution_count": 25,
   "metadata": {},
   "outputs": [],
   "source": [
    "dsa_cand = ['Tiffany Caban','Alexa Aviles','Michael Hollingsworth','Brandon West','Jaslin Kaur','Chi A. Osse']\n",
    "cluster_four = ['Tiffany Caban','Alexa Aviles','Chi A. Osse','Jennifer Gutierrez','Pierina Ana Sanchez','Shahana K. Hanif','Lincoln Restler',\n",
    "                'Amanda Farias','Sandy Nurse','Julie Won']\n",
    "i_vars = ['log_mhhi21','nhw21p','cvap21bapp','w2admp','w2cmp']"
   ]
  },
  {
   "cell_type": "code",
   "execution_count": 30,
   "metadata": {},
   "outputs": [],
   "source": [
    "full_results_dsa = full_results[full_results['candidate'].isin(dsa_cand)]"
   ]
  },
  {
   "cell_type": "code",
   "execution_count": 31,
   "metadata": {},
   "outputs": [],
   "source": [
    "frd_oc = full_results_dsa.merge(occ_df, left_on='ed_name', right_on='ElectDist')"
   ]
  },
  {
   "cell_type": "code",
   "execution_count": 32,
   "metadata": {},
   "outputs": [
    {
     "name": "stderr",
     "output_type": "stream",
     "text": [
      "c:\\Users\\samtg\\AppData\\Local\\Programs\\Python\\Python311\\Lib\\site-packages\\pandas\\core\\arraylike.py:396: RuntimeWarning: divide by zero encountered in log\n",
      "  result = getattr(ufunc, method)(*inputs, **kwargs)\n"
     ]
    }
   ],
   "source": [
    "frd_oc['log_mhhi21'] = np.log(frd_oc['mhhi21'])"
   ]
  },
  {
   "cell_type": "code",
   "execution_count": 33,
   "metadata": {},
   "outputs": [],
   "source": [
    "frd_oc.to_csv('../../chapter_two/data/dsa_with_occupation.csv', index=False)"
   ]
  },
  {
   "cell_type": "code",
   "execution_count": 26,
   "metadata": {},
   "outputs": [
    {
     "data": {
      "text/html": [
       "<div>\n",
       "<style scoped>\n",
       "    .dataframe tbody tr th:only-of-type {\n",
       "        vertical-align: middle;\n",
       "    }\n",
       "\n",
       "    .dataframe tbody tr th {\n",
       "        vertical-align: top;\n",
       "    }\n",
       "\n",
       "    .dataframe thead th {\n",
       "        text-align: right;\n",
       "    }\n",
       "</style>\n",
       "<table border=\"1\" class=\"dataframe\">\n",
       "  <thead>\n",
       "    <tr style=\"text-align: right;\">\n",
       "      <th></th>\n",
       "      <th>ed_name</th>\n",
       "      <th>candidate</th>\n",
       "      <th>vote_share</th>\n",
       "      <th>log_mhhi21</th>\n",
       "      <th>nhw21p</th>\n",
       "      <th>cvap21bapp</th>\n",
       "      <th>w2admp</th>\n",
       "      <th>w2cmp</th>\n",
       "    </tr>\n",
       "  </thead>\n",
       "  <tbody>\n",
       "    <tr>\n",
       "      <th>555</th>\n",
       "      <td>33075</td>\n",
       "      <td>Jaslin Kaur</td>\n",
       "      <td>31.428571</td>\n",
       "      <td>10.452331</td>\n",
       "      <td>22.666104</td>\n",
       "      <td>43.367118</td>\n",
       "      <td>1.683153</td>\n",
       "      <td>2.739630</td>\n",
       "    </tr>\n",
       "    <tr>\n",
       "      <th>34</th>\n",
       "      <td>36020</td>\n",
       "      <td>Tiffany Caban</td>\n",
       "      <td>48.717949</td>\n",
       "      <td>10.179008</td>\n",
       "      <td>51.076115</td>\n",
       "      <td>67.579653</td>\n",
       "      <td>9.331029</td>\n",
       "      <td>7.158726</td>\n",
       "    </tr>\n",
       "    <tr>\n",
       "      <th>513</th>\n",
       "      <td>26049</td>\n",
       "      <td>Jaslin Kaur</td>\n",
       "      <td>13.422819</td>\n",
       "      <td>10.155122</td>\n",
       "      <td>39.208247</td>\n",
       "      <td>51.701971</td>\n",
       "      <td>1.010695</td>\n",
       "      <td>3.388063</td>\n",
       "    </tr>\n",
       "    <tr>\n",
       "      <th>441</th>\n",
       "      <td>52098</td>\n",
       "      <td>Brandon West</td>\n",
       "      <td>28.611898</td>\n",
       "      <td>10.399690</td>\n",
       "      <td>73.319909</td>\n",
       "      <td>80.601680</td>\n",
       "      <td>13.649806</td>\n",
       "      <td>9.082635</td>\n",
       "    </tr>\n",
       "    <tr>\n",
       "      <th>98</th>\n",
       "      <td>43039</td>\n",
       "      <td>Michael Hollingsworth</td>\n",
       "      <td>32.326284</td>\n",
       "      <td>10.533050</td>\n",
       "      <td>50.688352</td>\n",
       "      <td>41.843628</td>\n",
       "      <td>6.860750</td>\n",
       "      <td>2.187803</td>\n",
       "    </tr>\n",
       "  </tbody>\n",
       "</table>\n",
       "</div>"
      ],
      "text/plain": [
       "     ed_name              candidate  vote_share  log_mhhi21     nhw21p  \\\n",
       "555    33075            Jaslin Kaur   31.428571   10.452331  22.666104   \n",
       "34     36020          Tiffany Caban   48.717949   10.179008  51.076115   \n",
       "513    26049            Jaslin Kaur   13.422819   10.155122  39.208247   \n",
       "441    52098           Brandon West   28.611898   10.399690  73.319909   \n",
       "98     43039  Michael Hollingsworth   32.326284   10.533050  50.688352   \n",
       "\n",
       "     cvap21bapp     w2admp     w2cmp  \n",
       "555   43.367118   1.683153  2.739630  \n",
       "34    67.579653   9.331029  7.158726  \n",
       "513   51.701971   1.010695  3.388063  \n",
       "441   80.601680  13.649806  9.082635  \n",
       "98    41.843628   6.860750  2.187803  "
      ]
     },
     "execution_count": 26,
     "metadata": {},
     "output_type": "execute_result"
    }
   ],
   "source": [
    "frd_oc[['ed_name','candidate','vote_share']+i_vars].sample(5)"
   ]
  },
  {
   "cell_type": "code",
   "execution_count": 40,
   "metadata": {},
   "outputs": [
    {
     "data": {
      "text/plain": [
       "Precinct               0\n",
       "vote                   0\n",
       "total_vote_precinct    0\n",
       "vote_share             0\n",
       "ed_name                0\n",
       "                      ..\n",
       "kdh24p                 0\n",
       "djt24p                 0\n",
       "wfp24p                 0\n",
       "con24p                 0\n",
       "log_mhhi21             0\n",
       "Length: 282, dtype: int64"
      ]
     },
     "execution_count": 40,
     "metadata": {},
     "output_type": "execute_result"
    }
   ],
   "source": [
    "frd_oc.isnull().sum()"
   ]
  },
  {
   "cell_type": "code",
   "execution_count": 41,
   "metadata": {},
   "outputs": [
    {
     "name": "stdout",
     "output_type": "stream",
     "text": [
      "vote_share    0\n",
      "log_mhhi21    3\n",
      "nhw21p        0\n",
      "cvap21bapp    0\n",
      "w2admp        0\n",
      "w2cmp         0\n",
      "dtype: int64\n"
     ]
    }
   ],
   "source": [
    "print(np.isinf(frd_oc[['vote_share','log_mhhi21','nhw21p','cvap21bapp','w2admp','w2cmp']]).sum())\n"
   ]
  },
  {
   "cell_type": "code",
   "execution_count": 30,
   "metadata": {},
   "outputs": [
    {
     "name": "stdout",
     "output_type": "stream",
     "text": [
      "                            OLS Regression Results                            \n",
      "==============================================================================\n",
      "Dep. Variable:             vote_share   R-squared:                       0.092\n",
      "Model:                            OLS   Adj. R-squared:                  0.084\n",
      "Method:                 Least Squares   F-statistic:                     11.10\n",
      "Date:                Wed, 05 Mar 2025   Prob (F-statistic):           3.37e-10\n",
      "Time:                        17:00:33   Log-Likelihood:                -2256.1\n",
      "No. Observations:                 554   AIC:                             4524.\n",
      "Df Residuals:                     548   BIC:                             4550.\n",
      "Df Model:                           5                                         \n",
      "Covariance Type:            nonrobust                                         \n",
      "==============================================================================\n",
      "                 coef    std err          t      P>|t|      [0.025      0.975]\n",
      "------------------------------------------------------------------------------\n",
      "const         15.1256      5.257      2.877      0.004       4.800      25.451\n",
      "log_mhhi21     1.2596      0.514      2.449      0.015       0.249       2.270\n",
      "nhw21p        -0.1555      0.040     -3.878      0.000      -0.234      -0.077\n",
      "cvap21bapp     0.0477      0.058      0.820      0.413      -0.067       0.162\n",
      "w2admp         0.7287      0.152      4.804      0.000       0.431       1.027\n",
      "w2cmp          0.2073      0.256      0.809      0.419      -0.296       0.710\n",
      "==============================================================================\n",
      "Omnibus:                       52.806   Durbin-Watson:                   0.683\n",
      "Prob(Omnibus):                  0.000   Jarque-Bera (JB):               71.457\n",
      "Skew:                           0.720   Prob(JB):                     3.04e-16\n",
      "Kurtosis:                       4.012   Cond. No.                         631.\n",
      "==============================================================================\n",
      "\n",
      "Notes:\n",
      "[1] Standard Errors assume that the covariance matrix of the errors is correctly specified.\n"
     ]
    }
   ],
   "source": [
    "inf_mask = np.isinf(frd_oc['log_mhhi21'])\n",
    "frd_oc_clean = frd_oc[~inf_mask].copy()\n",
    "target = frd_oc_clean['vote_share']\n",
    "X = sm.add_constant(frd_oc_clean[['log_mhhi21','nhw21p','cvap21bapp','w2admp','w2cmp']])\n",
    "mod1 = sm.OLS(target, X).fit()\n",
    "print(mod1.summary())"
   ]
  },
  {
   "cell_type": "code",
   "execution_count": 23,
   "metadata": {},
   "outputs": [
    {
     "name": "stdout",
     "output_type": "stream",
     "text": [
      "\n",
      "=======================================================================================================================================\n",
      "               Pierina Ana Sanchez Tiffany Caban Lincoln Restler Jennifer Gutierrez Chi A. Osse Alexa Aviles Shahana K. Hanif    All   \n",
      "---------------------------------------------------------------------------------------------------------------------------------------\n",
      "Intercept      43.029***           3.737         51.325***       80.084***          -3.539      22.132       51.958***        61.972***\n",
      "               (14.583)            (16.173)      (5.678)         (12.395)           (15.535)    (22.032)     (6.204)          (4.881)  \n",
      "log_mhhi21     -0.669              2.380         -1.022***       -2.659**           1.014       0.140        -0.459           -2.052***\n",
      "               (1.553)             (1.575)       (0.364)         (1.333)            (1.650)     (2.212)      (0.562)          (0.514)  \n",
      "nhw21p         -0.485              -0.160**      0.577***        -0.239**           0.119       0.003        -0.443***        0.272*** \n",
      "               (0.405)             (0.076)       (0.056)         (0.121)            (0.158)     (0.151)      (0.061)          (0.034)  \n",
      "cvap21bapp     0.123               0.339**       -0.380***       0.701***           0.349**     0.164        0.087            -0.433***\n",
      "               (0.154)             (0.136)       (0.047)         (0.161)            (0.139)     (0.179)      (0.058)          (0.055)  \n",
      "w2admp         0.197               0.978***      -0.894***       -0.410             0.657**     1.300**      0.591***         0.744*** \n",
      "               (0.659)             (0.349)       (0.192)         (0.336)            (0.296)     (0.597)      (0.192)          (0.173)  \n",
      "w2cmp          -0.612              0.135         0.148           0.475              0.857*      -0.505       -0.053           1.173*** \n",
      "               (0.668)             (0.488)       (0.312)         (0.479)            (0.493)     (1.038)      (0.294)          (0.286)  \n",
      "R-squared      0.027               0.423         0.800           0.284              0.501       0.230        0.349            0.159    \n",
      "R-squared Adj. -0.028              0.389         0.791           0.252              0.478       0.188        0.323            0.154    \n",
      "=======================================================================================================================================\n",
      "Standard errors in parentheses.\n",
      "* p<.1, ** p<.05, ***p<.01\n"
     ]
    }
   ],
   "source": [
    "inf_mask = np.isinf(frd_oc['log_mhhi21'])\n",
    "frd_oc_clean = frd_oc[~inf_mask].copy()\n",
    "\n",
    "formula = \"vote_share ~ \" + \" + \".join(i_vars)\n",
    "model_all = smf.ols(formula=formula, data=frd_oc_clean).fit()\n",
    "\n",
    "candidate_models = {}\n",
    "for candidate in frd_oc_clean[\"candidate\"].unique():\n",
    "    df_candidate = frd_oc_clean[frd_oc_clean[\"candidate\"] == candidate]\n",
    "    candidate_models[candidate] = smf.ols(formula=formula, data=df_candidate).fit()\n",
    "\n",
    "all_models = candidate_models.copy()\n",
    "all_models[\"All\"] = model_all\n",
    "\n",
    "# Pass the list of model objects and provide model names\n",
    "summary = summary_col(list(all_models.values()),\n",
    "                      model_names=list(all_models.keys()),\n",
    "                      stars=True,\n",
    "                      float_format='%0.3f')\n",
    "print(summary)"
   ]
  },
  {
   "cell_type": "code",
   "execution_count": 34,
   "metadata": {},
   "outputs": [],
   "source": [
    "with open(\"regression_summary.html\", \"w\") as f:\n",
    "    f.write(summary.as_html())"
   ]
  },
  {
   "cell_type": "markdown",
   "metadata": {},
   "source": [
    "Let's take a look at the clustering from chapter 1 with new info "
   ]
  },
  {
   "cell_type": "code",
   "execution_count": 13,
   "metadata": {},
   "outputs": [],
   "source": [
    "fp = pd.read_csv('../../shiny_meta_council_clustering/faction_predictions.csv')\n",
    "mc = pd.read_csv('../../shiny_meta_council_clustering/meta_clusters_with_formatted_name.csv')\n",
    "wfp = pd.read_csv('../data/wfp_end.csv')"
   ]
  },
  {
   "cell_type": "code",
   "execution_count": 14,
   "metadata": {},
   "outputs": [],
   "source": [
    "losers = ['John Choe','Tahirah Moore','Shirley Paul','Mino Lora','Harold C. Miller Jr.','Johanna Garcia','Aleda Gagarin','Moumita Ahmed','Adolfo Abreu','Amit Bagga','Jaslin Kaur','Amoy Barnes',\n",
    "          'Alicka Ampry-Samuel','Felicia Singh','Austin I. Shafran','Juan D. Ardila','Jesse Laymon']"
   ]
  },
  {
   "cell_type": "code",
   "execution_count": 15,
   "metadata": {},
   "outputs": [
    {
     "name": "stderr",
     "output_type": "stream",
     "text": [
      "C:\\Users\\samtg\\AppData\\Local\\Temp\\ipykernel_16228\\1337817001.py:2: SettingWithCopyWarning: \n",
      "A value is trying to be set on a copy of a slice from a DataFrame.\n",
      "Try using .loc[row_indexer,col_indexer] = value instead\n",
      "\n",
      "See the caveats in the documentation: https://pandas.pydata.org/pandas-docs/stable/user_guide/indexing.html#returning-a-view-versus-a-copy\n",
      "  wfp_council['district_number'] = wfp_council['Race'].str.extract(r'(\\d+)').astype(int)\n"
     ]
    }
   ],
   "source": [
    "wfp_council = wfp[wfp['Race'].str.contains('Council')]\n",
    "wfp_council['district_number'] = wfp_council['Race'].str.extract(r'(\\d+)').astype(int)\n",
    "wfp_council = wfp_council[~wfp_council['Candidate'].isin(losers)]"
   ]
  },
  {
   "cell_type": "code",
   "execution_count": 16,
   "metadata": {},
   "outputs": [],
   "source": [
    "mc = mc.merge(wfp_council[['district_number','Candidate']], left_on='district', right_on='district_number',how='left')"
   ]
  },
  {
   "cell_type": "code",
   "execution_count": 17,
   "metadata": {},
   "outputs": [],
   "source": [
    "mc['wfp'] = mc['district_number'].notnull().astype(int)\n",
    "mc.drop(columns=['district_number','member','Candidate'], inplace=True)"
   ]
  },
  {
   "cell_type": "code",
   "execution_count": 20,
   "metadata": {},
   "outputs": [],
   "source": [
    "mc.to_csv('../data/meta_clusters_with_wfp.csv',index=False)"
   ]
  },
  {
   "cell_type": "code",
   "execution_count": 34,
   "metadata": {},
   "outputs": [],
   "source": [
    "mc = pd.read_csv('../data/clusters_pc_lange_wfp.csv')"
   ]
  },
  {
   "cell_type": "code",
   "execution_count": 23,
   "metadata": {},
   "outputs": [],
   "source": [
    "mc.rename(columns={'Unnamed: 2':'lange'}, inplace=True)"
   ]
  },
  {
   "cell_type": "code",
   "execution_count": 35,
   "metadata": {},
   "outputs": [],
   "source": [
    "cluster_cols = ['k_spon','vote_cluster','finance_cluster','pc','wfp','lange']"
   ]
  },
  {
   "cell_type": "code",
   "execution_count": 36,
   "metadata": {},
   "outputs": [],
   "source": [
    "df_cluster = mc[cluster_cols]"
   ]
  },
  {
   "cell_type": "code",
   "execution_count": 37,
   "metadata": {},
   "outputs": [],
   "source": [
    "# elbow method to determine number of clusters\n",
    "ks = range(1, 10)\n",
    "costs = []\n",
    "for k in ks:\n",
    "    km = KModes(n_clusters=k, init='Huang', n_init=5, random_state=42)\n",
    "    km.fit(df_cluster)\n",
    "    costs.append(km.cost_)"
   ]
  },
  {
   "cell_type": "code",
   "execution_count": 38,
   "metadata": {},
   "outputs": [
    {
     "data": {
      "text/plain": [
       "Text(0.5, 1.0, 'Elbow Method for Optimal k')"
      ]
     },
     "execution_count": 38,
     "metadata": {},
     "output_type": "execute_result"
    },
    {
     "data": {
      "image/png": "[encoded data removed]",
      "text/plain": [
       "<Figure size 1000x400 with 1 Axes>"
      ]
     },
     "metadata": {},
     "output_type": "display_data"
    }
   ],
   "source": [
    "plt.figure(figsize=(10, 4))\n",
    "plt.subplot(1, 2, 1)\n",
    "plt.plot(ks, costs, marker='o')\n",
    "plt.xlabel('Number of clusters (k)')\n",
    "plt.ylabel('Cost (Total Dissimilarity)')\n",
    "plt.title('Elbow Method for Optimal k')"
   ]
  },
  {
   "cell_type": "code",
   "execution_count": 48,
   "metadata": {},
   "outputs": [
    {
     "name": "stdout",
     "output_type": "stream",
     "text": [
      "Initialization method and algorithm are deterministic. Setting n_init to 1.\n",
      "Init: initializing centroids\n",
      "Init: initializing clusters\n",
      "Starting iterations...\n",
      "Run 1, iteration: 1/100, moves: 3, cost: 73.0\n",
      "Run 1, iteration: 2/100, moves: 1, cost: 73.0\n"
     ]
    }
   ],
   "source": [
    "kmode = KModes(n_clusters=6, init='Cao', n_init=10, verbose=1,random_state=42)\n",
    "kmode.fit(df_cluster)\n",
    "mc['new_cluster'] = kmode.labels_"
   ]
  },
  {
   "cell_type": "code",
   "execution_count": 29,
   "metadata": {},
   "outputs": [],
   "source": [
    "prog_clust = mc[mc['new_cluster'] == 3]['normalized_name'].tolist()"
   ]
  },
  {
   "cell_type": "code",
   "execution_count": 50,
   "metadata": {},
   "outputs": [],
   "source": [
    "mc[['proper_name','new_cluster'] + cluster_cols].sort_values(by='new_cluster').to_csv('../data/meta_cluster_March17.csv',index=False)"
   ]
  },
  {
   "cell_type": "code",
   "execution_count": null,
   "metadata": {},
   "outputs": [],
   "source": [
    "for col in demographic_cols:\n",
    "    ag[col + '_quintile'] = pd.qcut(ag[col], 5, labels=False) + 1"
   ]
  },
  {
   "cell_type": "code",
   "execution_count": null,
   "metadata": {},
   "outputs": [],
   "source": [
    "df_melted = full_results_winner.melt(\n",
    "    id_vars=[\"ElectDist\", \"cvap21bapp\", \"mhhi21\", 'nhw21p','nha21p','nhb21p','h21p','white_transplant_ratio'],\n",
    "    value_vars=wp_cols,                            \n",
    "    var_name=\"occupation\",                          \n",
    "    value_name=\"percentage\"                         \n",
    ")\n",
    "df_filtered = df_melted[df_melted[\"percentage\"] > 0]\n",
    "df_filtered.groupby(\"occupation\").agg({\n",
    "    \"mhhi21\": \"mean\",\n",
    "    \"cvap21bapp\": \"mean\"\n",
    "}).round(2).reset_index()"
   ]
  },
  {
   "cell_type": "code",
   "execution_count": 57,
   "metadata": {},
   "outputs": [],
   "source": [
    "df_melted = full_results_winner.melt(\n",
    "    id_vars=[\"ElectDist\", \"cvap21bapp\", \"mhhi21\", 'nhw21p','nha21p','nhb21p','h21p','white_transplant_ratio'],\n",
    "    value_vars=wp_cols,                            \n",
    "    var_name=\"occupation\",                          \n",
    "    value_name=\"percentage\"                         \n",
    ")\n",
    "df_filtered = df_melted[df_melted[\"percentage\"] > 0]\n",
    "def weighted_avg(group, value_col, weight_col):\n",
    "    return np.average(group[value_col], weights=group[weight_col])\n",
    "occ_ag = df_filtered.groupby(\"occupation\").apply(\n",
    "    lambda x: pd.Series({\n",
    "        \"mhhi21_weighted\": weighted_avg(x, \"mhhi21\", \"percentage\"),\n",
    "        \"cvap21bapp_weighted\": weighted_avg(x, \"cvap21bapp\", \"percentage\")\n",
    "    })\n",
    ").round(2).reset_index()"
   ]
  },
  {
   "cell_type": "code",
   "execution_count": 58,
   "metadata": {},
   "outputs": [],
   "source": [
    "for col in ['mhhi21_weighted', 'cvap21bapp_weighted']:\n",
    "    occ_ag[col + '_quintile'] = pd.qcut(occ_ag[col], 4, labels=False) + 1"
   ]
  },
  {
   "cell_type": "code",
   "execution_count": 65,
   "metadata": {},
   "outputs": [
    {
     "data": {
      "text/html": [
       "<div>\n",
       "<style scoped>\n",
       "    .dataframe tbody tr th:only-of-type {\n",
       "        vertical-align: middle;\n",
       "    }\n",
       "\n",
       "    .dataframe tbody tr th {\n",
       "        vertical-align: top;\n",
       "    }\n",
       "\n",
       "    .dataframe thead th {\n",
       "        text-align: right;\n",
       "    }\n",
       "</style>\n",
       "<table border=\"1\" class=\"dataframe\">\n",
       "  <thead>\n",
       "    <tr style=\"text-align: right;\">\n",
       "      <th></th>\n",
       "      <th>occupation</th>\n",
       "      <th>mhhi21_weighted_quintile</th>\n",
       "      <th>cvap21bapp_weighted_quintile</th>\n",
       "    </tr>\n",
       "  </thead>\n",
       "  <tbody>\n",
       "    <tr>\n",
       "      <th>0</th>\n",
       "      <td>w2admp</td>\n",
       "      <td>3</td>\n",
       "      <td>4</td>\n",
       "    </tr>\n",
       "  </tbody>\n",
       "</table>\n",
       "</div>"
      ],
      "text/plain": [
       "  occupation  mhhi21_weighted_quintile  cvap21bapp_weighted_quintile\n",
       "0     w2admp                         3                             4"
      ]
     },
     "execution_count": 65,
     "metadata": {},
     "output_type": "execute_result"
    }
   ],
   "source": [
    "occ_ag[occ_ag['occupation'] == 'w2admp'][['occupation','mhhi21_weighted_quintile','cvap21bapp_weighted_quintile']]"
   ]
  },
  {
   "cell_type": "markdown",
   "metadata": {},
   "source": [
    "John Survey Data"
   ]
  },
  {
   "cell_type": "code",
   "execution_count": 27,
   "metadata": {},
   "outputs": [],
   "source": [
    "dsa_fav = pd.read_excel(\"../data/Goodson crosstabs.xlsx\", \n",
    "                    sheet_name=\"dsa\")  \n",
    "aoc = pd.read_excel(\"../data/Goodson crosstabs.xlsx\", \n",
    "                    sheet_name=\"aoc\") \n",
    "l_nyc = pd.read_excel(\"../data/Goodson crosstabs.xlsx\", \n",
    "                    sheet_name=\"leave_nyc\") \n",
    "challenge = pd.read_excel(\"../data/Goodson crosstabs.xlsx\", \n",
    "                    sheet_name=\"challenge\") "
   ]
  },
  {
   "cell_type": "code",
   "execution_count": 28,
   "metadata": {},
   "outputs": [],
   "source": [
    "dsa_fav['district_number'] = dsa_fav['district'].str.extract(r'(\\d+)').astype(int)\n",
    "aoc['district_number'] = aoc['district'].str.extract(r'(\\d+)').astype(int)\n",
    "l_nyc['district_number'] = l_nyc['district'].str.extract(r'(\\d+)').astype(int)\n",
    "challenge['district_number'] = challenge['district'].str.extract(r'(\\d+)').astype(int)"
   ]
  },
  {
   "cell_type": "code",
   "execution_count": 29,
   "metadata": {},
   "outputs": [],
   "source": [
    "dsa_fav['dsa_favorable'] = dsa_fav['somewhat_favorable'] + dsa_fav['very_favorable']\n",
    "dsa_fav['dsa_unfavorable'] = dsa_fav['somewhat_unfavorable'] + dsa_fav['very_unfavorable']\n",
    "dsa_fav = dsa_fav[['district_number','dsa_favorable','dsa_unfavorable']]\n",
    "aoc['aoc_favorable'] = aoc['somewhat_favorable'] + aoc['very_favorable']\n",
    "aoc['aoc_unfavorable'] = aoc['somewhat_unfavorable'] + aoc['very_unfavorable']\n",
    "aoc = aoc[['district_number','aoc_favorable','aoc_unfavorable']]"
   ]
  },
  {
   "cell_type": "code",
   "execution_count": 30,
   "metadata": {},
   "outputs": [],
   "source": [
    "aoc_dsa = pd.merge(aoc, dsa_fav, on='district_number', how='left')"
   ]
  },
  {
   "cell_type": "code",
   "execution_count": 31,
   "metadata": {},
   "outputs": [],
   "source": [
    "aoc_dsa = aoc_dsa.merge(challenge,on='district_number', how='left')\n",
    "aoc_dsa = aoc_dsa.merge(l_nyc, on='district_number', how='left')"
   ]
  },
  {
   "cell_type": "code",
   "execution_count": 32,
   "metadata": {},
   "outputs": [],
   "source": [
    "aoc_dsa['diff'] = aoc_dsa['aoc_favorable'] - aoc_dsa['dsa_favorable']"
   ]
  },
  {
   "cell_type": "code",
   "execution_count": 34,
   "metadata": {},
   "outputs": [
    {
     "data": {
      "text/html": [
       "<div>\n",
       "<style scoped>\n",
       "    .dataframe tbody tr th:only-of-type {\n",
       "        vertical-align: middle;\n",
       "    }\n",
       "\n",
       "    .dataframe tbody tr th {\n",
       "        vertical-align: top;\n",
       "    }\n",
       "\n",
       "    .dataframe thead th {\n",
       "        text-align: right;\n",
       "    }\n",
       "</style>\n",
       "<table border=\"1\" class=\"dataframe\">\n",
       "  <thead>\n",
       "    <tr style=\"text-align: right;\">\n",
       "      <th></th>\n",
       "      <th>district_number</th>\n",
       "      <th>aoc_favorable</th>\n",
       "      <th>aoc_unfavorable</th>\n",
       "      <th>dsa_favorable</th>\n",
       "      <th>dsa_unfavorable</th>\n",
       "      <th>district_x</th>\n",
       "      <th>1 Housing cost</th>\n",
       "      <th>2 Poor public spaces</th>\n",
       "      <th>3 High taxes</th>\n",
       "      <th>4 COVID infection</th>\n",
       "      <th>5 Public transit</th>\n",
       "      <th>6 Lack of employment</th>\n",
       "      <th>7 High cost of living</th>\n",
       "      <th>8 Crime and public safety</th>\n",
       "      <th>9 Quality of public education</th>\n",
       "      <th>10 Shelters neaarby</th>\n",
       "      <th>11 Traffic and congestion</th>\n",
       "      <th>district_y</th>\n",
       "      <th>no</th>\n",
       "      <th>yes</th>\n",
       "      <th>diff</th>\n",
       "    </tr>\n",
       "  </thead>\n",
       "  <tbody>\n",
       "    <tr>\n",
       "      <th>35</th>\n",
       "      <td>36</td>\n",
       "      <td>0.773663</td>\n",
       "      <td>0.098765</td>\n",
       "      <td>0.495763</td>\n",
       "      <td>0.114407</td>\n",
       "      <td>36 BK36 Bedford Stuyvesant</td>\n",
       "      <td>0.556452</td>\n",
       "      <td>0.044355</td>\n",
       "      <td>0.03629</td>\n",
       "      <td>0.020161</td>\n",
       "      <td>0.048387</td>\n",
       "      <td>0.048387</td>\n",
       "      <td>0.137097</td>\n",
       "      <td>0.056452</td>\n",
       "      <td>0.020161</td>\n",
       "      <td>0.004032</td>\n",
       "      <td>0.028226</td>\n",
       "      <td>36 BK36 Bedford Stuyvesant</td>\n",
       "      <td>0.35743</td>\n",
       "      <td>0.64257</td>\n",
       "      <td>0.2779</td>\n",
       "    </tr>\n",
       "  </tbody>\n",
       "</table>\n",
       "</div>"
      ],
      "text/plain": [
       "    district_number  aoc_favorable  aoc_unfavorable  dsa_favorable  \\\n",
       "35               36       0.773663         0.098765       0.495763   \n",
       "\n",
       "    dsa_unfavorable                  district_x  1 Housing cost  \\\n",
       "35         0.114407  36 BK36 Bedford Stuyvesant        0.556452   \n",
       "\n",
       "    2 Poor public spaces  3 High taxes  4 COVID infection  5 Public transit  \\\n",
       "35              0.044355       0.03629           0.020161          0.048387   \n",
       "\n",
       "    6 Lack of employment  7 High cost of living  8 Crime and public safety  \\\n",
       "35              0.048387               0.137097                   0.056452   \n",
       "\n",
       "    9 Quality of public education  10 Shelters neaarby  \\\n",
       "35                       0.020161             0.004032   \n",
       "\n",
       "    11 Traffic and congestion                  district_y       no      yes  \\\n",
       "35                   0.028226  36 BK36 Bedford Stuyvesant  0.35743  0.64257   \n",
       "\n",
       "      diff  \n",
       "35  0.2779  "
      ]
     },
     "execution_count": 34,
     "metadata": {},
     "output_type": "execute_result"
    }
   ],
   "source": [
    "aoc_dsa[aoc_dsa['district_number'] == 36]"
   ]
  },
  {
   "cell_type": "code",
   "execution_count": 22,
   "metadata": {},
   "outputs": [],
   "source": [
    "cc_gpd = gpd.read_file('../../neighborhoods_ccdistricts/data/shapefiles/city_council/nycc.shp')"
   ]
  },
  {
   "cell_type": "code",
   "execution_count": 23,
   "metadata": {},
   "outputs": [],
   "source": [
    "cc_gpd = cc_gpd.merge(dsa_fav, left_on='CounDist', right_on='district_number', how='left')"
   ]
  },
  {
   "cell_type": "code",
   "execution_count": 24,
   "metadata": {},
   "outputs": [],
   "source": [
    "aoc_gpd = cc_gpd.merge(aoc, left_on='CounDist', right_on='district_number', how='left')"
   ]
  },
  {
   "cell_type": "code",
   "execution_count": 25,
   "metadata": {},
   "outputs": [],
   "source": [
    "aoc_dsa_gpd = cc_gpd.merge(aoc_dsa, left_on='CounDist', right_on='district_number', how='left')"
   ]
  },
  {
   "cell_type": "code",
   "execution_count": null,
   "metadata": {},
   "outputs": [],
   "source": [
    "cc_gpd['largest_cat'] = cc_gpd['largest_cat'].astype('category')\n",
    "aoc_gpd['largest_cat'] = aoc_gpd['largest_cat'].astype('category')"
   ]
  },
  {
   "cell_type": "code",
   "execution_count": 77,
   "metadata": {},
   "outputs": [
    {
     "data": {
      "image/png": "[encoded data removed]",
      "text/plain": [
       "<Figure size 1000x1000 with 2 Axes>"
      ]
     },
     "metadata": {},
     "output_type": "display_data"
    }
   ],
   "source": [
    "aoc_dsa_gpd.plot(column='diff',legend=True, figsize=(10, 10))\n",
    "plt.title(\"Opinion of the DSA by Council District\")\n",
    "plt.axis('off')\n",
    "plt.show()"
   ]
  },
  {
   "cell_type": "code",
   "execution_count": 90,
   "metadata": {},
   "outputs": [
    {
     "data": {
      "text/plain": [
       "Index(['district_number', 'aoc_favorable', 'aoc_unfavorable', 'dsa_favorable',\n",
       "       'dsa_unfavorable', 'district_x', '1 Housing cost',\n",
       "       '2 Poor public spaces', '3 High taxes', '4 COVID infection',\n",
       "       '5 Public transit', '6 Lack of employment', '7 High cost of living',\n",
       "       '8 Crime and public safety', '9 Quality of public education',\n",
       "       '10 Shelters neaarby', '11 Traffic and congestion', 'district_y', 'no',\n",
       "       'yes'],\n",
       "      dtype='object')"
      ]
     },
     "execution_count": 90,
     "metadata": {},
     "output_type": "execute_result"
    }
   ],
   "source": [
    "aoc_dsa.columns"
   ]
  },
  {
   "cell_type": "code",
   "execution_count": 91,
   "metadata": {},
   "outputs": [],
   "source": [
    "cor_cols = ['aoc_favorable', 'aoc_unfavorable', 'dsa_favorable',\n",
    "       'dsa_unfavorable',  '1 Housing cost',\n",
    "       '2 Poor public spaces', '3 High taxes', '4 COVID infection',\n",
    "       '5 Public transit', '6 Lack of employment', '7 High cost of living',\n",
    "       '8 Crime and public safety', '9 Quality of public education',\n",
    "       '10 Shelters neaarby', '11 Traffic and congestion','no', 'yes']\n",
    "cor_matrix = aoc_dsa[cor_cols].corr()"
   ]
  },
  {
   "cell_type": "code",
   "execution_count": 95,
   "metadata": {},
   "outputs": [
    {
     "data": {
      "text/html": [
       "<div>\n",
       "<style scoped>\n",
       "    .dataframe tbody tr th:only-of-type {\n",
       "        vertical-align: middle;\n",
       "    }\n",
       "\n",
       "    .dataframe tbody tr th {\n",
       "        vertical-align: top;\n",
       "    }\n",
       "\n",
       "    .dataframe thead th {\n",
       "        text-align: right;\n",
       "    }\n",
       "</style>\n",
       "<table border=\"1\" class=\"dataframe\">\n",
       "  <thead>\n",
       "    <tr style=\"text-align: right;\">\n",
       "      <th></th>\n",
       "      <th>aoc_favorable</th>\n",
       "      <th>aoc_unfavorable</th>\n",
       "      <th>dsa_favorable</th>\n",
       "      <th>dsa_unfavorable</th>\n",
       "      <th>1 Housing cost</th>\n",
       "      <th>2 Poor public spaces</th>\n",
       "      <th>3 High taxes</th>\n",
       "      <th>4 COVID infection</th>\n",
       "      <th>5 Public transit</th>\n",
       "      <th>6 Lack of employment</th>\n",
       "      <th>7 High cost of living</th>\n",
       "      <th>8 Crime and public safety</th>\n",
       "      <th>9 Quality of public education</th>\n",
       "      <th>10 Shelters neaarby</th>\n",
       "      <th>11 Traffic and congestion</th>\n",
       "      <th>no</th>\n",
       "      <th>yes</th>\n",
       "    </tr>\n",
       "  </thead>\n",
       "  <tbody>\n",
       "    <tr>\n",
       "      <th>1 Housing cost</th>\n",
       "      <td>0.629698</td>\n",
       "      <td>-0.719848</td>\n",
       "      <td>0.777456</td>\n",
       "      <td>-0.796418</td>\n",
       "      <td>1.000000</td>\n",
       "      <td>0.100166</td>\n",
       "      <td>-0.673453</td>\n",
       "      <td>0.194189</td>\n",
       "      <td>0.154581</td>\n",
       "      <td>0.125402</td>\n",
       "      <td>-0.240382</td>\n",
       "      <td>-0.743294</td>\n",
       "      <td>0.048397</td>\n",
       "      <td>-0.496358</td>\n",
       "      <td>-0.722118</td>\n",
       "      <td>-0.163430</td>\n",
       "      <td>0.163430</td>\n",
       "    </tr>\n",
       "    <tr>\n",
       "      <th>dsa_favorable</th>\n",
       "      <td>0.802253</td>\n",
       "      <td>-0.777936</td>\n",
       "      <td>1.000000</td>\n",
       "      <td>-0.745327</td>\n",
       "      <td>0.777456</td>\n",
       "      <td>0.136398</td>\n",
       "      <td>-0.602761</td>\n",
       "      <td>0.145939</td>\n",
       "      <td>0.274891</td>\n",
       "      <td>0.147353</td>\n",
       "      <td>-0.207201</td>\n",
       "      <td>-0.800545</td>\n",
       "      <td>-0.095900</td>\n",
       "      <td>-0.519835</td>\n",
       "      <td>-0.493028</td>\n",
       "      <td>0.171322</td>\n",
       "      <td>-0.171322</td>\n",
       "    </tr>\n",
       "    <tr>\n",
       "      <th>aoc_favorable</th>\n",
       "      <td>1.000000</td>\n",
       "      <td>-0.939373</td>\n",
       "      <td>0.802253</td>\n",
       "      <td>-0.833908</td>\n",
       "      <td>0.629698</td>\n",
       "      <td>0.237847</td>\n",
       "      <td>-0.546056</td>\n",
       "      <td>-0.039109</td>\n",
       "      <td>0.442998</td>\n",
       "      <td>0.058640</td>\n",
       "      <td>-0.196064</td>\n",
       "      <td>-0.781662</td>\n",
       "      <td>0.148277</td>\n",
       "      <td>-0.553171</td>\n",
       "      <td>-0.442183</td>\n",
       "      <td>0.312338</td>\n",
       "      <td>-0.312338</td>\n",
       "    </tr>\n",
       "    <tr>\n",
       "      <th>4 COVID infection</th>\n",
       "      <td>-0.039109</td>\n",
       "      <td>-0.066754</td>\n",
       "      <td>0.145939</td>\n",
       "      <td>-0.258357</td>\n",
       "      <td>0.194189</td>\n",
       "      <td>0.066828</td>\n",
       "      <td>-0.265660</td>\n",
       "      <td>1.000000</td>\n",
       "      <td>-0.044114</td>\n",
       "      <td>0.443826</td>\n",
       "      <td>-0.140997</td>\n",
       "      <td>-0.080961</td>\n",
       "      <td>-0.058591</td>\n",
       "      <td>-0.014883</td>\n",
       "      <td>-0.385601</td>\n",
       "      <td>-0.507162</td>\n",
       "      <td>0.507162</td>\n",
       "    </tr>\n",
       "    <tr>\n",
       "      <th>yes</th>\n",
       "      <td>-0.312338</td>\n",
       "      <td>0.141195</td>\n",
       "      <td>-0.171322</td>\n",
       "      <td>-0.014443</td>\n",
       "      <td>0.163430</td>\n",
       "      <td>-0.088051</td>\n",
       "      <td>-0.074853</td>\n",
       "      <td>0.507162</td>\n",
       "      <td>-0.273365</td>\n",
       "      <td>0.363264</td>\n",
       "      <td>-0.012335</td>\n",
       "      <td>0.182586</td>\n",
       "      <td>-0.056547</td>\n",
       "      <td>0.045850</td>\n",
       "      <td>-0.255751</td>\n",
       "      <td>-1.000000</td>\n",
       "      <td>1.000000</td>\n",
       "    </tr>\n",
       "    <tr>\n",
       "      <th>5 Public transit</th>\n",
       "      <td>0.442998</td>\n",
       "      <td>-0.396235</td>\n",
       "      <td>0.274891</td>\n",
       "      <td>-0.295775</td>\n",
       "      <td>0.154581</td>\n",
       "      <td>-0.106278</td>\n",
       "      <td>-0.165213</td>\n",
       "      <td>-0.044114</td>\n",
       "      <td>1.000000</td>\n",
       "      <td>-0.131119</td>\n",
       "      <td>0.011588</td>\n",
       "      <td>-0.309529</td>\n",
       "      <td>0.261097</td>\n",
       "      <td>-0.400849</td>\n",
       "      <td>-0.326812</td>\n",
       "      <td>0.273365</td>\n",
       "      <td>-0.273365</td>\n",
       "    </tr>\n",
       "    <tr>\n",
       "      <th>6 Lack of employment</th>\n",
       "      <td>0.058640</td>\n",
       "      <td>-0.225655</td>\n",
       "      <td>0.147353</td>\n",
       "      <td>-0.298041</td>\n",
       "      <td>0.125402</td>\n",
       "      <td>0.144890</td>\n",
       "      <td>-0.345808</td>\n",
       "      <td>0.443826</td>\n",
       "      <td>-0.131119</td>\n",
       "      <td>1.000000</td>\n",
       "      <td>-0.135514</td>\n",
       "      <td>-0.027243</td>\n",
       "      <td>0.097590</td>\n",
       "      <td>-0.130945</td>\n",
       "      <td>-0.306400</td>\n",
       "      <td>-0.363264</td>\n",
       "      <td>0.363264</td>\n",
       "    </tr>\n",
       "    <tr>\n",
       "      <th>2 Poor public spaces</th>\n",
       "      <td>0.237847</td>\n",
       "      <td>-0.287260</td>\n",
       "      <td>0.136398</td>\n",
       "      <td>-0.297200</td>\n",
       "      <td>0.100166</td>\n",
       "      <td>1.000000</td>\n",
       "      <td>-0.358442</td>\n",
       "      <td>0.066828</td>\n",
       "      <td>-0.106278</td>\n",
       "      <td>0.144890</td>\n",
       "      <td>-0.166786</td>\n",
       "      <td>0.008327</td>\n",
       "      <td>0.033999</td>\n",
       "      <td>-0.078425</td>\n",
       "      <td>-0.297972</td>\n",
       "      <td>0.088051</td>\n",
       "      <td>-0.088051</td>\n",
       "    </tr>\n",
       "    <tr>\n",
       "      <th>9 Quality of public education</th>\n",
       "      <td>0.148277</td>\n",
       "      <td>-0.211915</td>\n",
       "      <td>-0.095900</td>\n",
       "      <td>-0.235816</td>\n",
       "      <td>0.048397</td>\n",
       "      <td>0.033999</td>\n",
       "      <td>-0.248791</td>\n",
       "      <td>-0.058591</td>\n",
       "      <td>0.261097</td>\n",
       "      <td>0.097590</td>\n",
       "      <td>0.077628</td>\n",
       "      <td>-0.146865</td>\n",
       "      <td>1.000000</td>\n",
       "      <td>0.191570</td>\n",
       "      <td>-0.175827</td>\n",
       "      <td>0.056547</td>\n",
       "      <td>-0.056547</td>\n",
       "    </tr>\n",
       "    <tr>\n",
       "      <th>no</th>\n",
       "      <td>0.312338</td>\n",
       "      <td>-0.141195</td>\n",
       "      <td>0.171322</td>\n",
       "      <td>0.014443</td>\n",
       "      <td>-0.163430</td>\n",
       "      <td>0.088051</td>\n",
       "      <td>0.074853</td>\n",
       "      <td>-0.507162</td>\n",
       "      <td>0.273365</td>\n",
       "      <td>-0.363264</td>\n",
       "      <td>0.012335</td>\n",
       "      <td>-0.182586</td>\n",
       "      <td>0.056547</td>\n",
       "      <td>-0.045850</td>\n",
       "      <td>0.255751</td>\n",
       "      <td>1.000000</td>\n",
       "      <td>-1.000000</td>\n",
       "    </tr>\n",
       "    <tr>\n",
       "      <th>7 High cost of living</th>\n",
       "      <td>-0.196064</td>\n",
       "      <td>0.147383</td>\n",
       "      <td>-0.207201</td>\n",
       "      <td>0.153640</td>\n",
       "      <td>-0.240382</td>\n",
       "      <td>-0.166786</td>\n",
       "      <td>0.063226</td>\n",
       "      <td>-0.140997</td>\n",
       "      <td>0.011588</td>\n",
       "      <td>-0.135514</td>\n",
       "      <td>1.000000</td>\n",
       "      <td>0.029076</td>\n",
       "      <td>0.077628</td>\n",
       "      <td>0.214729</td>\n",
       "      <td>0.083538</td>\n",
       "      <td>0.012335</td>\n",
       "      <td>-0.012335</td>\n",
       "    </tr>\n",
       "    <tr>\n",
       "      <th>10 Shelters neaarby</th>\n",
       "      <td>-0.553171</td>\n",
       "      <td>0.536981</td>\n",
       "      <td>-0.519835</td>\n",
       "      <td>0.501501</td>\n",
       "      <td>-0.496358</td>\n",
       "      <td>-0.078425</td>\n",
       "      <td>0.226983</td>\n",
       "      <td>-0.014883</td>\n",
       "      <td>-0.400849</td>\n",
       "      <td>-0.130945</td>\n",
       "      <td>0.214729</td>\n",
       "      <td>0.355139</td>\n",
       "      <td>0.191570</td>\n",
       "      <td>1.000000</td>\n",
       "      <td>0.309354</td>\n",
       "      <td>-0.045850</td>\n",
       "      <td>0.045850</td>\n",
       "    </tr>\n",
       "    <tr>\n",
       "      <th>3 High taxes</th>\n",
       "      <td>-0.546056</td>\n",
       "      <td>0.605464</td>\n",
       "      <td>-0.602761</td>\n",
       "      <td>0.625793</td>\n",
       "      <td>-0.673453</td>\n",
       "      <td>-0.358442</td>\n",
       "      <td>1.000000</td>\n",
       "      <td>-0.265660</td>\n",
       "      <td>-0.165213</td>\n",
       "      <td>-0.345808</td>\n",
       "      <td>0.063226</td>\n",
       "      <td>0.465473</td>\n",
       "      <td>-0.248791</td>\n",
       "      <td>0.226983</td>\n",
       "      <td>0.601757</td>\n",
       "      <td>0.074853</td>\n",
       "      <td>-0.074853</td>\n",
       "    </tr>\n",
       "    <tr>\n",
       "      <th>aoc_unfavorable</th>\n",
       "      <td>-0.939373</td>\n",
       "      <td>1.000000</td>\n",
       "      <td>-0.777936</td>\n",
       "      <td>0.932728</td>\n",
       "      <td>-0.719848</td>\n",
       "      <td>-0.287260</td>\n",
       "      <td>0.605464</td>\n",
       "      <td>-0.066754</td>\n",
       "      <td>-0.396235</td>\n",
       "      <td>-0.225655</td>\n",
       "      <td>0.147383</td>\n",
       "      <td>0.785041</td>\n",
       "      <td>-0.211915</td>\n",
       "      <td>0.536981</td>\n",
       "      <td>0.590783</td>\n",
       "      <td>-0.141195</td>\n",
       "      <td>0.141195</td>\n",
       "    </tr>\n",
       "    <tr>\n",
       "      <th>11 Traffic and congestion</th>\n",
       "      <td>-0.442183</td>\n",
       "      <td>0.590783</td>\n",
       "      <td>-0.493028</td>\n",
       "      <td>0.710342</td>\n",
       "      <td>-0.722118</td>\n",
       "      <td>-0.297972</td>\n",
       "      <td>0.601757</td>\n",
       "      <td>-0.385601</td>\n",
       "      <td>-0.326812</td>\n",
       "      <td>-0.306400</td>\n",
       "      <td>0.083538</td>\n",
       "      <td>0.369209</td>\n",
       "      <td>-0.175827</td>\n",
       "      <td>0.309354</td>\n",
       "      <td>1.000000</td>\n",
       "      <td>0.255751</td>\n",
       "      <td>-0.255751</td>\n",
       "    </tr>\n",
       "    <tr>\n",
       "      <th>8 Crime and public safety</th>\n",
       "      <td>-0.781662</td>\n",
       "      <td>0.785041</td>\n",
       "      <td>-0.800545</td>\n",
       "      <td>0.742684</td>\n",
       "      <td>-0.743294</td>\n",
       "      <td>0.008327</td>\n",
       "      <td>0.465473</td>\n",
       "      <td>-0.080961</td>\n",
       "      <td>-0.309529</td>\n",
       "      <td>-0.027243</td>\n",
       "      <td>0.029076</td>\n",
       "      <td>1.000000</td>\n",
       "      <td>-0.146865</td>\n",
       "      <td>0.355139</td>\n",
       "      <td>0.369209</td>\n",
       "      <td>-0.182586</td>\n",
       "      <td>0.182586</td>\n",
       "    </tr>\n",
       "    <tr>\n",
       "      <th>dsa_unfavorable</th>\n",
       "      <td>-0.833908</td>\n",
       "      <td>0.932728</td>\n",
       "      <td>-0.745327</td>\n",
       "      <td>1.000000</td>\n",
       "      <td>-0.796418</td>\n",
       "      <td>-0.297200</td>\n",
       "      <td>0.625793</td>\n",
       "      <td>-0.258357</td>\n",
       "      <td>-0.295775</td>\n",
       "      <td>-0.298041</td>\n",
       "      <td>0.153640</td>\n",
       "      <td>0.742684</td>\n",
       "      <td>-0.235816</td>\n",
       "      <td>0.501501</td>\n",
       "      <td>0.710342</td>\n",
       "      <td>0.014443</td>\n",
       "      <td>-0.014443</td>\n",
       "    </tr>\n",
       "  </tbody>\n",
       "</table>\n",
       "</div>"
      ],
      "text/plain": [
       "                               aoc_favorable  aoc_unfavorable  dsa_favorable  \\\n",
       "1 Housing cost                      0.629698        -0.719848       0.777456   \n",
       "dsa_favorable                       0.802253        -0.777936       1.000000   \n",
       "aoc_favorable                       1.000000        -0.939373       0.802253   \n",
       "4 COVID infection                  -0.039109        -0.066754       0.145939   \n",
       "yes                                -0.312338         0.141195      -0.171322   \n",
       "5 Public transit                    0.442998        -0.396235       0.274891   \n",
       "6 Lack of employment                0.058640        -0.225655       0.147353   \n",
       "2 Poor public spaces                0.237847        -0.287260       0.136398   \n",
       "9 Quality of public education       0.148277        -0.211915      -0.095900   \n",
       "no                                  0.312338        -0.141195       0.171322   \n",
       "7 High cost of living              -0.196064         0.147383      -0.207201   \n",
       "10 Shelters neaarby                -0.553171         0.536981      -0.519835   \n",
       "3 High taxes                       -0.546056         0.605464      -0.602761   \n",
       "aoc_unfavorable                    -0.939373         1.000000      -0.777936   \n",
       "11 Traffic and congestion          -0.442183         0.590783      -0.493028   \n",
       "8 Crime and public safety          -0.781662         0.785041      -0.800545   \n",
       "dsa_unfavorable                    -0.833908         0.932728      -0.745327   \n",
       "\n",
       "                               dsa_unfavorable  1 Housing cost  \\\n",
       "1 Housing cost                       -0.796418        1.000000   \n",
       "dsa_favorable                        -0.745327        0.777456   \n",
       "aoc_favorable                        -0.833908        0.629698   \n",
       "4 COVID infection                    -0.258357        0.194189   \n",
       "yes                                  -0.014443        0.163430   \n",
       "5 Public transit                     -0.295775        0.154581   \n",
       "6 Lack of employment                 -0.298041        0.125402   \n",
       "2 Poor public spaces                 -0.297200        0.100166   \n",
       "9 Quality of public education        -0.235816        0.048397   \n",
       "no                                    0.014443       -0.163430   \n",
       "7 High cost of living                 0.153640       -0.240382   \n",
       "10 Shelters neaarby                   0.501501       -0.496358   \n",
       "3 High taxes                          0.625793       -0.673453   \n",
       "aoc_unfavorable                       0.932728       -0.719848   \n",
       "11 Traffic and congestion             0.710342       -0.722118   \n",
       "8 Crime and public safety             0.742684       -0.743294   \n",
       "dsa_unfavorable                       1.000000       -0.796418   \n",
       "\n",
       "                               2 Poor public spaces  3 High taxes  \\\n",
       "1 Housing cost                             0.100166     -0.673453   \n",
       "dsa_favorable                              0.136398     -0.602761   \n",
       "aoc_favorable                              0.237847     -0.546056   \n",
       "4 COVID infection                          0.066828     -0.265660   \n",
       "yes                                       -0.088051     -0.074853   \n",
       "5 Public transit                          -0.106278     -0.165213   \n",
       "6 Lack of employment                       0.144890     -0.345808   \n",
       "2 Poor public spaces                       1.000000     -0.358442   \n",
       "9 Quality of public education              0.033999     -0.248791   \n",
       "no                                         0.088051      0.074853   \n",
       "7 High cost of living                     -0.166786      0.063226   \n",
       "10 Shelters neaarby                       -0.078425      0.226983   \n",
       "3 High taxes                              -0.358442      1.000000   \n",
       "aoc_unfavorable                           -0.287260      0.605464   \n",
       "11 Traffic and congestion                 -0.297972      0.601757   \n",
       "8 Crime and public safety                  0.008327      0.465473   \n",
       "dsa_unfavorable                           -0.297200      0.625793   \n",
       "\n",
       "                               4 COVID infection  5 Public transit  \\\n",
       "1 Housing cost                          0.194189          0.154581   \n",
       "dsa_favorable                           0.145939          0.274891   \n",
       "aoc_favorable                          -0.039109          0.442998   \n",
       "4 COVID infection                       1.000000         -0.044114   \n",
       "yes                                     0.507162         -0.273365   \n",
       "5 Public transit                       -0.044114          1.000000   \n",
       "6 Lack of employment                    0.443826         -0.131119   \n",
       "2 Poor public spaces                    0.066828         -0.106278   \n",
       "9 Quality of public education          -0.058591          0.261097   \n",
       "no                                     -0.507162          0.273365   \n",
       "7 High cost of living                  -0.140997          0.011588   \n",
       "10 Shelters neaarby                    -0.014883         -0.400849   \n",
       "3 High taxes                           -0.265660         -0.165213   \n",
       "aoc_unfavorable                        -0.066754         -0.396235   \n",
       "11 Traffic and congestion              -0.385601         -0.326812   \n",
       "8 Crime and public safety              -0.080961         -0.309529   \n",
       "dsa_unfavorable                        -0.258357         -0.295775   \n",
       "\n",
       "                               6 Lack of employment  7 High cost of living  \\\n",
       "1 Housing cost                             0.125402              -0.240382   \n",
       "dsa_favorable                              0.147353              -0.207201   \n",
       "aoc_favorable                              0.058640              -0.196064   \n",
       "4 COVID infection                          0.443826              -0.140997   \n",
       "yes                                        0.363264              -0.012335   \n",
       "5 Public transit                          -0.131119               0.011588   \n",
       "6 Lack of employment                       1.000000              -0.135514   \n",
       "2 Poor public spaces                       0.144890              -0.166786   \n",
       "9 Quality of public education              0.097590               0.077628   \n",
       "no                                        -0.363264               0.012335   \n",
       "7 High cost of living                     -0.135514               1.000000   \n",
       "10 Shelters neaarby                       -0.130945               0.214729   \n",
       "3 High taxes                              -0.345808               0.063226   \n",
       "aoc_unfavorable                           -0.225655               0.147383   \n",
       "11 Traffic and congestion                 -0.306400               0.083538   \n",
       "8 Crime and public safety                 -0.027243               0.029076   \n",
       "dsa_unfavorable                           -0.298041               0.153640   \n",
       "\n",
       "                               8 Crime and public safety  \\\n",
       "1 Housing cost                                 -0.743294   \n",
       "dsa_favorable                                  -0.800545   \n",
       "aoc_favorable                                  -0.781662   \n",
       "4 COVID infection                              -0.080961   \n",
       "yes                                             0.182586   \n",
       "5 Public transit                               -0.309529   \n",
       "6 Lack of employment                           -0.027243   \n",
       "2 Poor public spaces                            0.008327   \n",
       "9 Quality of public education                  -0.146865   \n",
       "no                                             -0.182586   \n",
       "7 High cost of living                           0.029076   \n",
       "10 Shelters neaarby                             0.355139   \n",
       "3 High taxes                                    0.465473   \n",
       "aoc_unfavorable                                 0.785041   \n",
       "11 Traffic and congestion                       0.369209   \n",
       "8 Crime and public safety                       1.000000   \n",
       "dsa_unfavorable                                 0.742684   \n",
       "\n",
       "                               9 Quality of public education  \\\n",
       "1 Housing cost                                      0.048397   \n",
       "dsa_favorable                                      -0.095900   \n",
       "aoc_favorable                                       0.148277   \n",
       "4 COVID infection                                  -0.058591   \n",
       "yes                                                -0.056547   \n",
       "5 Public transit                                    0.261097   \n",
       "6 Lack of employment                                0.097590   \n",
       "2 Poor public spaces                                0.033999   \n",
       "9 Quality of public education                       1.000000   \n",
       "no                                                  0.056547   \n",
       "7 High cost of living                               0.077628   \n",
       "10 Shelters neaarby                                 0.191570   \n",
       "3 High taxes                                       -0.248791   \n",
       "aoc_unfavorable                                    -0.211915   \n",
       "11 Traffic and congestion                          -0.175827   \n",
       "8 Crime and public safety                          -0.146865   \n",
       "dsa_unfavorable                                    -0.235816   \n",
       "\n",
       "                               10 Shelters neaarby  11 Traffic and congestion  \\\n",
       "1 Housing cost                           -0.496358                  -0.722118   \n",
       "dsa_favorable                            -0.519835                  -0.493028   \n",
       "aoc_favorable                            -0.553171                  -0.442183   \n",
       "4 COVID infection                        -0.014883                  -0.385601   \n",
       "yes                                       0.045850                  -0.255751   \n",
       "5 Public transit                         -0.400849                  -0.326812   \n",
       "6 Lack of employment                     -0.130945                  -0.306400   \n",
       "2 Poor public spaces                     -0.078425                  -0.297972   \n",
       "9 Quality of public education             0.191570                  -0.175827   \n",
       "no                                       -0.045850                   0.255751   \n",
       "7 High cost of living                     0.214729                   0.083538   \n",
       "10 Shelters neaarby                       1.000000                   0.309354   \n",
       "3 High taxes                              0.226983                   0.601757   \n",
       "aoc_unfavorable                           0.536981                   0.590783   \n",
       "11 Traffic and congestion                 0.309354                   1.000000   \n",
       "8 Crime and public safety                 0.355139                   0.369209   \n",
       "dsa_unfavorable                           0.501501                   0.710342   \n",
       "\n",
       "                                     no       yes  \n",
       "1 Housing cost                -0.163430  0.163430  \n",
       "dsa_favorable                  0.171322 -0.171322  \n",
       "aoc_favorable                  0.312338 -0.312338  \n",
       "4 COVID infection             -0.507162  0.507162  \n",
       "yes                           -1.000000  1.000000  \n",
       "5 Public transit               0.273365 -0.273365  \n",
       "6 Lack of employment          -0.363264  0.363264  \n",
       "2 Poor public spaces           0.088051 -0.088051  \n",
       "9 Quality of public education  0.056547 -0.056547  \n",
       "no                             1.000000 -1.000000  \n",
       "7 High cost of living          0.012335 -0.012335  \n",
       "10 Shelters neaarby           -0.045850  0.045850  \n",
       "3 High taxes                   0.074853 -0.074853  \n",
       "aoc_unfavorable               -0.141195  0.141195  \n",
       "11 Traffic and congestion      0.255751 -0.255751  \n",
       "8 Crime and public safety     -0.182586  0.182586  \n",
       "dsa_unfavorable                0.014443 -0.014443  "
      ]
     },
     "execution_count": 95,
     "metadata": {},
     "output_type": "execute_result"
    }
   ],
   "source": [
    "cor_matrix.sort_values(by='1 Housing cost', ascending=False)"
   ]
  },
  {
   "cell_type": "code",
   "execution_count": 37,
   "metadata": {},
   "outputs": [
    {
     "data": {
      "text/plain": [
       "array(['Michael D Hollingsworth', 'Robert Waterman', 'Rodrigo Camarena',\n",
       "       'Tahirah A Moore', 'Alexa Aviles', 'Chi Osse', 'Crystal Hudson',\n",
       "       'Henry L Butler', 'Jacqueline Painter', 'Reginald Swiney',\n",
       "       'Yu Lin'], dtype=object)"
      ]
     },
     "execution_count": 37,
     "metadata": {},
     "output_type": "execute_result"
    }
   ],
   "source": [
    "fwe['matched_name'].unique()"
   ]
  },
  {
   "cell_type": "code",
   "execution_count": null,
   "metadata": {},
   "outputs": [],
   "source": [
    "thirty_five = ['Michael D Hollingsworth', 'Crystal Hudson']\n",
    "thirty_six = ['Chi Osse','Henry L Butler','Tahirah A Moore']"
   ]
  }
 ],
 "metadata": {
  "kernelspec": {
   "display_name": "Python 3",
   "language": "python",
   "name": "python3"
  },
  "language_info": {
   "codemirror_mode": {
    "name": "ipython",
    "version": 3
   },
   "file_extension": ".py",
   "mimetype": "text/x-python",
   "name": "python",
   "nbconvert_exporter": "python",
   "pygments_lexer": "ipython3",
   "version": "3.11.4"
  }
 },
 "nbformat": 4,
 "nbformat_minor": 2
}
