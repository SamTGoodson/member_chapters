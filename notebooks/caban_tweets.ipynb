{
 "cells": [
  {
   "cell_type": "code",
   "execution_count": 84,
   "metadata": {},
   "outputs": [],
   "source": [
    "import pandas as pd\n",
    "import numpy as np\n",
    "\n",
    "from fuzzywuzzy import process\n",
    "from fuzzywuzzy import fuzz\n",
    "\n",
    "import re\n",
    "from sklearn.feature_extraction.text import TfidfVectorizer\n",
    "from sklearn.model_selection import train_test_split\n",
    "from sklearn.linear_model import LogisticRegression\n",
    "from sklearn.feature_extraction.text import CountVectorizer\n",
    "from collections import Counter\n",
    "\n",
    "from nltk.corpus import stopwords\n",
    "import nltk\n",
    "import os\n",
    "import json"
   ]
  },
  {
   "cell_type": "code",
   "execution_count": 2,
   "metadata": {},
   "outputs": [],
   "source": [
    "from vaderSentiment.vaderSentiment import SentimentIntensityAnalyzer\n",
    "sia = SentimentIntensityAnalyzer()"
   ]
  },
  {
   "cell_type": "code",
   "execution_count": 4,
   "metadata": {},
   "outputs": [],
   "source": [
    "tweet_df = pd.read_csv('../../citycouncil_tweets/data/tweet_df.csv')\n",
    "clusters = pd.read_csv('../../cc_election_cleaning/clusters_with_names_dec4.csv')"
   ]
  },
  {
   "cell_type": "code",
   "execution_count": 5,
   "metadata": {},
   "outputs": [],
   "source": [
    "def json_to_dataframe(json_data):\n",
    "    flattened_data = []\n",
    "    for item in json_data:\n",
    "        if 'data' in item and 'search_by_raw_query' in item['data'] and 'search_timeline' in item['data']['search_by_raw_query']:\n",
    "            timeline = item['data']['search_by_raw_query']['search_timeline']\n",
    "            if 'timeline' in timeline and 'instructions' in timeline['timeline']:\n",
    "                instructions = timeline['timeline']['instructions']\n",
    "                for instruction in instructions:\n",
    "                    if instruction['type'] == 'TimelineAddEntries' and 'entries' in instruction:\n",
    "                        for entry in instruction['entries']:\n",
    "                            if 'content' in entry and 'itemContent' in entry['content']:\n",
    "                                tweet_content = entry['content']['itemContent']\n",
    "                                if tweet_content['itemType'] == 'TimelineTweet' and 'tweet_results' in tweet_content:\n",
    "                                    tweet_info = tweet_content['tweet_results']['result']\n",
    "                                    if 'core' in tweet_info and 'user_results' in tweet_info['core']:\n",
    "                                        user_info = tweet_info['core']['user_results']['result']\n",
    "\n",
    "                                        tweet_id = tweet_info.get('rest_id', '')\n",
    "                                        user_id = user_info.get('rest_id', '')\n",
    "                                        username = user_info.get('legacy', {}).get('screen_name', '')\n",
    "                                        description = user_info.get('legacy', {}).get('description', '')\n",
    "                                        tweet_text = tweet_info.get('legacy', {}).get('full_text', '')\n",
    "                                        tweet_date = tweet_info.get('legacy', {}).get('created_at', '') \n",
    "\n",
    "                                        flattened_data.append({\n",
    "                                            'tweet_id': tweet_id,\n",
    "                                            'user_id': user_id,\n",
    "                                            'username': username,\n",
    "                                            'description': description,\n",
    "                                            'tweet_text': tweet_text,\n",
    "                                            'tweet_date': tweet_date \n",
    "                                        })\n",
    "\n",
    "    return pd.DataFrame(flattened_data)\n",
    "\n",
    "def combine_json_files_to_dataframe(directory_path):\n",
    "    all_dataframes = []  \n",
    "    for filename in os.listdir(directory_path):\n",
    "        if filename.endswith('.json'):  \n",
    "            file_path = os.path.join(directory_path, filename)\n",
    "            with open(file_path, 'r', encoding='utf-8') as file:\n",
    "                json_data = json.load(file)\n",
    "                df = json_to_dataframe(json_data)\n",
    "                all_dataframes.append(df)\n",
    "\n",
    "    combined_dataframe = pd.concat(all_dataframes, ignore_index=True)\n",
    "    return combined_dataframe\n"
   ]
  },
  {
   "cell_type": "code",
   "execution_count": 7,
   "metadata": {},
   "outputs": [],
   "source": [
    "directory_path = '../../citycouncil_tweets/data/losers'\n",
    "loser_df = combine_json_files_to_dataframe(directory_path)"
   ]
  },
  {
   "cell_type": "code",
   "execution_count": 8,
   "metadata": {},
   "outputs": [],
   "source": [
    "caban_df = tweet_df[tweet_df['full_name'] == 'Tiffany Cabán']"
   ]
  },
  {
   "cell_type": "code",
   "execution_count": 9,
   "metadata": {},
   "outputs": [
    {
     "name": "stderr",
     "output_type": "stream",
     "text": [
      "C:\\Users\\samtg\\AppData\\Local\\Temp\\ipykernel_9724\\113863004.py:1: SettingWithCopyWarning: \n",
      "A value is trying to be set on a copy of a slice from a DataFrame\n",
      "\n",
      "See the caveats in the documentation: https://pandas.pydata.org/pandas-docs/stable/user_guide/indexing.html#returning-a-view-versus-a-copy\n",
      "  caban_df.drop(columns=['Unnamed: 0'], inplace=True)\n"
     ]
    }
   ],
   "source": [
    "caban_df.drop(columns=['Unnamed: 0'], inplace=True)"
   ]
  },
  {
   "cell_type": "code",
   "execution_count": 10,
   "metadata": {},
   "outputs": [],
   "source": [
    "evie_df = loser_df[loser_df['username'] == 'evie4us']"
   ]
  },
  {
   "cell_type": "code",
   "execution_count": 11,
   "metadata": {},
   "outputs": [],
   "source": [
    "evie_df = evie_df[['tweet_date','username','tweet_text']]"
   ]
  },
  {
   "cell_type": "code",
   "execution_count": 12,
   "metadata": {},
   "outputs": [],
   "source": [
    "evie_df['full_name'] = 'Evie Hantzopoulos'"
   ]
  },
  {
   "cell_type": "code",
   "execution_count": 13,
   "metadata": {},
   "outputs": [],
   "source": [
    "evie_df.columns = ['date', 'username', 'text', 'full_name']"
   ]
  },
  {
   "cell_type": "code",
   "execution_count": 24,
   "metadata": {},
   "outputs": [],
   "source": [
    "def preprocess_text(text, stopwords):\n",
    "    text = re.sub(r'http\\S+|www\\S+|@\\w+|#\\w+', '', text.lower())  \n",
    "    text = re.sub(r'[^\\w\\s]', '', text)  \n",
    "    tokens = [word for word in text.split() if word not in stopwords]  \n",
    "    return ' '.join(tokens)"
   ]
  },
  {
   "cell_type": "code",
   "execution_count": 14,
   "metadata": {},
   "outputs": [
    {
     "name": "stderr",
     "output_type": "stream",
     "text": [
      "C:\\Users\\samtg\\AppData\\Local\\Temp\\ipykernel_9724\\3176105543.py:1: SettingWithCopyWarning: \n",
      "A value is trying to be set on a copy of a slice from a DataFrame.\n",
      "Try using .loc[row_indexer,col_indexer] = value instead\n",
      "\n",
      "See the caveats in the documentation: https://pandas.pydata.org/pandas-docs/stable/user_guide/indexing.html#returning-a-view-versus-a-copy\n",
      "  caban_df['date'] = pd.to_datetime(caban_df['date'])\n",
      "C:\\Users\\samtg\\AppData\\Local\\Temp\\ipykernel_9724\\3176105543.py:2: UserWarning: Converting to PeriodArray/Index representation will drop timezone information.\n",
      "  caban_df['month'] = caban_df['date'].dt.to_period('M')\n",
      "C:\\Users\\samtg\\AppData\\Local\\Temp\\ipykernel_9724\\3176105543.py:2: SettingWithCopyWarning: \n",
      "A value is trying to be set on a copy of a slice from a DataFrame.\n",
      "Try using .loc[row_indexer,col_indexer] = value instead\n",
      "\n",
      "See the caveats in the documentation: https://pandas.pydata.org/pandas-docs/stable/user_guide/indexing.html#returning-a-view-versus-a-copy\n",
      "  caban_df['month'] = caban_df['date'].dt.to_period('M')\n"
     ]
    }
   ],
   "source": [
    "caban_df['date'] = pd.to_datetime(caban_df['date'])\n",
    "caban_df['month'] = caban_df['date'].dt.to_period('M')"
   ]
  },
  {
   "cell_type": "code",
   "execution_count": 15,
   "metadata": {},
   "outputs": [
    {
     "name": "stderr",
     "output_type": "stream",
     "text": [
      "C:\\Users\\samtg\\AppData\\Local\\Temp\\ipykernel_9724\\2239539927.py:1: UserWarning: Could not infer format, so each element will be parsed individually, falling back to `dateutil`. To ensure parsing is consistent and as-expected, please specify a format.\n",
      "  evie_df['date'] = pd.to_datetime(evie_df['date'])\n",
      "C:\\Users\\samtg\\AppData\\Local\\Temp\\ipykernel_9724\\2239539927.py:2: UserWarning: Converting to PeriodArray/Index representation will drop timezone information.\n",
      "  evie_df['month'] = evie_df['date'].dt.to_period('M')\n"
     ]
    }
   ],
   "source": [
    "evie_df['date'] = pd.to_datetime(evie_df['date'])\n",
    "evie_df['month'] = evie_df['date'].dt.to_period('M')"
   ]
  },
  {
   "cell_type": "code",
   "execution_count": 16,
   "metadata": {},
   "outputs": [],
   "source": [
    "district_df = pd.concat([caban_df, evie_df], ignore_index=True)"
   ]
  },
  {
   "cell_type": "code",
   "execution_count": 18,
   "metadata": {},
   "outputs": [],
   "source": [
    "district_df.to_csv('../data/caban_evie_tweets.csv')"
   ]
  },
  {
   "cell_type": "markdown",
   "metadata": {},
   "source": [
    "tf-idf"
   ]
  },
  {
   "cell_type": "code",
   "execution_count": 19,
   "metadata": {},
   "outputs": [],
   "source": [
    "df = district_df.copy()"
   ]
  },
  {
   "cell_type": "code",
   "execution_count": 20,
   "metadata": {},
   "outputs": [],
   "source": [
    "df = df[df['date'] < '2021-07-01']"
   ]
  },
  {
   "cell_type": "code",
   "execution_count": 21,
   "metadata": {},
   "outputs": [
    {
     "name": "stderr",
     "output_type": "stream",
     "text": [
      "[nltk_data] Downloading package stopwords to\n",
      "[nltk_data]     C:\\Users\\samtg\\AppData\\Roaming\\nltk_data...\n",
      "[nltk_data]   Package stopwords is already up-to-date!\n"
     ]
    },
    {
     "data": {
      "text/plain": [
       "True"
      ]
     },
     "execution_count": 21,
     "metadata": {},
     "output_type": "execute_result"
    }
   ],
   "source": [
    "nltk.download('stopwords')"
   ]
  },
  {
   "cell_type": "code",
   "execution_count": 56,
   "metadata": {},
   "outputs": [],
   "source": [
    "standard_stopwords = set(stopwords.words('english'))\n",
    "custom_stopwords = {'us','day','amp','thank','new','today','us','im','get','council','district','need','great',\n",
    "                    'work','nyc','city','join','support','office','proud','time','see','public','people','happy',\n",
    "                    'make','help','many','thanks','first','must','year','one','communities','together','last',\n",
    "                    'like','please','much','york','yorkers','every','de','colleagues','event','forward','love''members',\n",
    "                     'bronx','brooklyn','manhattan','queens','staten','island','community','important','team','week',\n",
    "                      'love','continue','joined','free','tomorrow', 'years','know', 'vote','voter','voters', 'lets','back','congratulations',\n",
    "                       'campaign','endorsement', 'neighbors','honored','keep','also','good','right','sign',\n",
    "                        'local', 'look', 'still','working', 'look', 'looking', 'congressman', '15','yes','go',\n",
    "                         'south','hunts','point','1','everyone','come','stand','way','cant','well','open','would',\n",
    "                         'always','dont','better','take','workers','vaccine','elmhurst','holden','sure','22','folks',\n",
    "                         'astoria','w','use','ive','want','done','candidates','ty','maybe','morning'} \n",
    "all_stopwords = standard_stopwords.union(custom_stopwords)"
   ]
  },
  {
   "cell_type": "code",
   "execution_count": 57,
   "metadata": {},
   "outputs": [],
   "source": [
    "df['processed_text'] = df['text'].apply(lambda x: preprocess_text(x, all_stopwords))"
   ]
  },
  {
   "cell_type": "code",
   "execution_count": 58,
   "metadata": {},
   "outputs": [
    {
     "name": "stdout",
     "output_type": "stream",
     "text": [
      "[('fight', 56), ('police', 53), ('safety', 50), ('violence', 42), ('justice', 41), ('health', 40), ('housing', 40), ('plan', 37), ('movement', 35), ('care', 35), ('meeting', 35), ('safe', 29), ('black', 29), ('grateful', 29), ('real', 28), ('yall', 26), ('going', 26), ('family', 26), ('got', 25), ('lives', 25)]\n"
     ]
    }
   ],
   "source": [
    "all_words = ' '.join(df['processed_text']).split()\n",
    "word_freq = Counter(all_words)\n",
    "print(word_freq.most_common(20))"
   ]
  },
  {
   "cell_type": "code",
   "execution_count": 59,
   "metadata": {},
   "outputs": [],
   "source": [
    "name_texts = df.groupby('full_name')['processed_text'].apply(lambda x: ' '.join(x)).reset_index()"
   ]
  },
  {
   "cell_type": "code",
   "execution_count": 60,
   "metadata": {},
   "outputs": [],
   "source": [
    "tfidf_vectorizer = TfidfVectorizer()"
   ]
  },
  {
   "cell_type": "code",
   "execution_count": 41,
   "metadata": {},
   "outputs": [],
   "source": [
    "tfidf_matrix =tfidf_vectorizer.fit_transform(name_texts['processed_text'])\n",
    "tfidf_df = pd.DataFrame(tfidf_matrix.toarray(), columns=tfidf_vectorizer.get_feature_names_out(), index=name_texts['full_name'])"
   ]
  },
  {
   "cell_type": "code",
   "execution_count": 42,
   "metadata": {},
   "outputs": [],
   "source": [
    "top_n = 10 \n",
    "characteristic_words = {}\n",
    "for cluster in tfidf_df.index:\n",
    "    sorted_words = tfidf_df.loc[cluster].sort_values(ascending=False).head(top_n)\n",
    "    characteristic_words[cluster] = sorted_words.index.tolist()"
   ]
  },
  {
   "cell_type": "code",
   "execution_count": 43,
   "metadata": {},
   "outputs": [],
   "source": [
    "characteristic_words_df = pd.DataFrame(characteristic_words).T"
   ]
  },
  {
   "cell_type": "code",
   "execution_count": 44,
   "metadata": {},
   "outputs": [
    {
     "data": {
      "text/html": [
       "<div>\n",
       "<style scoped>\n",
       "    .dataframe tbody tr th:only-of-type {\n",
       "        vertical-align: middle;\n",
       "    }\n",
       "\n",
       "    .dataframe tbody tr th {\n",
       "        vertical-align: top;\n",
       "    }\n",
       "\n",
       "    .dataframe thead th {\n",
       "        text-align: right;\n",
       "    }\n",
       "</style>\n",
       "<table border=\"1\" class=\"dataframe\">\n",
       "  <thead>\n",
       "    <tr style=\"text-align: right;\">\n",
       "      <th></th>\n",
       "      <th>0</th>\n",
       "      <th>1</th>\n",
       "      <th>2</th>\n",
       "      <th>3</th>\n",
       "      <th>4</th>\n",
       "      <th>5</th>\n",
       "      <th>6</th>\n",
       "      <th>7</th>\n",
       "      <th>8</th>\n",
       "      <th>9</th>\n",
       "    </tr>\n",
       "  </thead>\n",
       "  <tbody>\n",
       "    <tr>\n",
       "      <th>Evie Hantzopoulos</th>\n",
       "      <td>meeting</td>\n",
       "      <td>housing</td>\n",
       "      <td>land</td>\n",
       "      <td>affordable</td>\n",
       "      <td>school</td>\n",
       "      <td>street</td>\n",
       "      <td>read</td>\n",
       "      <td>going</td>\n",
       "      <td>arts</td>\n",
       "      <td>set</td>\n",
       "    </tr>\n",
       "    <tr>\n",
       "      <th>Tiffany Cabán</th>\n",
       "      <td>movement</td>\n",
       "      <td>fight</td>\n",
       "      <td>police</td>\n",
       "      <td>safety</td>\n",
       "      <td>black</td>\n",
       "      <td>violence</td>\n",
       "      <td>yall</td>\n",
       "      <td>health</td>\n",
       "      <td>plan</td>\n",
       "      <td>justice</td>\n",
       "    </tr>\n",
       "  </tbody>\n",
       "</table>\n",
       "</div>"
      ],
      "text/plain": [
       "                          0        1       2           3       4         5  \\\n",
       "Evie Hantzopoulos   meeting  housing    land  affordable  school    street   \n",
       "Tiffany Cabán      movement    fight  police      safety   black  violence   \n",
       "\n",
       "                      6       7     8        9  \n",
       "Evie Hantzopoulos  read   going  arts      set  \n",
       "Tiffany Cabán      yall  health  plan  justice  "
      ]
     },
     "execution_count": 44,
     "metadata": {},
     "output_type": "execute_result"
    }
   ],
   "source": [
    "characteristic_words_df"
   ]
  },
  {
   "cell_type": "markdown",
   "metadata": {},
   "source": [
    "logistic"
   ]
  },
  {
   "cell_type": "code",
   "execution_count": 61,
   "metadata": {},
   "outputs": [
    {
     "data": {
      "text/plain": [
       "full_name\n",
       "Tiffany Cabán        837\n",
       "Evie Hantzopoulos    807\n",
       "Name: count, dtype: int64"
      ]
     },
     "execution_count": 61,
     "metadata": {},
     "output_type": "execute_result"
    }
   ],
   "source": [
    "df['full_name'].value_counts()"
   ]
  },
  {
   "cell_type": "code",
   "execution_count": 62,
   "metadata": {},
   "outputs": [],
   "source": [
    "X = df['processed_text']\n",
    "y = df['full_name']\n",
    "vectorizer = TfidfVectorizer(max_features=1000) \n",
    "X_tfidf = vectorizer.fit_transform(X)\n",
    "\n",
    "# Train-test split\n",
    "X_train, X_test, y_train, y_test = train_test_split(X_tfidf, y, test_size=0.2, random_state=42)"
   ]
  },
  {
   "cell_type": "code",
   "execution_count": 63,
   "metadata": {},
   "outputs": [
    {
     "data": {
      "text/html": [
       "<style>#sk-container-id-2 {color: black;}#sk-container-id-2 pre{padding: 0;}#sk-container-id-2 div.sk-toggleable {background-color: white;}#sk-container-id-2 label.sk-toggleable__label {cursor: pointer;display: block;width: 100%;margin-bottom: 0;padding: 0.3em;box-sizing: border-box;text-align: center;}#sk-container-id-2 label.sk-toggleable__label-arrow:before {content: \"▸\";float: left;margin-right: 0.25em;color: #696969;}#sk-container-id-2 label.sk-toggleable__label-arrow:hover:before {color: black;}#sk-container-id-2 div.sk-estimator:hover label.sk-toggleable__label-arrow:before {color: black;}#sk-container-id-2 div.sk-toggleable__content {max-height: 0;max-width: 0;overflow: hidden;text-align: left;background-color: #f0f8ff;}#sk-container-id-2 div.sk-toggleable__content pre {margin: 0.2em;color: black;border-radius: 0.25em;background-color: #f0f8ff;}#sk-container-id-2 input.sk-toggleable__control:checked~div.sk-toggleable__content {max-height: 200px;max-width: 100%;overflow: auto;}#sk-container-id-2 input.sk-toggleable__control:checked~label.sk-toggleable__label-arrow:before {content: \"▾\";}#sk-container-id-2 div.sk-estimator input.sk-toggleable__control:checked~label.sk-toggleable__label {background-color: #d4ebff;}#sk-container-id-2 div.sk-label input.sk-toggleable__control:checked~label.sk-toggleable__label {background-color: #d4ebff;}#sk-container-id-2 input.sk-hidden--visually {border: 0;clip: rect(1px 1px 1px 1px);clip: rect(1px, 1px, 1px, 1px);height: 1px;margin: -1px;overflow: hidden;padding: 0;position: absolute;width: 1px;}#sk-container-id-2 div.sk-estimator {font-family: monospace;background-color: #f0f8ff;border: 1px dotted black;border-radius: 0.25em;box-sizing: border-box;margin-bottom: 0.5em;}#sk-container-id-2 div.sk-estimator:hover {background-color: #d4ebff;}#sk-container-id-2 div.sk-parallel-item::after {content: \"\";width: 100%;border-bottom: 1px solid gray;flex-grow: 1;}#sk-container-id-2 div.sk-label:hover label.sk-toggleable__label {background-color: #d4ebff;}#sk-container-id-2 div.sk-serial::before {content: \"\";position: absolute;border-left: 1px solid gray;box-sizing: border-box;top: 0;bottom: 0;left: 50%;z-index: 0;}#sk-container-id-2 div.sk-serial {display: flex;flex-direction: column;align-items: center;background-color: white;padding-right: 0.2em;padding-left: 0.2em;position: relative;}#sk-container-id-2 div.sk-item {position: relative;z-index: 1;}#sk-container-id-2 div.sk-parallel {display: flex;align-items: stretch;justify-content: center;background-color: white;position: relative;}#sk-container-id-2 div.sk-item::before, #sk-container-id-2 div.sk-parallel-item::before {content: \"\";position: absolute;border-left: 1px solid gray;box-sizing: border-box;top: 0;bottom: 0;left: 50%;z-index: -1;}#sk-container-id-2 div.sk-parallel-item {display: flex;flex-direction: column;z-index: 1;position: relative;background-color: white;}#sk-container-id-2 div.sk-parallel-item:first-child::after {align-self: flex-end;width: 50%;}#sk-container-id-2 div.sk-parallel-item:last-child::after {align-self: flex-start;width: 50%;}#sk-container-id-2 div.sk-parallel-item:only-child::after {width: 0;}#sk-container-id-2 div.sk-dashed-wrapped {border: 1px dashed gray;margin: 0 0.4em 0.5em 0.4em;box-sizing: border-box;padding-bottom: 0.4em;background-color: white;}#sk-container-id-2 div.sk-label label {font-family: monospace;font-weight: bold;display: inline-block;line-height: 1.2em;}#sk-container-id-2 div.sk-label-container {text-align: center;}#sk-container-id-2 div.sk-container {/* jupyter's `normalize.less` sets `[hidden] { display: none; }` but bootstrap.min.css set `[hidden] { display: none !important; }` so we also need the `!important` here to be able to override the default hidden behavior on the sphinx rendered scikit-learn.org. See: https://github.com/scikit-learn/scikit-learn/issues/21755 */display: inline-block !important;position: relative;}#sk-container-id-2 div.sk-text-repr-fallback {display: none;}</style><div id=\"sk-container-id-2\" class=\"sk-top-container\"><div class=\"sk-text-repr-fallback\"><pre>LogisticRegression(max_iter=1000)</pre><b>In a Jupyter environment, please rerun this cell to show the HTML representation or trust the notebook. <br />On GitHub, the HTML representation is unable to render, please try loading this page with nbviewer.org.</b></div><div class=\"sk-container\" hidden><div class=\"sk-item\"><div class=\"sk-estimator sk-toggleable\"><input class=\"sk-toggleable__control sk-hidden--visually\" id=\"sk-estimator-id-2\" type=\"checkbox\" checked><label for=\"sk-estimator-id-2\" class=\"sk-toggleable__label sk-toggleable__label-arrow\">LogisticRegression</label><div class=\"sk-toggleable__content\"><pre>LogisticRegression(max_iter=1000)</pre></div></div></div></div></div>"
      ],
      "text/plain": [
       "LogisticRegression(max_iter=1000)"
      ]
     },
     "execution_count": 63,
     "metadata": {},
     "output_type": "execute_result"
    }
   ],
   "source": [
    "model = LogisticRegression(max_iter=1000)\n",
    "model.fit(X_train, y_train)"
   ]
  },
  {
   "cell_type": "code",
   "execution_count": 64,
   "metadata": {},
   "outputs": [
    {
     "name": "stdout",
     "output_type": "stream",
     "text": [
      "Model accuracy: 0.71\n"
     ]
    }
   ],
   "source": [
    "accuracy = model.score(X_test, y_test)\n",
    "print(f\"Model accuracy: {accuracy:.2f}\")"
   ]
  },
  {
   "cell_type": "code",
   "execution_count": 65,
   "metadata": {},
   "outputs": [],
   "source": [
    "feature_names = vectorizer.get_feature_names_out()\n",
    "coefficients = model.coef_\n",
    "\n",
    "if coefficients.shape[0] == 1:  # Binary classification\n",
    "    importance_df = pd.DataFrame(coefficients.T, index=feature_names, columns=[model.classes_[1]])\n",
    "    # Add a column for the other class (negative coefficients)\n",
    "    importance_df[model.classes_[0]] = -coefficients.T\n",
    "else:  # Multiclass classification\n",
    "    importance_df = pd.DataFrame(coefficients.T, index=feature_names, columns=model.classes_)\n"
   ]
  },
  {
   "cell_type": "code",
   "execution_count": 66,
   "metadata": {},
   "outputs": [
    {
     "name": "stdout",
     "output_type": "stream",
     "text": [
      "Top words for Evie Hantzopoulos:\n",
      "school        1.340045\n",
      "land          1.315158\n",
      "developers    1.263449\n",
      "lot           1.215782\n",
      "affordable    1.204018\n",
      "news          1.170233\n",
      "street        1.129710\n",
      "issue         1.125367\n",
      "really        1.090846\n",
      "platform      1.002170\n",
      "Name: Evie Hantzopoulos, dtype: float64\n",
      "\n",
      "Top words for Tiffany Cabán:\n",
      "movement    1.928428\n",
      "yall        1.832839\n",
      "fight       1.631922\n",
      "police      1.507899\n",
      "safety      1.441504\n",
      "black       1.274014\n",
      "talk        1.215474\n",
      "dope        1.137017\n",
      "politics    1.073495\n",
      "violence    1.044922\n",
      "Name: Tiffany Cabán, dtype: float64\n",
      "\n"
     ]
    }
   ],
   "source": [
    "for name in model.classes_:\n",
    "    print(f\"Top words for {name}:\")\n",
    "    print(importance_df[name].sort_values(ascending=False).head(10))\n",
    "    print()"
   ]
  },
  {
   "cell_type": "markdown",
   "metadata": {},
   "source": [
    "Topic specific"
   ]
  },
  {
   "cell_type": "code",
   "execution_count": 78,
   "metadata": {},
   "outputs": [],
   "source": [
    "cop_words = ['cop', 'police', 'nypd','policing','public safety','plainclothes']\n",
    "housing_words = ['housing', 'eviction', 'tenant', 'rent', 'affordable', 'developers','land','lot']"
   ]
  },
  {
   "cell_type": "code",
   "execution_count": 79,
   "metadata": {},
   "outputs": [],
   "source": [
    "housing_tweets = df[df['processed_text'].str.contains('|'.join(housing_words))]"
   ]
  },
  {
   "cell_type": "code",
   "execution_count": 68,
   "metadata": {},
   "outputs": [],
   "source": [
    "cop_tweets = df[df['processed_text'].str.contains('|'.join(cop_words))]"
   ]
  },
  {
   "cell_type": "code",
   "execution_count": 80,
   "metadata": {},
   "outputs": [
    {
     "data": {
      "text/plain": [
       "full_name\n",
       "Evie Hantzopoulos    108\n",
       "Tiffany Cabán         50\n",
       "Name: count, dtype: int64"
      ]
     },
     "execution_count": 80,
     "metadata": {},
     "output_type": "execute_result"
    }
   ],
   "source": [
    "housing_tweets['full_name'].value_counts()"
   ]
  },
  {
   "cell_type": "code",
   "execution_count": 70,
   "metadata": {},
   "outputs": [
    {
     "name": "stderr",
     "output_type": "stream",
     "text": [
      "C:\\Users\\samtg\\AppData\\Local\\Temp\\ipykernel_9724\\2330694570.py:1: SettingWithCopyWarning: \n",
      "A value is trying to be set on a copy of a slice from a DataFrame.\n",
      "Try using .loc[row_indexer,col_indexer] = value instead\n",
      "\n",
      "See the caveats in the documentation: https://pandas.pydata.org/pandas-docs/stable/user_guide/indexing.html#returning-a-view-versus-a-copy\n",
      "  cop_tweets['sentiment'] = cop_tweets['text'].apply(lambda x: sia.polarity_scores(x)['compound'])\n"
     ]
    }
   ],
   "source": [
    "cop_tweets['sentiment'] = cop_tweets['text'].apply(lambda x: sia.polarity_scores(x)['compound'])"
   ]
  },
  {
   "cell_type": "code",
   "execution_count": 81,
   "metadata": {},
   "outputs": [
    {
     "name": "stderr",
     "output_type": "stream",
     "text": [
      "C:\\Users\\samtg\\AppData\\Local\\Temp\\ipykernel_9724\\2817320284.py:1: SettingWithCopyWarning: \n",
      "A value is trying to be set on a copy of a slice from a DataFrame.\n",
      "Try using .loc[row_indexer,col_indexer] = value instead\n",
      "\n",
      "See the caveats in the documentation: https://pandas.pydata.org/pandas-docs/stable/user_guide/indexing.html#returning-a-view-versus-a-copy\n",
      "  housing_tweets['sentiment'] = housing_tweets['text'].apply(lambda x: sia.polarity_scores(x)['compound'])\n"
     ]
    }
   ],
   "source": [
    "housing_tweets['sentiment'] = housing_tweets['text'].apply(lambda x: sia.polarity_scores(x)['compound'])"
   ]
  },
  {
   "cell_type": "code",
   "execution_count": 72,
   "metadata": {},
   "outputs": [],
   "source": [
    "# change pd options to display full text\n",
    "pd.set_option('display.max_colwidth', None)"
   ]
  },
  {
   "cell_type": "code",
   "execution_count": 83,
   "metadata": {},
   "outputs": [
    {
     "data": {
      "text/html": [
       "<div>\n",
       "<style scoped>\n",
       "    .dataframe tbody tr th:only-of-type {\n",
       "        vertical-align: middle;\n",
       "    }\n",
       "\n",
       "    .dataframe tbody tr th {\n",
       "        vertical-align: top;\n",
       "    }\n",
       "\n",
       "    .dataframe thead th {\n",
       "        text-align: right;\n",
       "    }\n",
       "</style>\n",
       "<table border=\"1\" class=\"dataframe\">\n",
       "  <thead>\n",
       "    <tr style=\"text-align: right;\">\n",
       "      <th></th>\n",
       "      <th>full_name</th>\n",
       "      <th>text</th>\n",
       "      <th>sentiment</th>\n",
       "    </tr>\n",
       "  </thead>\n",
       "  <tbody>\n",
       "    <tr>\n",
       "      <th>3478</th>\n",
       "      <td>Evie Hantzopoulos</td>\n",
       "      <td>\"Why can't our land zoning process look more like participatory budgeting?\" asks @ka_hackett #HousingDist22</td>\n",
       "      <td>0.4201</td>\n",
       "    </tr>\n",
       "    <tr>\n",
       "      <th>3383</th>\n",
       "      <td>Evie Hantzopoulos</td>\n",
       "      <td>Topic: Land Use Zoning Committee 3-24-2021 Meeting  Time: March 24, 2021 06:30 PM Eastern Time (US and Canada)Join Zoom Meeting: https://t.co/GPyOxCvQ6S ID: 944 1629 9485Passcode: 858219 One tap mobile: +16465588656,,94416299485#,,,,*858219# US (New Yor</td>\n",
       "      <td>0.0000</td>\n",
       "    </tr>\n",
       "    <tr>\n",
       "      <th>3304</th>\n",
       "      <td>Evie Hantzopoulos</td>\n",
       "      <td>@Tellythecairn Ironically it was many members of the small business community who fought it but I think they would see it differently now.</td>\n",
       "      <td>-0.1655</td>\n",
       "    </tr>\n",
       "    <tr>\n",
       "      <th>2329</th>\n",
       "      <td>Tiffany Cabán</td>\n",
       "      <td>The food in Queens reigns supreme, right @jaslinforqueens? \\n\\nCome out and help us get on the ballot, then stay for the eats! \\nQGTM and the sigs!</td>\n",
       "      <td>0.7835</td>\n",
       "    </tr>\n",
       "    <tr>\n",
       "      <th>1205</th>\n",
       "      <td>Tiffany Cabán</td>\n",
       "      <td>Over $70k for just one of these NYPD robotic dogs. Meanwhile, agencies across the city that deliver essential services and programs are facing cuts. #DefundThePolice \\n\\nIf this isn’t absolutely abhorrent to you...🤯</td>\n",
       "      <td>-0.7645</td>\n",
       "    </tr>\n",
       "    <tr>\n",
       "      <th>3483</th>\n",
       "      <td>Evie Hantzopoulos</td>\n",
       "      <td>What is a rent stabilized apt? If you’re rent stabilized, the landlord doesn’t get to decide what the rent increase will be. #HousingDist22</td>\n",
       "      <td>0.3182</td>\n",
       "    </tr>\n",
       "    <tr>\n",
       "      <th>1245</th>\n",
       "      <td>Tiffany Cabán</td>\n",
       "      <td>Portland has a majority Black &amp;amp; brown City Council for 1st time in history. Now that majority is voting to combat rising gun violence, not w more police, but w millions to community based violence interruption orgs.\\n⁦@NYCCouncil⁩ ⁦@NYCMayor⁩ 👀 https://t.co/8iaaiPbzUR</td>\n",
       "      <td>-0.9306</td>\n",
       "    </tr>\n",
       "    <tr>\n",
       "      <th>2240</th>\n",
       "      <td>Tiffany Cabán</td>\n",
       "      <td>@CatalinaCruzNY is a fierce fighter for immigrant justice, tenant protections, workers rights, and incredible ally to the LGBTQ community. I am honored to receive her endorsement! #cabanforcouncil https://t.co/rRfuxIcuZl</td>\n",
       "      <td>0.8858</td>\n",
       "    </tr>\n",
       "    <tr>\n",
       "      <th>3175</th>\n",
       "      <td>Evie Hantzopoulos</td>\n",
       "      <td>Hey #NYCSchools Parents! TODAY IS THE LAST DAY TO vote in community education council (CEC) elections! If you’re a NYC public school parent with a child in K-8 you can vote: https://t.co/QY1q3BUhGa</td>\n",
       "      <td>0.0000</td>\n",
       "    </tr>\n",
       "    <tr>\n",
       "      <th>3740</th>\n",
       "      <td>Evie Hantzopoulos</td>\n",
       "      <td>CB1 Queens Land Use meeting tonight at 6:30 includes pre-cert presentation for new Hallets Cove rezoning 1400 units and 475 parking spaces. \\nhttps://t.co/63UBedlK6z</td>\n",
       "      <td>0.0000</td>\n",
       "    </tr>\n",
       "  </tbody>\n",
       "</table>\n",
       "</div>"
      ],
      "text/plain": [
       "              full_name  \\\n",
       "3478  Evie Hantzopoulos   \n",
       "3383  Evie Hantzopoulos   \n",
       "3304  Evie Hantzopoulos   \n",
       "2329      Tiffany Cabán   \n",
       "1205      Tiffany Cabán   \n",
       "3483  Evie Hantzopoulos   \n",
       "1245      Tiffany Cabán   \n",
       "2240      Tiffany Cabán   \n",
       "3175  Evie Hantzopoulos   \n",
       "3740  Evie Hantzopoulos   \n",
       "\n",
       "                                                                                                                                                                                                                                                                                  text  \\\n",
       "3478                                                                                                                                                                       \"Why can't our land zoning process look more like participatory budgeting?\" asks @ka_hackett #HousingDist22   \n",
       "3383                     Topic: Land Use Zoning Committee 3-24-2021 Meeting  Time: March 24, 2021 06:30 PM Eastern Time (US and Canada)Join Zoom Meeting: https://t.co/GPyOxCvQ6S ID: 944 1629 9485Passcode: 858219 One tap mobile: +16465588656,,94416299485#,,,,*858219# US (New Yor   \n",
       "3304                                                                                                                                        @Tellythecairn Ironically it was many members of the small business community who fought it but I think they would see it differently now.   \n",
       "2329                                                                                                                               The food in Queens reigns supreme, right @jaslinforqueens? \\n\\nCome out and help us get on the ballot, then stay for the eats! \\nQGTM and the sigs!   \n",
       "1205                                                           Over $70k for just one of these NYPD robotic dogs. Meanwhile, agencies across the city that deliver essential services and programs are facing cuts. #DefundThePolice \\n\\nIf this isn’t absolutely abhorrent to you...🤯   \n",
       "3483                                                                                                                                       What is a rent stabilized apt? If you’re rent stabilized, the landlord doesn’t get to decide what the rent increase will be. #HousingDist22   \n",
       "1245  Portland has a majority Black &amp; brown City Council for 1st time in history. Now that majority is voting to combat rising gun violence, not w more police, but w millions to community based violence interruption orgs.\\n⁦@NYCCouncil⁩ ⁦@NYCMayor⁩ 👀 https://t.co/8iaaiPbzUR   \n",
       "2240                                                      @CatalinaCruzNY is a fierce fighter for immigrant justice, tenant protections, workers rights, and incredible ally to the LGBTQ community. I am honored to receive her endorsement! #cabanforcouncil https://t.co/rRfuxIcuZl   \n",
       "3175                                                                             Hey #NYCSchools Parents! TODAY IS THE LAST DAY TO vote in community education council (CEC) elections! If you’re a NYC public school parent with a child in K-8 you can vote: https://t.co/QY1q3BUhGa   \n",
       "3740                                                                                                             CB1 Queens Land Use meeting tonight at 6:30 includes pre-cert presentation for new Hallets Cove rezoning 1400 units and 475 parking spaces. \\nhttps://t.co/63UBedlK6z   \n",
       "\n",
       "      sentiment  \n",
       "3478     0.4201  \n",
       "3383     0.0000  \n",
       "3304    -0.1655  \n",
       "2329     0.7835  \n",
       "1205    -0.7645  \n",
       "3483     0.3182  \n",
       "1245    -0.9306  \n",
       "2240     0.8858  \n",
       "3175     0.0000  \n",
       "3740     0.0000  "
      ]
     },
     "execution_count": 83,
     "metadata": {},
     "output_type": "execute_result"
    }
   ],
   "source": [
    "housing_tweets[['full_name', 'text', 'sentiment']].sample(10)"
   ]
  },
  {
   "cell_type": "markdown",
   "metadata": {},
   "source": [
    "bi-gram"
   ]
  },
  {
   "cell_type": "code",
   "execution_count": 89,
   "metadata": {},
   "outputs": [],
   "source": [
    "vectorizer = CountVectorizer(ngram_range=(2, 2), stop_words='english')\n",
    "X_bigrams = vectorizer.fit_transform(df['text'])"
   ]
  },
  {
   "cell_type": "code",
   "execution_count": 90,
   "metadata": {},
   "outputs": [],
   "source": [
    "bigram_df = pd.DataFrame(X_bigrams.toarray(), columns=vectorizer.get_feature_names_out())\n",
    "bigram_df['full_name'] = df['full_name']\n",
    "bigram_summary = bigram_df.groupby('full_name').sum()"
   ]
  },
  {
   "cell_type": "markdown",
   "metadata": {},
   "source": [
    "rf"
   ]
  },
  {
   "cell_type": "code",
   "execution_count": 92,
   "metadata": {},
   "outputs": [],
   "source": [
    "from sklearn.ensemble import RandomForestClassifier"
   ]
  },
  {
   "cell_type": "code",
   "execution_count": 93,
   "metadata": {},
   "outputs": [
    {
     "data": {
      "text/html": [
       "<style>#sk-container-id-3 {color: black;}#sk-container-id-3 pre{padding: 0;}#sk-container-id-3 div.sk-toggleable {background-color: white;}#sk-container-id-3 label.sk-toggleable__label {cursor: pointer;display: block;width: 100%;margin-bottom: 0;padding: 0.3em;box-sizing: border-box;text-align: center;}#sk-container-id-3 label.sk-toggleable__label-arrow:before {content: \"▸\";float: left;margin-right: 0.25em;color: #696969;}#sk-container-id-3 label.sk-toggleable__label-arrow:hover:before {color: black;}#sk-container-id-3 div.sk-estimator:hover label.sk-toggleable__label-arrow:before {color: black;}#sk-container-id-3 div.sk-toggleable__content {max-height: 0;max-width: 0;overflow: hidden;text-align: left;background-color: #f0f8ff;}#sk-container-id-3 div.sk-toggleable__content pre {margin: 0.2em;color: black;border-radius: 0.25em;background-color: #f0f8ff;}#sk-container-id-3 input.sk-toggleable__control:checked~div.sk-toggleable__content {max-height: 200px;max-width: 100%;overflow: auto;}#sk-container-id-3 input.sk-toggleable__control:checked~label.sk-toggleable__label-arrow:before {content: \"▾\";}#sk-container-id-3 div.sk-estimator input.sk-toggleable__control:checked~label.sk-toggleable__label {background-color: #d4ebff;}#sk-container-id-3 div.sk-label input.sk-toggleable__control:checked~label.sk-toggleable__label {background-color: #d4ebff;}#sk-container-id-3 input.sk-hidden--visually {border: 0;clip: rect(1px 1px 1px 1px);clip: rect(1px, 1px, 1px, 1px);height: 1px;margin: -1px;overflow: hidden;padding: 0;position: absolute;width: 1px;}#sk-container-id-3 div.sk-estimator {font-family: monospace;background-color: #f0f8ff;border: 1px dotted black;border-radius: 0.25em;box-sizing: border-box;margin-bottom: 0.5em;}#sk-container-id-3 div.sk-estimator:hover {background-color: #d4ebff;}#sk-container-id-3 div.sk-parallel-item::after {content: \"\";width: 100%;border-bottom: 1px solid gray;flex-grow: 1;}#sk-container-id-3 div.sk-label:hover label.sk-toggleable__label {background-color: #d4ebff;}#sk-container-id-3 div.sk-serial::before {content: \"\";position: absolute;border-left: 1px solid gray;box-sizing: border-box;top: 0;bottom: 0;left: 50%;z-index: 0;}#sk-container-id-3 div.sk-serial {display: flex;flex-direction: column;align-items: center;background-color: white;padding-right: 0.2em;padding-left: 0.2em;position: relative;}#sk-container-id-3 div.sk-item {position: relative;z-index: 1;}#sk-container-id-3 div.sk-parallel {display: flex;align-items: stretch;justify-content: center;background-color: white;position: relative;}#sk-container-id-3 div.sk-item::before, #sk-container-id-3 div.sk-parallel-item::before {content: \"\";position: absolute;border-left: 1px solid gray;box-sizing: border-box;top: 0;bottom: 0;left: 50%;z-index: -1;}#sk-container-id-3 div.sk-parallel-item {display: flex;flex-direction: column;z-index: 1;position: relative;background-color: white;}#sk-container-id-3 div.sk-parallel-item:first-child::after {align-self: flex-end;width: 50%;}#sk-container-id-3 div.sk-parallel-item:last-child::after {align-self: flex-start;width: 50%;}#sk-container-id-3 div.sk-parallel-item:only-child::after {width: 0;}#sk-container-id-3 div.sk-dashed-wrapped {border: 1px dashed gray;margin: 0 0.4em 0.5em 0.4em;box-sizing: border-box;padding-bottom: 0.4em;background-color: white;}#sk-container-id-3 div.sk-label label {font-family: monospace;font-weight: bold;display: inline-block;line-height: 1.2em;}#sk-container-id-3 div.sk-label-container {text-align: center;}#sk-container-id-3 div.sk-container {/* jupyter's `normalize.less` sets `[hidden] { display: none; }` but bootstrap.min.css set `[hidden] { display: none !important; }` so we also need the `!important` here to be able to override the default hidden behavior on the sphinx rendered scikit-learn.org. See: https://github.com/scikit-learn/scikit-learn/issues/21755 */display: inline-block !important;position: relative;}#sk-container-id-3 div.sk-text-repr-fallback {display: none;}</style><div id=\"sk-container-id-3\" class=\"sk-top-container\"><div class=\"sk-text-repr-fallback\"><pre>RandomForestClassifier(random_state=42)</pre><b>In a Jupyter environment, please rerun this cell to show the HTML representation or trust the notebook. <br />On GitHub, the HTML representation is unable to render, please try loading this page with nbviewer.org.</b></div><div class=\"sk-container\" hidden><div class=\"sk-item\"><div class=\"sk-estimator sk-toggleable\"><input class=\"sk-toggleable__control sk-hidden--visually\" id=\"sk-estimator-id-3\" type=\"checkbox\" checked><label for=\"sk-estimator-id-3\" class=\"sk-toggleable__label sk-toggleable__label-arrow\">RandomForestClassifier</label><div class=\"sk-toggleable__content\"><pre>RandomForestClassifier(random_state=42)</pre></div></div></div></div></div>"
      ],
      "text/plain": [
       "RandomForestClassifier(random_state=42)"
      ]
     },
     "execution_count": 93,
     "metadata": {},
     "output_type": "execute_result"
    }
   ],
   "source": [
    "rf_model = RandomForestClassifier(n_estimators=100, random_state=42)\n",
    "rf_model.fit(X_train, y_train)"
   ]
  },
  {
   "cell_type": "code",
   "execution_count": 95,
   "metadata": {},
   "outputs": [],
   "source": [
    "feature_importances = rf_model.feature_importances_\n"
   ]
  },
  {
   "cell_type": "code",
   "execution_count": 97,
   "metadata": {},
   "outputs": [],
   "source": [
    "feature_importances_df = pd.DataFrame({'feature': feature_names, 'importance': feature_importances})"
   ]
  },
  {
   "cell_type": "code",
   "execution_count": 100,
   "metadata": {},
   "outputs": [
    {
     "data": {
      "text/html": [
       "<div>\n",
       "<style scoped>\n",
       "    .dataframe tbody tr th:only-of-type {\n",
       "        vertical-align: middle;\n",
       "    }\n",
       "\n",
       "    .dataframe tbody tr th {\n",
       "        vertical-align: top;\n",
       "    }\n",
       "\n",
       "    .dataframe thead th {\n",
       "        text-align: right;\n",
       "    }\n",
       "</style>\n",
       "<table border=\"1\" class=\"dataframe\">\n",
       "  <thead>\n",
       "    <tr style=\"text-align: right;\">\n",
       "      <th></th>\n",
       "      <th>feature</th>\n",
       "      <th>importance</th>\n",
       "    </tr>\n",
       "  </thead>\n",
       "  <tbody>\n",
       "    <tr>\n",
       "      <th>583</th>\n",
       "      <td>movement</td>\n",
       "      <td>0.017092</td>\n",
       "    </tr>\n",
       "    <tr>\n",
       "      <th>987</th>\n",
       "      <td>yall</td>\n",
       "      <td>0.015717</td>\n",
       "    </tr>\n",
       "    <tr>\n",
       "      <th>315</th>\n",
       "      <td>fight</td>\n",
       "      <td>0.014675</td>\n",
       "    </tr>\n",
       "    <tr>\n",
       "      <th>670</th>\n",
       "      <td>police</td>\n",
       "      <td>0.011614</td>\n",
       "    </tr>\n",
       "    <tr>\n",
       "      <th>773</th>\n",
       "      <td>safety</td>\n",
       "      <td>0.009169</td>\n",
       "    </tr>\n",
       "    <tr>\n",
       "      <th>478</th>\n",
       "      <td>land</td>\n",
       "      <td>0.008497</td>\n",
       "    </tr>\n",
       "    <tr>\n",
       "      <th>785</th>\n",
       "      <td>school</td>\n",
       "      <td>0.007579</td>\n",
       "    </tr>\n",
       "    <tr>\n",
       "      <th>883</th>\n",
       "      <td>talk</td>\n",
       "      <td>0.007557</td>\n",
       "    </tr>\n",
       "    <tr>\n",
       "      <th>557</th>\n",
       "      <td>meeting</td>\n",
       "      <td>0.007108</td>\n",
       "    </tr>\n",
       "    <tr>\n",
       "      <th>857</th>\n",
       "      <td>street</td>\n",
       "      <td>0.006597</td>\n",
       "    </tr>\n",
       "  </tbody>\n",
       "</table>\n",
       "</div>"
      ],
      "text/plain": [
       "      feature  importance\n",
       "583  movement    0.017092\n",
       "987      yall    0.015717\n",
       "315     fight    0.014675\n",
       "670    police    0.011614\n",
       "773    safety    0.009169\n",
       "478      land    0.008497\n",
       "785    school    0.007579\n",
       "883      talk    0.007557\n",
       "557   meeting    0.007108\n",
       "857    street    0.006597"
      ]
     },
     "execution_count": 100,
     "metadata": {},
     "output_type": "execute_result"
    }
   ],
   "source": [
    "feature_importances_df.sort_values('importance', ascending=False).head(10)"
   ]
  }
 ],
 "metadata": {
  "kernelspec": {
   "display_name": "Python 3",
   "language": "python",
   "name": "python3"
  },
  "language_info": {
   "codemirror_mode": {
    "name": "ipython",
    "version": 3
   },
   "file_extension": ".py",
   "mimetype": "text/x-python",
   "name": "python",
   "nbconvert_exporter": "python",
   "pygments_lexer": "ipython3",
   "version": "3.11.4"
  }
 },
 "nbformat": 4,
 "nbformat_minor": 2
}
