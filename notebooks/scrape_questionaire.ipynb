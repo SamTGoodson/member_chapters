{
 "cells": [
  {
   "cell_type": "code",
   "execution_count": 6,
   "metadata": {},
   "outputs": [],
   "source": [
    "import pandas as pd\n",
    "import requests\n",
    "from bs4 import BeautifulSoup\n",
    "import re"
   ]
  },
  {
   "cell_type": "code",
   "execution_count": 2,
   "metadata": {},
   "outputs": [],
   "source": [
    "districts_to_scrape = [38, 35]"
   ]
  },
  {
   "cell_type": "code",
   "execution_count": 9,
   "metadata": {},
   "outputs": [],
   "source": [
    "news_index_url = \"https://jimowles.org/questionnaires\""
   ]
  },
  {
   "cell_type": "code",
   "execution_count": 10,
   "metadata": {},
   "outputs": [],
   "source": [
    "response = requests.get(news_index_url)\n",
    "if response.status_code != 200:\n",
    "    print(f\"Failed to retrieve the news index page. Status code: {response.status_code}\")\n",
    "    exit()"
   ]
  },
  {
   "cell_type": "code",
   "execution_count": 11,
   "metadata": {},
   "outputs": [],
   "source": [
    "soup = BeautifulSoup(response.text, 'html.parser')"
   ]
  },
  {
   "cell_type": "code",
   "execution_count": 12,
   "metadata": {},
   "outputs": [],
   "source": [
    "candidate_links = []\n",
    "for a in soup.find_all('a', href=True):\n",
    "    href = a['href']\n",
    "    if \"candidate-answers-to-joldc\" in href:\n",
    "        match = re.search(r\"district-(\\d+)\", href)\n",
    "        if match:\n",
    "            district = int(match.group(1))\n",
    "            if district in districts_to_scrape:\n",
    "                candidate_links.append(href)\n"
   ]
  },
  {
   "cell_type": "code",
   "execution_count": 13,
   "metadata": {},
   "outputs": [
    {
     "data": {
      "text/plain": [
       "['/news/candidate-answers-to-joldc-crystal-hudson-for-city-council-district-35-2025',\n",
       " '/news/candidate-answers-to-joldc-crystal-hudson-for-city-council-district-35-2025',\n",
       " '/news/candidate-answers-to-joldc-alexa-aviles-for-city-council-district-38-2023',\n",
       " '/news/candidate-answers-to-joldc-alexa-aviles-for-city-council-district-38-2023',\n",
       " '/news/candidate-answers-to-joldc-crystal-hudson-for-city-council-district-35-2023',\n",
       " '/news/candidate-answers-to-joldc-crystal-hudson-for-city-council-district-35-2023',\n",
       " '/news/candidate-answers-to-joldc-gustavo-rivera-for-ny-senate-district-35-2022',\n",
       " '/news/candidate-answers-to-joldc-gustavo-rivera-for-ny-senate-district-35-2022',\n",
       " '/news/candidate-answers-to-joldc-crystal-hudson-for-city-council-district-35',\n",
       " '/news/candidate-answers-to-joldc-crystal-hudson-for-city-council-district-35',\n",
       " '/news/candidate-answers-to-joldc-alexa-avils-for-city-council-district-38',\n",
       " '/news/candidate-answers-to-joldc-alexa-avils-for-city-council-district-38',\n",
       " '/news/candidate-answers-to-joldc-rodrigo-camarena-for-city-council-district-38',\n",
       " '/news/candidate-answers-to-joldc-rodrigo-camarena-for-city-council-district-38',\n",
       " '/news/candidate-answers-to-joldc-jacqui-painter-for-city-council-district-38',\n",
       " '/news/candidate-answers-to-joldc-jacqui-painter-for-city-council-district-38',\n",
       " '/news/candidate-answers-to-joldc-catalina-cruz-for-ny-assembly-district-38',\n",
       " '/news/candidate-answers-to-joldc-catalina-cruz-for-ny-assembly-district-38']"
      ]
     },
     "execution_count": 13,
     "metadata": {},
     "output_type": "execute_result"
    }
   ],
   "source": [
    "candidate_links"
   ]
  }
 ],
 "metadata": {
  "kernelspec": {
   "display_name": "Python 3",
   "language": "python",
   "name": "python3"
  },
  "language_info": {
   "codemirror_mode": {
    "name": "ipython",
    "version": 3
   },
   "file_extension": ".py",
   "mimetype": "text/x-python",
   "name": "python",
   "nbconvert_exporter": "python",
   "pygments_lexer": "ipython3",
   "version": "3.11.4"
  }
 },
 "nbformat": 4,
 "nbformat_minor": 2
}
